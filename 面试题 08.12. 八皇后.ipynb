{
 "cells": [
  {
   "cell_type": "code",
   "execution_count": null,
   "metadata": {},
   "outputs": [],
   "source": [
    "class Solution(object):\n",
    "    def solveNQueens(self, n):\n",
    "        \"\"\"\n",
    "        :type n: int\n",
    "        :rtype: List[List[str]]\n",
    "        \"\"\"\n",
    "        self.res = []\n",
    "        self.n = n\n",
    "        self._dfs(0, set(), set(), set(), [])\n",
    "        return self.res\n",
    "\n",
    "    def _dfs(self, level, col, pie, na, par):\n",
    "        if level == self.n:\n",
    "            self.res.append(par)\n",
    "            return\n",
    "        for i in range(self.n):\n",
    "            if i not in col and i-level not in pie and i+level not in na:\n",
    "                self._dfs(level+1, col|{i}, pie|{i-level}, na|{i+level}, par+[\".\"*i+\"Q\"+\".\"*(self.n-i-1)])"
   ]
  },
  {
   "cell_type": "code",
   "execution_count": null,
   "metadata": {},
   "outputs": [],
   "source": [
    "class Solution(object):\n",
    "    def solveNQueens(self, n):\n",
    "        \"\"\"\n",
    "        :type n: int\n",
    "        :rtype: List[List[str]]\n",
    "        \"\"\"\n",
    "        self.res = []\n",
    "        self.n = n\n",
    "        self._dfs(0, 0, 0, 0, [])\n",
    "        return self.res\n",
    "    \n",
    "    def _dfs(self, level, col, pie, na, par):\n",
    "        if level == self.n:\n",
    "            self.res.append(par)\n",
    "            return\n",
    "\n",
    "        bits = (~(col|pie|na))&((1<<self.n)-1)\n",
    "\n",
    "        while bits:\n",
    "            p = bits & -bits\n",
    "            self._dfs(level+1, col|p, (pie|p)<<1, (na|p)>>1, par+[\"\".join([\".Q\" [p>>q==1] for q in range(self.n)])])\n",
    "            bits = bits & (bits-1)"
   ]
  }
 ],
 "metadata": {
  "language_info": {
   "name": "python"
  },
  "orig_nbformat": 4
 },
 "nbformat": 4,
 "nbformat_minor": 2
}
