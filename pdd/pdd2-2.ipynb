{
 "cells": [
  {
   "cell_type": "code",
   "execution_count": null,
   "metadata": {},
   "outputs": [],
   "source": [
    "import sys\n",
    "from collections import defaultdict\n",
    "\n",
    "if __name__ == \"__main__\":\n",
    "    import sys\n",
    "\n",
    "if __name__ == \"__main__\":\n",
    "    t = int(sys.stdin.readline().strip())\n",
    "    direction = [1, -1]\n",
    "    for _ in range(t):\n",
    "        n = int(sys.stdin.readline().strip())\n",
    "        graph = defaultdict(list)\n",
    "        out = [-1 for _ in range(n)]\n",
    "        out_recall = set()\n",
    "        for i in range(n):\n",
    "            d, num = sys.stdin.readline().strip().split()\n",
    "            num = int(num)\n",
    "            if d == 'L':\n",
    "                d = -1\n",
    "            elif d == 'R':\n",
    "                d = 1\n",
    "            else:\n",
    "                print \"error type\"\n",
    "\n",
    "            jump_to = i + d * num\n",
    "            if jump_to < 0 or jump_to >= n:\n",
    "                out[i] = 1\n",
    "                out_recall.add(i)\n",
    "            else:\n",
    "                graph[jump_to].append(i)\n",
    "        \n",
    "        for o in out_recall:\n",
    "            queue = graph[o]\n",
    "            level = 1\n",
    "            while len(queue) > 0:\n",
    "                tmp = queue[:]\n",
    "                queue = []\n",
    "                while len(tmp) > 0:\n",
    "                    jump_out = tmp.pop()\n",
    "                    out[jump_out] = level+1\n",
    "                    queue.extend(graph[jump_out])\n",
    "                level += 1\n",
    "        \n",
    "        print \" \".join(out)\n",
    "\n",
    "            \n"
   ]
  }
 ],
 "metadata": {
  "kernelspec": {
   "display_name": "Python 3.7.2 64-bit",
   "language": "python",
   "name": "python3"
  },
  "language_info": {
   "name": "python",
   "version": "3.7.2"
  },
  "orig_nbformat": 4,
  "vscode": {
   "interpreter": {
    "hash": "0a54084e6b208ee8d1ce3989ffc20924477a5f55f5a43e22e699a6741623861e"
   }
  }
 },
 "nbformat": 4,
 "nbformat_minor": 2
}
