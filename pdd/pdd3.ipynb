{
 "cells": [
  {
   "cell_type": "code",
   "execution_count": null,
   "metadata": {},
   "outputs": [],
   "source": [
    "#coding=utf-8\n",
    "# 本题为考试多行输入输出规范示例，无需提交，不计分。\n",
    "import sys\n",
    "from collections import OrderedDict\n",
    "if __name__ == \"__main__\":\n",
    "    # 读取第一行的n\n",
    "    n = int(sys.stdin.readline().strip())\n",
    "    line = sys.stdin.readline().strip()\n",
    "    # 把每一行的数字分隔后转化成int列表\n",
    "    values = list(map(int, line.split()))\n",
    "    p = []\n",
    "    last = OrderedDict()\n",
    "    s = []\n",
    "    count = 0\n",
    "    for i, v in enumerate(values):\n",
    "        if v == 0:\n",
    "            if len(p) > 0:\n",
    "                a = p.pop(0)\n",
    "                count += abs(i-a)\n",
    "            else:\n",
    "                s.append(i)\n",
    "        if v == 1:\n",
    "            if len(s) > 0:\n",
    "                count += abs(i-s.pop())\n",
    "            else:\n",
    "                p.append(i)\n",
    "    print(count)\n",
    "        \n"
   ]
  },
  {
   "cell_type": "code",
   "execution_count": null,
   "metadata": {},
   "outputs": [],
   "source": [
    "from collections import OrderedDict\n",
    "\n",
    "a = OrderedDict()"
   ]
  }
 ],
 "metadata": {
  "language_info": {
   "name": "python"
  },
  "orig_nbformat": 4
 },
 "nbformat": 4,
 "nbformat_minor": 2
}
