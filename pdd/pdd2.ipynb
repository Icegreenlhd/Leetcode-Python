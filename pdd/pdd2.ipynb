{
 "cells": [
  {
   "cell_type": "code",
   "execution_count": 6,
   "metadata": {},
   "outputs": [
    {
     "ename": "KeyboardInterrupt",
     "evalue": "",
     "output_type": "error",
     "traceback": [
      "\u001b[0;31m---------------------------------------------------------------------------\u001b[0m",
      "\u001b[0;31mKeyboardInterrupt\u001b[0m                         Traceback (most recent call last)",
      "\u001b[0;32m/tmp/ipykernel_1086214/1317398305.py\u001b[0m in \u001b[0;36m<module>\u001b[0;34m\u001b[0m\n\u001b[1;32m      7\u001b[0m \u001b[0;32mif\u001b[0m \u001b[0m__name__\u001b[0m \u001b[0;34m==\u001b[0m \u001b[0;34m\"__main__\"\u001b[0m\u001b[0;34m:\u001b[0m\u001b[0;34m\u001b[0m\u001b[0;34m\u001b[0m\u001b[0m\n\u001b[1;32m      8\u001b[0m     \u001b[0;31m# 读取第一行的n\u001b[0m\u001b[0;34m\u001b[0m\u001b[0;34m\u001b[0m\u001b[0;34m\u001b[0m\u001b[0m\n\u001b[0;32m----> 9\u001b[0;31m     \u001b[0mal\u001b[0m \u001b[0;34m=\u001b[0m \u001b[0mint\u001b[0m\u001b[0;34m(\u001b[0m\u001b[0msys\u001b[0m\u001b[0;34m.\u001b[0m\u001b[0mstdin\u001b[0m\u001b[0;34m.\u001b[0m\u001b[0mreadline\u001b[0m\u001b[0;34m(\u001b[0m\u001b[0;34m)\u001b[0m\u001b[0;34m.\u001b[0m\u001b[0mstrip\u001b[0m\u001b[0;34m(\u001b[0m\u001b[0;34m)\u001b[0m\u001b[0;34m)\u001b[0m\u001b[0;34m\u001b[0m\u001b[0;34m\u001b[0m\u001b[0m\n\u001b[0m\u001b[1;32m     10\u001b[0m     \u001b[0;32mfor\u001b[0m \u001b[0mi\u001b[0m \u001b[0;32min\u001b[0m \u001b[0mrange\u001b[0m\u001b[0;34m(\u001b[0m\u001b[0mal\u001b[0m\u001b[0;34m)\u001b[0m\u001b[0;34m:\u001b[0m\u001b[0;34m\u001b[0m\u001b[0;34m\u001b[0m\u001b[0m\n\u001b[1;32m     11\u001b[0m         \u001b[0;31m# 读取每一行\u001b[0m\u001b[0;34m\u001b[0m\u001b[0;34m\u001b[0m\u001b[0;34m\u001b[0m\u001b[0m\n",
      "\u001b[0;31mKeyboardInterrupt\u001b[0m: "
     ]
    }
   ],
   "source": [
    "class LinkNode(object):\n",
    "    def __init__(self, val=0, next=None):\n",
    "        self.val = val\n",
    "        self.next = next\n",
    "\n",
    "import sys\n",
    "if __name__ == \"__main__\":\n",
    "    # 读取第一行的n\n",
    "    al = int(sys.stdin.readline().strip())\n",
    "    for i in range(al):\n",
    "        # 读取每一行\n",
    "        line = sys.stdin.readline().strip()\n",
    "        # 把每一行的数字分隔后转化成int列表\n",
    "        n, m = list(map(int, line.split()))\n",
    "        linklist = []\n",
    "        lengthlist = []\n",
    "        for j in range(m):\n",
    "            line = sys.stdin.readline().strip()\n",
    "            a = list(map(int, line.split()))\n",
    "            tmp = LinkNode(a[1]) if a[0] > 0 else None\n",
    "            linklist.append(tmp)\n",
    "            lengthlist.append([a[0], j])\n",
    "            for i in range(2, a[0]+1):\n",
    "                tmp.next = LinkNode(a[i])\n",
    "                tmp = tmp.next\n",
    "        rec = dict()\n",
    "        lengthlist.sort()\n",
    "        visit = [i[1] for i in lengthlist]\n",
    "        while visit:\n",
    "            i = visit.pop(0)\n",
    "            while linklist[i] is not None and linklist[i].val in rec.keys():\n",
    "                l = rec.pop(linklist[i].val)\n",
    "                linklist[l] = linklist[l].next\n",
    "                linklist[i] = linklist[i].next\n",
    "                if linklist[l] is not None:\n",
    "                    visit.append(l)\n",
    "            if linklist[i] is not None:\n",
    "                rec[linklist[i].val] = i\n",
    "        for i in linklist:\n",
    "            if i is not None:\n",
    "                print(\"no\")\n",
    "                break\n",
    "        else:\n",
    "            print(\"yes\")"
   ]
  },
  {
   "cell_type": "code",
   "execution_count": 5,
   "metadata": {},
   "outputs": [
    {
     "name": "stdout",
     "output_type": "stream",
     "text": [
      "yes\n"
     ]
    }
   ],
   "source": [
    "class LinkNode(object):\n",
    "    def __init__(self, val=0, next=None):\n",
    "        self.val = val\n",
    "        self.next = next\n",
    "\n",
    "import sys\n",
    "if __name__ == \"__main__\":\n",
    "    # 读取第一行的n\n",
    "    al = int(1)\n",
    "    for i in range(al):\n",
    "        # 读取每一行\n",
    "        line = \"2 2\"\n",
    "        # 把每一行的数字分隔后转化成int列表\n",
    "        n, m = list(map(int, line.split()))\n",
    "        linklist = []\n",
    "        lines = [\"2 1 2\", \"2 2 1\"]\n",
    "        for j in range(m):\n",
    "            line = lines[j]\n",
    "            a = list(map(int, line.split()))\n",
    "            tmp = LinkNode(a[1]) if a[0] > 0 else None\n",
    "            linklist.append(tmp)\n",
    "            for i in range(2, a[0]+1):\n",
    "                tmp.next = LinkNode(a[i])\n",
    "                tmp = tmp.next\n",
    "        rec = dict()\n",
    "        visit = list(range(m))\n",
    "        while visit:\n",
    "            i = visit.pop(0)\n",
    "            while linklist[i] is not None and linklist[i].val in rec.keys():\n",
    "                l = rec.pop(linklist[i].val)\n",
    "                linklist[l] = linklist[l].next\n",
    "                linklist[i] = linklist[i].next\n",
    "                if linklist[l] is not None:\n",
    "                    visit.append(l)\n",
    "            if linklist[i] is not None:\n",
    "                rec[linklist[i].val] = i\n",
    "        for i in linklist:\n",
    "            if i is not None:\n",
    "                print(\"no\")\n",
    "                break\n",
    "        else:\n",
    "            print(\"yes\")"
   ]
  },
  {
   "cell_type": "code",
   "execution_count": 3,
   "metadata": {},
   "outputs": [
    {
     "data": {
      "text/plain": [
       "[[1, 2], [2, 1]]"
      ]
     },
     "execution_count": 3,
     "metadata": {},
     "output_type": "execute_result"
    }
   ],
   "source": [
    "length = [[2, 1], [1, 2]]\n",
    "sorted(length)"
   ]
  }
 ],
 "metadata": {
  "interpreter": {
   "hash": "8f10c23deeb0cc051b43c04ce2b4596f0d971a59bcf6ff8a8b744177b024b55d"
  },
  "kernelspec": {
   "display_name": "Python 3.7.10 ('osfir')",
   "language": "python",
   "name": "python3"
  },
  "language_info": {
   "codemirror_mode": {
    "name": "ipython",
    "version": 3
   },
   "file_extension": ".py",
   "mimetype": "text/x-python",
   "name": "python",
   "nbconvert_exporter": "python",
   "pygments_lexer": "ipython3",
   "version": "3.7.10"
  },
  "orig_nbformat": 4
 },
 "nbformat": 4,
 "nbformat_minor": 2
}
