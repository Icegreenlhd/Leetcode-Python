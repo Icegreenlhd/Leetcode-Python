{
 "cells": [
  {
   "cell_type": "code",
   "execution_count": null,
   "metadata": {},
   "outputs": [],
   "source": [
    "import sys\n",
    "if __name__ == \"__main__\":\n",
    "    # 读取第一行的n\n",
    "    n = int(sys.stdin.readline().strip())\n",
    "    line = sys.stdin.readline().strip()\n",
    "    # 把每一行的数字分隔后转化成int列表\n",
    "    values = list(map(int, line.split()))\n",
    "    m = n-1\n",
    "    ans = [0]\n",
    "    for i in range(len(values)-2, -1, -1):\n",
    "        for j in range(len(values)-1, i, -1):\n",
    "            if values[j] < values[i]:\n",
    "                ans.append(j-i)\n",
    "                break\n",
    "        else:\n",
    "            ans.append(0)\n",
    "    ans.reverse()\n",
    "    print(\" \".join(list(map(str, ans))))\n"
   ]
  }
 ],
 "metadata": {
  "language_info": {
   "name": "python"
  },
  "orig_nbformat": 4
 },
 "nbformat": 4,
 "nbformat_minor": 2
}
