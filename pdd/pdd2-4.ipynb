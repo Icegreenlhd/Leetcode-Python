{
 "cells": [
  {
   "cell_type": "code",
   "execution_count": null,
   "metadata": {},
   "outputs": [],
   "source": [
    "# 时间来不及, 最终能用的版本\n",
    "import sys\n",
    "if __name__ == \"__main__\":\n",
    "    # 读取第一行的n\n",
    "    n, c, r = list(map(int, sys.stdin.readline().strip().split()))\n",
    "    scores = []\n",
    "    for i in range(int(n)):\n",
    "        _, score = sys.stdin.readline().strip().split()\n",
    "        scores.append(int(score))\n",
    "    scores.sort()\n",
    "    duoduo_score = scores[int(r)]\n",
    "    duoduo_kaochang = (int(r)-1) // int(c)\n",
    "\n",
    "    all_kaochang = n // c + 1\n",
    "    square_scores = []\n",
    "\n",
    "    for i in range(all_kaochang-1):\n",
    "        if i == duoduo_kaochang:\n",
    "            continue\n",
    "        score_count = sum(scores[i*c:(i+1)*c])\n",
    "        square_scores.append(float(score_count)/c)\n",
    "    square_count = sum(square_scores+[duoduo_score])\n",
    "    out = square_count / (all_kaochang-1)\n",
    "    i = all_kaochang - 1\n",
    "    kaochang_num = len(scores[i*c:min((i+1)*c, n)])\n",
    "    scores.extend((c-kaochang_num)*[out])\n",
    "    square_scores = float(sum(scores[i*c:(i+1)*c]))/c\n",
    "    out = ((out * (all_kaochang - 1)) + square_scores)/all_kaochang\n",
    "\n",
    "    \n",
    "    print(f\"{out:.2f}\")"
   ]
  }
 ],
 "metadata": {
  "kernelspec": {
   "display_name": "Python 3.7.2 64-bit",
   "language": "python",
   "name": "python3"
  },
  "language_info": {
   "name": "python",
   "version": "3.7.2"
  },
  "orig_nbformat": 4,
  "vscode": {
   "interpreter": {
    "hash": "0a54084e6b208ee8d1ce3989ffc20924477a5f55f5a43e22e699a6741623861e"
   }
  }
 },
 "nbformat": 4,
 "nbformat_minor": 2
}
