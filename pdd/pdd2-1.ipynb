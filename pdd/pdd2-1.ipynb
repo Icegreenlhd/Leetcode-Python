{
 "cells": [
  {
   "cell_type": "code",
   "execution_count": null,
   "metadata": {},
   "outputs": [],
   "source": [
    "import sys\n",
    "if __name__ == \"__main__\":\n",
    "    # 读取第一行的n\n",
    "    t = int(sys.stdin.readline().strip())\n",
    "    ans = 0\n",
    "    for _ in range(t):\n",
    "        # 读取每一行\n",
    "        n, k = map(int, sys.stdin.readline().strip().split())\n",
    "        # 把每一行的数字分隔后转化成int列表\n",
    "\n",
    "        letters = list(sys.stdin.readline().strip())\n",
    "        for i in range(n):\n",
    "            letters[i] = ord(letters[i]) - ord('a')\n",
    "        \n",
    "        start = 0 \n",
    "        max_letter = -1\n",
    "        while start < n and letters[start] <= k:\n",
    "            max_letter = letters[start]\n",
    "            letters[start] = 0\n",
    "            start += 1\n",
    "        if max_letter > 0:\n",
    "            k = k - max_letter\n",
    "            for i in range(start, n):\n",
    "                if letters[i] <= max_letter:\n",
    "                    letters[i] = 0\n",
    "        \n",
    "        if k > 0 and start < n:\n",
    "            large_letter = letters[start]\n",
    "            for i in range(start, n):\n",
    "                if large_letter-k < letters[i] <= large_letter:\n",
    "                    letters[i] = large_letter-k\n",
    "        \n",
    "        for i in range(n):\n",
    "            letters[i] = chr(letters[i] + ord('a'))\n",
    "\n",
    "        print(''.join(letters))\n",
    "\n",
    "    "
   ]
  }
 ],
 "metadata": {
  "kernelspec": {
   "display_name": "Python 3.7.2 64-bit",
   "language": "python",
   "name": "python3"
  },
  "language_info": {
   "name": "python",
   "version": "3.7.2"
  },
  "orig_nbformat": 4,
  "vscode": {
   "interpreter": {
    "hash": "0a54084e6b208ee8d1ce3989ffc20924477a5f55f5a43e22e699a6741623861e"
   }
  }
 },
 "nbformat": 4,
 "nbformat_minor": 2
}
