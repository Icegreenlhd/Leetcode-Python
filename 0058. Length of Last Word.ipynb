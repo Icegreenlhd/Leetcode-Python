{
 "cells": [
  {
   "cell_type": "markdown",
   "id": "dbcf520f",
   "metadata": {
    "lines_to_next_cell": 2
   },
   "source": [
    "Given a string s consists of upper/lower-case alphabets and empty space characters ' ', return the length of last word (last word means the last appearing word if we loop from left to right) in the string.\n",
    "\n",
    "If the last word does not exist, return 0.\n",
    "\n",
    "Note: A word is defined as a maximal substring consisting of non-space characters only.\n",
    "\n",
    "Example:\n",
    "\n",
    "Input: \"Hello World\"\n",
    "Output: 5"
   ]
  },
  {
   "cell_type": "code",
   "execution_count": null,
   "id": "798a18f0",
   "metadata": {
    "lines_to_next_cell": 1
   },
   "outputs": [],
   "source": [
    "class Solution(object):\n",
    "    def lengthOfLastWord(self, s):\n",
    "        \"\"\"\n",
    "        :type s: str\n",
    "        :rtype: int\n",
    "        \"\"\"\n",
    "        s_list = s.split(\" \")\n",
    "        for i in range(len(s_list)-1, -1, -1):\n",
    "            if len(s_list[i]) > 0:\n",
    "                return len(s_list[i])\n",
    "        else:\n",
    "            return 0"
   ]
  },
  {
   "cell_type": "code",
   "execution_count": null,
   "id": "3eeddd6b",
   "metadata": {},
   "outputs": [],
   "source": [
    "import unittest\n",
    "\n",
    "\n",
    "class LeetcodeTest0058(unittest.TestCase):\n",
    "    solution = Solution()\n",
    "\n",
    "    def test_case1(self):\n",
    "        test_input = \"Hello world\"\n",
    "        test_output = 5\n",
    "        self.assertEqual(self.solution.lengthOfLastWord(test_input), test_output)\n",
    "        \n",
    "    def test_case2(self):\n",
    "        test_input = \"\"\n",
    "        test_output = 0\n",
    "        self.assertEqual(self.solution.lengthOfLastWord(test_input), test_output)\n",
    "    \n",
    "    def test_case3(self):\n",
    "        test_input = \"aaa\"\n",
    "        test_output = 3\n",
    "        self.assertEqual(self.solution.lengthOfLastWord(test_input), test_output)\n",
    "\n",
    "    def test_case4(self):\n",
    "        test_input = \"a \"\n",
    "        test_output = 1\n",
    "        self.assertEqual(self.solution.lengthOfLastWord(test_input), test_output)\n",
    "\n",
    "    def test_case5(self):\n",
    "        test_input = \"a aa\"\n",
    "        test_output = 2\n",
    "        self.assertEqual(self.solution.lengthOfLastWord(test_input), test_output)\n",
    "\n",
    "\n",
    "unittest.main(argv=['ignored', '-v'], exit=False)"
   ]
  }
 ],
 "metadata": {
  "jupytext": {
   "formats": "ipynb,py"
  },
  "kernelspec": {
   "display_name": "Python 3",
   "language": "python",
   "name": "python3"
  }
 },
 "nbformat": 4,
 "nbformat_minor": 5
}
