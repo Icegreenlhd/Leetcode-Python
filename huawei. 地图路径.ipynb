{
 "cells": [
  {
   "cell_type": "code",
   "execution_count": 16,
   "metadata": {},
   "outputs": [],
   "source": [
    "dx, dy = (-1, 1, 0, 0), (0, 0, -1, 1)\n",
    "class Solution(object):\n",
    "    def travelShort(self, maps, begin, end):\n",
    "        self.m, self.n = len(maps), len(maps[0])\n",
    "        self.visited = [[0 for _ in range(self.n)] for _ in range(self.m)]\n",
    "        # self.visited[begin[0]][begin[1]] = 1\n",
    "        self.end = end\n",
    "        self.maps = maps\n",
    "        self.count = 0\n",
    "        self.level = float('inf')\n",
    "        self.dfs(begin[0], begin[1], 0)\n",
    "        return self.count, self.level\n",
    "    \n",
    "    def dfs(self, i, j, level):\n",
    "        if self.maps[i][j] == -1:  # 遇到湖山\n",
    "            return\n",
    "        if self.visited[i][j] == 1:\n",
    "            return\n",
    "        if i == self.end[0] and j == self.end[1]:\n",
    "            if self.level > level:\n",
    "                self.count = 1\n",
    "                self.level = level\n",
    "            elif level == self.level:\n",
    "                self.count += 1\n",
    "            return\n",
    "        for k in range(4):\n",
    "            ix, iy = i+dx[k], j+dy[k]\n",
    "            if  0 <= ix < self.m and 0 <= iy < self.n:\n",
    "                self.visited[i][j] = 1\n",
    "                self.dfs(ix, iy, level+1)\n",
    "                self.visited[i][j] = 0"
   ]
  },
  {
   "cell_type": "code",
   "execution_count": 17,
   "metadata": {},
   "outputs": [
    {
     "name": "stderr",
     "output_type": "stream",
     "text": [
      "test_case1 (__main__.LeetcodeTest) ... ok\n",
      "\n",
      "----------------------------------------------------------------------\n",
      "Ran 1 test in 0.006s\n",
      "\n",
      "OK\n"
     ]
    },
    {
     "data": {
      "text/plain": [
       "<unittest.main.TestProgram at 0x7f049cc58510>"
      ]
     },
     "execution_count": 17,
     "metadata": {},
     "output_type": "execute_result"
    }
   ],
   "source": [
    "import unittest\n",
    "\n",
    "\n",
    "class LeetcodeTest(unittest.TestCase):\n",
    "    solution = getattr(Solution(), dir(Solution)[-1])\n",
    "\n",
    "    def test_case1(self):\n",
    "        grid = [[0 for _ in range(5)] for _ in range(5)]\n",
    "        grid[2][2] = -1\n",
    "        begin = (0, 1)\n",
    "        end = (3, 3)\n",
    "        test_input = (grid, begin, end)\n",
    "        test_output = 4, 5\n",
    "        self.assertEqual(self.solution(*test_input), test_output)\n",
    "\n",
    "unittest.main(argv=['ignored', '-v'], exit=False)"
   ]
  }
 ],
 "metadata": {
  "interpreter": {
   "hash": "8f10c23deeb0cc051b43c04ce2b4596f0d971a59bcf6ff8a8b744177b024b55d"
  },
  "kernelspec": {
   "display_name": "Python 3.7.10 ('osfir')",
   "language": "python",
   "name": "python3"
  },
  "language_info": {
   "codemirror_mode": {
    "name": "ipython",
    "version": 3
   },
   "file_extension": ".py",
   "mimetype": "text/x-python",
   "name": "python",
   "nbconvert_exporter": "python",
   "pygments_lexer": "ipython3",
   "version": "3.7.10"
  },
  "orig_nbformat": 4
 },
 "nbformat": 4,
 "nbformat_minor": 2
}
