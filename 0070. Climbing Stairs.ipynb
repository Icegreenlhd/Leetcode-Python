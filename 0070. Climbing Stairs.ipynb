{
 "cells": [
  {
   "cell_type": "code",
   "execution_count": null,
   "id": "773e913e",
   "metadata": {},
   "outputs": [],
   "source": [
    "class Solution(object):\n",
    "    def climbStairs(self, n):\n",
    "        \"\"\"\n",
    "        :type n: int\n",
    "        :rtype: int\n",
    "        \"\"\"\n",
    "        if n <= 2: return n\n",
    "\n",
    "        climbs = [1 for _ in range(n+1)]\n",
    "\n",
    "        for i in range(2, n+1):\n",
    "            climbs[i] = climbs[i-1] + climbs[i-2]\n",
    "        return climbs[-1]"
   ]
  },
  {
   "cell_type": "code",
   "execution_count": null,
   "id": "aeca9915",
   "metadata": {},
   "outputs": [],
   "source": [
    "import unittest\n",
    "\n",
    "\n",
    "class LeetcodeTest(unittest.TestCase):\n",
    "    solution = getattr(Solution(), dir(Solution)[-1])\n",
    "\n",
    "    def test_case1(self):\n",
    "        test_input = 3\n",
    "        test_output = 3\n",
    "        self.assertEqual(self.solution(test_input), test_output)\n",
    "\n",
    "unittest.main(argv=['ignored', '-v'], exit=False)"
   ]
  },
  {
   "cell_type": "markdown",
   "id": "ffa05f8f",
   "metadata": {},
   "source": [
    "# my solution 1, recursion \n",
    "- Time: O(2^n)"
   ]
  },
  {
   "cell_type": "code",
   "execution_count": null,
   "id": "27320588",
   "metadata": {},
   "outputs": [],
   "source": [
    "class Solution(object):\n",
    "    result = 0\n",
    "    def climbStairs(self, n):\n",
    "        \"\"\"\n",
    "        :type n: int\n",
    "        :rtype: int\n",
    "        \"\"\"\n",
    "        self.climb(n)\n",
    "        return self.result\n",
    "    \n",
    "    def climb(self, n):\n",
    "        if n <= 0:\n",
    "            self.result = self.result + 1 if n == 0 else self.result\n",
    "            return \n",
    "        \n",
    "        for i in range(1,3):\n",
    "            self.climbStairs(n-i)"
   ]
  },
  {
   "cell_type": "markdown",
   "id": "7b1d69fb",
   "metadata": {},
   "source": [
    "# Jake's solution\n",
    "Dynamic programming.  Base cases of no ways for n <= 0, 1 way for n == 1 and 2 ways for n == 2.\n",
    "For each additional step, the number of ways is taking one step from the previous step + taking two steps from the\n",
    "step before that. Result is a Fibonacci sequence.\n",
    "- Time - O(n)\n",
    "- Space - O(1)"
   ]
  },
  {
   "cell_type": "code",
   "execution_count": null,
   "id": "711eaa0b",
   "metadata": {},
   "outputs": [],
   "source": [
    "class Solution(object):\n",
    "    def climbStairs(self, n):\n",
    "        \"\"\"\n",
    "        :type n: int\n",
    "        :rtype: int\n",
    "        \"\"\"\n",
    "        if n <= 0:\n",
    "            return 0\n",
    "        if n <= 2:\n",
    "            return n\n",
    "\n",
    "        stairs, prev = 2, 1         # 2 ways to reach second step, one way to reach first\n",
    "        for _ in range(3, n + 1):\n",
    "            stairs, prev = stairs + prev, stairs\n",
    "\n",
    "        return stairs"
   ]
  }
 ],
 "metadata": {
  "jupytext": {
   "formats": "ipynb,py"
  },
  "kernelspec": {
   "display_name": "Python 3",
   "language": "python",
   "name": "python3"
  },
  "language_info": {
   "codemirror_mode": {
    "name": "ipython",
    "version": 3
   },
   "file_extension": ".py",
   "mimetype": "text/x-python",
   "name": "python",
   "nbconvert_exporter": "python",
   "pygments_lexer": "ipython3",
   "version": "3.7.10"
  }
 },
 "nbformat": 4,
 "nbformat_minor": 5
}
