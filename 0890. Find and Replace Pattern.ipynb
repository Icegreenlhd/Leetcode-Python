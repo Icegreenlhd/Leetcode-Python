{
 "cells": [
  {
   "cell_type": "code",
   "execution_count": null,
   "metadata": {},
   "outputs": [],
   "source": [
    "from collections import defaultdict\n",
    "class Solution(object):\n",
    "    def findAndReplacePattern(self, words, pattern):\n",
    "        \"\"\"\n",
    "        :type words: List[str]\n",
    "        :type pattern: str\n",
    "        :rtype: List[str]\n",
    "        \"\"\"\n",
    "        p = self.get_pattern(pattern)\n",
    "        res = []\n",
    "        for word in words:\n",
    "            if self.get_pattern(word) == p:\n",
    "                res.append(word)\n",
    "        return res\n",
    "\n",
    "    def get_pattern(self, pattern):\n",
    "        p = defaultdict(int)\n",
    "        cnt = 0\n",
    "        res = \"\"\n",
    "        for ch in pattern:\n",
    "            if ch not in p:\n",
    "                cnt += 1\n",
    "                p[ch] = cnt\n",
    "            res += chr(ord('a')+p[ch]-1)\n",
    "        return res"
   ]
  }
 ],
 "metadata": {
  "language_info": {
   "name": "python"
  },
  "orig_nbformat": 4
 },
 "nbformat": 4,
 "nbformat_minor": 2
}
