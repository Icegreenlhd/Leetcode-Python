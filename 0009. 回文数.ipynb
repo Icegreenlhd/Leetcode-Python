{
 "cells": [
  {
   "cell_type": "markdown",
   "id": "0da1156a",
   "metadata": {},
   "source": [
    "判断一个整数是否是回文数。回文数是指正序（从左向右）和倒序（从右向左）读都是一样的整数。\n",
    "\n",
    "示例 1:\n",
    "\n",
    "输入: 121\n",
    "输出: true\n",
    "示例 2:\n",
    "\n",
    "输入: -121\n",
    "输出: false\n",
    "解释: 从左向右读, 为 -121 。 从右向左读, 为 121- 。因此它不是一个回文数。\n",
    "示例 3:\n",
    "\n",
    "输入: 10\n",
    "输出: false\n",
    "解释: 从右向左读, 为 01 。因此它不是一个回文数。\n",
    "进阶:\n",
    "\n",
    "你能不将整数转为字符串来解决这个问题吗？\n",
    "\n",
    "来源：力扣（LeetCode）\n",
    "链接：https://leetcode-cn.com/problems/palindrome-number\n",
    "著作权归领扣网络所有。商业转载请联系官方授权，非商业转载请注明出处。"
   ]
  },
  {
   "cell_type": "code",
   "execution_count": null,
   "id": "5a45bb8d",
   "metadata": {},
   "outputs": [],
   "source": [
    "# my solution1, change to string to solve the problem\n",
    "class Solution(object):\n",
    "    def isPalindrome(self, x):\n",
    "        \"\"\"\n",
    "        :type x: int\n",
    "        :rtype: bool\n",
    "        \"\"\"\n",
    "        if x < 0:\n",
    "            return False\n",
    "        elif x < 10:\n",
    "            return True\n",
    "\n",
    "        x = str(x)\n",
    "\n",
    "        for i in range(len(x)//2):\n",
    "            if x[i] != x[len(x)-1-i]:\n",
    "                return False\n",
    "        return True"
   ]
  },
  {
   "cell_type": "code",
   "execution_count": null,
   "id": "10ad377c",
   "metadata": {},
   "outputs": [],
   "source": [
    "# my solution2, by int operation\n",
    "class Solution(object):\n",
    "    def isPalindrome(self, x):\n",
    "        \"\"\"\n",
    "        :type x: int\n",
    "        :rtype: bool\n",
    "        \"\"\"\n",
    "        if x < 0:\n",
    "            return False\n",
    "        elif x < 10:\n",
    "            return True\n",
    "        \n",
    "        x_t = x\n",
    "        palin = 0\n",
    "        \n",
    "        while x_t > 0:\n",
    "            palin = palin * 10 + x_t % 10\n",
    "            x_t //= 10\n",
    "            \n",
    "        return palin == x"
   ]
  },
  {
   "cell_type": "code",
   "execution_count": null,
   "id": "a58d6cd1",
   "metadata": {},
   "outputs": [],
   "source": [
    "# Jake's solution\n",
    "class Solution(object):\n",
    "    def isPalindrome(self, x):\n",
    "        \"\"\"\n",
    "        :type x: int\n",
    "        :rtype: bool\n",
    "        \"\"\"\n",
    "        s = str(x)\n",
    "        left, right = 0, len(s)-1\n",
    "\n",
    "        while left < right:\n",
    "            if s[left] != s[right]:\n",
    "                return False\n",
    "            left += 1\n",
    "            right -=1\n",
    "\n",
    "        return True"
   ]
  },
  {
   "cell_type": "code",
   "execution_count": null,
   "id": "6067afa4",
   "metadata": {},
   "outputs": [],
   "source": [
    "# test\n",
    "x = 100\n",
    "solution = Solution()\n",
    "solution.isPalindrome(x)"
   ]
  }
 ],
 "metadata": {
  "jupytext": {
   "formats": "ipynb,py"
  },
  "kernelspec": {
   "display_name": "Python 3",
   "language": "python",
   "name": "python3"
  }
 },
 "nbformat": 4,
 "nbformat_minor": 5
}
