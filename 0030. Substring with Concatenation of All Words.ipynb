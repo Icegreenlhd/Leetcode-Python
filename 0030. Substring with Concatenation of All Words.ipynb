{
 "cells": [
  {
   "cell_type": "markdown",
   "id": "9b8ac36c",
   "metadata": {},
   "source": [
    "You are given a string, s, and a list of words, words, that are all of the same length. Find all starting indices of substring(s) in s that is a concatenation of each word in words exactly once and without any intervening characters.\n",
    "\n",
    " \n",
    "\n",
    "Example 1:\n",
    "```\n",
    "Input:\n",
    "  s = \"barfoothefoobarman\",\n",
    "  words = [\"foo\",\"bar\"]\n",
    "Output: [0,9]\n",
    "Explanation: Substrings starting at index 0 and 9 are \"barfoo\" and \"foobar\" respectively.\n",
    "The output order does not matter, returning [9,0] is fine too.\n",
    "```\n",
    "Example 2:\n",
    "```\n",
    "Input:\n",
    "  s = \"wordgoodgoodgoodbestword\",\n",
    "  words = [\"word\",\"good\",\"best\",\"word\"]\n",
    "Output: []\n",
    "```"
   ]
  },
  {
   "cell_type": "code",
   "execution_count": null,
   "id": "740901c8",
   "metadata": {
    "vscode": {
     "languageId": "python"
    }
   },
   "outputs": [],
   "source": [
    "class Solution(object):\n",
    "    def findSubstring(self, s, words):\n",
    "        \"\"\"\n",
    "        :type s: str\n",
    "        :type words: List[str]\n",
    "        :rtype: List[int]\n",
    "        \"\"\"\n",
    "        n = len(words[0])\n",
    "        ans = []\n",
    "        i = 0\n",
    "        while i+n*len(words) <= len(s):\n",
    "            tmp = words[:]\n",
    "            if s[i:i+n] in tmp:\n",
    "                j = i\n",
    "                while len(tmp) > 0:\n",
    "                    tmp.remove(s[j:j+n])\n",
    "                    j+=n\n",
    "                    if s[j:j+n] not in tmp:\n",
    "                        break\n",
    "                if len(tmp) == 0:\n",
    "                    ans.append(i)\n",
    "            i += 1\n",
    "        return ans\n",
    "                        "
   ]
  },
  {
   "cell_type": "code",
   "execution_count": null,
   "id": "b01d09af",
   "metadata": {
    "vscode": {
     "languageId": "python"
    }
   },
   "outputs": [],
   "source": [
    "# my solution1, 滑动窗口\n",
    "class Solution(object):\n",
    "    def findSubstring(self, s, words):\n",
    "        \"\"\"\n",
    "        :type s: str\n",
    "        :type words: List[str]\n",
    "        :rtype: List[int]\n",
    "        \"\"\"\n",
    "        if not words:\n",
    "            return []\n",
    "        elif \"\" in words:\n",
    "            return list(range(len(s)+1))\n",
    "\n",
    "        length = len(words) * len(words[0])\n",
    "        result = []\n",
    "        index = 0\n",
    "\n",
    "        while len(s[index:]) >= length:\n",
    "            temp = words[:]\n",
    "            i = index\n",
    "            while s[i: i+len(words[0])] in temp:\n",
    "                temp.remove(s[i: i+len(words[0])])\n",
    "                i += len(words[0])\n",
    "            if not temp:\n",
    "                result.append(index)\n",
    "            index += 1\n",
    "            \n",
    "        return result"
   ]
  },
  {
   "cell_type": "code",
   "execution_count": null,
   "id": "ce313d04",
   "metadata": {
    "vscode": {
     "languageId": "python"
    }
   },
   "outputs": [],
   "source": [
    "# my solution2, 滑动窗口2.0\n",
    "class Solution(object):\n",
    "    def findSubstring(self, s, words):\n",
    "        \"\"\"\n",
    "        :type s: str\n",
    "        :type words: List[str]\n",
    "        :rtype: List[int]\n",
    "        \"\"\"\n",
    "        if not words:\n",
    "            return []\n",
    "        elif \"\" in words:\n",
    "            return list(range(len(s)+1))\n",
    "\n",
    "        word_len = len(words[0])\n",
    "        result = []\n",
    "\n",
    "        for stripe in range(len(words[0])):\n",
    "            to_match = len(words)\n",
    "            i = stripe\n",
    "            temp = words[:]\n",
    "            while i + to_match*word_len <= len(s):\n",
    "                word = s[i: i+word_len]\n",
    "                \n",
    "                if word in temp:\n",
    "                    temp.remove(word)\n",
    "                    i += word_len\n",
    "                    to_match -= 1\n",
    "                    if not temp:\n",
    "                        result.append(i-len(words)*word_len)\n",
    "                    \n",
    "                elif to_match != len(words):\n",
    "                    nb_matches = len(words) - to_match\n",
    "                    temp.append(s[i-nb_matches*word_len:i-(nb_matches-1)*word_len])\n",
    "                    to_match += 1\n",
    "                    \n",
    "                else:\n",
    "                    i += word_len\n",
    "\n",
    "        return result"
   ]
  },
  {
   "cell_type": "code",
   "execution_count": null,
   "id": "7dda7284",
   "metadata": {
    "vscode": {
     "languageId": "python"
    }
   },
   "outputs": [],
   "source": [
    "_author_ = 'jake'\n",
    "_project_ = 'leetcode'\n",
    "\n",
    "# https://leetcode.com/problems/substring-with-concatenation-of-all-words/\n",
    "# You are given a string, s, and a list of words, words, that are all of the same length.\n",
    "# Find all starting indices of substring(s) in s that is a concatenation of each word in words exactly once\n",
    "# and without any intervening characters.\n",
    "\n",
    "# For each stripe, maintain a sliding window of matched words.\n",
    "# Time - O(n) where n = len(s).  word_len stripes, each of which we move the start or end of the matched window\n",
    "# forwards n / word_len times.\n",
    "# Space - O(len(words)*word_len) for dictionary\n",
    "\n",
    "from collections import Counter\n",
    "\n",
    "class Solution(object):\n",
    "    def findSubstring(self, s, words):\n",
    "        \"\"\"\n",
    "        :type s: str\n",
    "        :type words: List[str]\n",
    "        :rtype: List[int]\n",
    "        \"\"\"\n",
    "        if not words:\n",
    "            return []\n",
    "        elif \"\" in words:\n",
    "            return list(range(len(s)+1))\n",
    "        result = []\n",
    "        word_len = len(words[0])\n",
    "\n",
    "        for stripe in range(word_len):  # each stripe starts at a different position in s, modulo word_len\n",
    "\n",
    "            i = stripe                  # the next index in s that we want to match a word\n",
    "            to_match = len(words)       # number of words still to be matched\n",
    "            freq = Counter(words)       # frequency of each words to be matched\n",
    "\n",
    "            while i + to_match*word_len <= len(s):  # remainder of s is long enough to hold remaining unmatched words\n",
    "\n",
    "                word = s[i:i+word_len]   # next part of s attempting to be matched\n",
    "                if word in freq:         # match, decrement freq count\n",
    "                    freq[word] -= 1\n",
    "                    if freq[word] == 0:\n",
    "                        del freq[word]\n",
    "                    to_match -= 1\n",
    "                    i += word_len\n",
    "                    if to_match == 0:               # all matched\n",
    "                        result.append(i - word_len*len(words))\n",
    "\n",
    "                elif to_match != len(words):        # some words have been matched\n",
    "                    nb_matches = len(words) - to_match\n",
    "                    first_word = s[i - nb_matches*word_len:i - (nb_matches-1)*word_len]\n",
    "                    freq.setdefault(first_word, 0)  # put first word matched back in dictionary\n",
    "                    freq[first_word] += 1\n",
    "                    to_match += 1\n",
    "\n",
    "                else:                               # no words matched\n",
    "                    i += word_len\n",
    "\n",
    "        return result"
   ]
  },
  {
   "cell_type": "code",
   "execution_count": null,
   "id": "0185d2a3",
   "metadata": {
    "vscode": {
     "languageId": "python"
    }
   },
   "outputs": [],
   "source": [
    "\"wordgoodgoodgoodbestword\"\n",
    "[\"word\",\"good\",\"best\",\"word\"]\n",
    "\n",
    "\"barfoothefoobarman\"\n",
    "[\"foo\",\"bar\"]\n",
    "\n",
    "\"\"\n",
    "[\"foo\"]\n",
    "\n",
    "\"\"\n",
    "[\"\"]"
   ]
  },
  {
   "cell_type": "code",
   "execution_count": null,
   "id": "775eedf8",
   "metadata": {
    "vscode": {
     "languageId": "python"
    }
   },
   "outputs": [],
   "source": [
    "from collections import Counter\n",
    "\n",
    "c = Counter(cats=4, dogs=8)\n",
    "list(c.elements())\n",
    "c.most_common(2)"
   ]
  }
 ],
 "metadata": {
  "jupytext": {
   "formats": "ipynb,py"
  },
  "kernelspec": {
   "display_name": "Python 3",
   "language": "python",
   "name": "python3"
  }
 },
 "nbformat": 4,
 "nbformat_minor": 5
}
