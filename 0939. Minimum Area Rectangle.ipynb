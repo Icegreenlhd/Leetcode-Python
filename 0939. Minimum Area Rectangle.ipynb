{
 "cells": [
  {
   "cell_type": "code",
   "execution_count": null,
   "metadata": {},
   "outputs": [],
   "source": [
    "# 暴力搜索, 94/137, 超时\n",
    "class Solution(object):\n",
    "    def minAreaRect(self, points):\n",
    "        \"\"\"\n",
    "        :type points: List[List[int]]\n",
    "        :rtype: int\n",
    "        \"\"\"\n",
    "        points.sort()\n",
    "        self.n = len(points)\n",
    "        self.points = points\n",
    "        \n",
    "\n",
    "        self.min_area = float('inf')\n",
    "        for i in range(self.n):\n",
    "            for j in range(i+1, self.n):\n",
    "                if points[j][0] > points[i][0]:\n",
    "                    break\n",
    "                if points[i][0] == points[j][0]:\n",
    "                    self.find_rect(i, j)\n",
    "        return 0 if self.min_area == float('inf') else self.min_area\n",
    "                    \n",
    "    def find_rect(self, i, j):\n",
    "        for k in range(j+1, self.n):\n",
    "            if self.points[k][1] == self.points[i][1]:\n",
    "                for l in range(k+1, self.n):\n",
    "                    if self.points[l][0] > self.points[k][0]:\n",
    "                        break\n",
    "                    if self.points[l][1] == self.points[j][1]:\n",
    "                        self.min_area = min((self.points[l][1]-self.points[i][1])*(self.points[l][0]-self.points[i][0]), self.min_area)\n",
    "                        return"
   ]
  },
  {
   "cell_type": "code",
   "execution_count": null,
   "metadata": {},
   "outputs": [],
   "source": [
    "# hashmap, pass\n",
    "\n",
    "class Solution(object):\n",
    "    def minAreaRect(self, points):\n",
    "        \"\"\"\n",
    "        :type points: List[List[int]]\n",
    "        :rtype: int\n",
    "        \"\"\"\n",
    "        points.sort()\n",
    "        self.n = len(points)\n",
    "        vertex = dict()\n",
    "        min_area = float('inf')\n",
    "        for i in range(self.n):\n",
    "            for j in range(i+1, self.n):\n",
    "                if points[i][0] < points[j][0]:\n",
    "                    break\n",
    "                else:\n",
    "                    if (points[i][1], points[j][1]) in vertex:\n",
    "                        min_area = min((points[j][1]-points[i][1])*(points[i][0]-vertex[(points[i][1], points[j][1])]), min_area)\n",
    "                    vertex[(points[i][1], points[j][1])] = points[i][0]\n",
    "        return min_area if min_area != float('inf') else 0\n",
    "                    "
   ]
  },
  {
   "cell_type": "code",
   "execution_count": null,
   "metadata": {},
   "outputs": [],
   "source": [
    "import unittest\n",
    "\n",
    "\n",
    "class LeetcodeTest(unittest.TestCase):\n",
    "    solution = getattr(Solution(), dir(Solution)[-1])\n",
    "\n",
    "    def test_case1(self):\n",
    "        test_input = [[3,2],[3,1],[4,4],[1,1],[4,3],[0,3],[0,2],[4,0]]\n",
    "        test_output = 0\n",
    "        self.assertEqual(self.solution(test_input), test_output)\n",
    "\n",
    "unittest.main(argv=['ignored', '-v'], exit=False)"
   ]
  }
 ],
 "metadata": {
  "interpreter": {
   "hash": "8f10c23deeb0cc051b43c04ce2b4596f0d971a59bcf6ff8a8b744177b024b55d"
  },
  "kernelspec": {
   "display_name": "Python 3.7.10 ('osfir')",
   "language": "python",
   "name": "python3"
  },
  "language_info": {
   "codemirror_mode": {
    "name": "ipython",
    "version": 3
   },
   "file_extension": ".py",
   "mimetype": "text/x-python",
   "name": "python",
   "nbconvert_exporter": "python",
   "pygments_lexer": "ipython3",
   "version": "3.7.10"
  },
  "orig_nbformat": 4
 },
 "nbformat": 4,
 "nbformat_minor": 2
}
