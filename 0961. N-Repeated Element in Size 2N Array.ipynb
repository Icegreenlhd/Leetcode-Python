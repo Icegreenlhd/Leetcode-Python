{
 "cells": [
  {
   "cell_type": "code",
   "execution_count": null,
   "metadata": {},
   "outputs": [],
   "source": [
    "# 排序判断法\n",
    "class Solution(object):\n",
    "    def repeatedNTimes(self, nums):\n",
    "        \"\"\"\n",
    "        :type nums: List[int]\n",
    "        :rtype: int\n",
    "        \"\"\"\n",
    "        if len(nums) <= 0: return -1\n",
    "        nums.sort()\n",
    "\n",
    "        n = len(nums)\n",
    "        if nums[n/2-1] != nums[n/2]:\n",
    "            if nums[n/2-1] == nums[0]:\n",
    "                return nums[0]\n",
    "            else:\n",
    "                return nums[-1]\n",
    "        else:\n",
    "            return nums[n/2-1]\n",
    "         "
   ]
  },
  {
   "cell_type": "code",
   "execution_count": null,
   "metadata": {},
   "outputs": [],
   "source": [
    "# 哈希表法\n",
    "class Solution(object):\n",
    "    def repeatedNTimes(self, nums):\n",
    "        \"\"\"\n",
    "        :type nums: List[int]\n",
    "        :rtype: int\n",
    "        \"\"\"\n",
    "        rec  = set()\n",
    "\n",
    "        for n in nums:\n",
    "            if n in rec:\n",
    "                return n\n",
    "            rec.add(n)\n",
    "        return -1"
   ]
  },
  {
   "cell_type": "code",
   "execution_count": null,
   "metadata": {},
   "outputs": [],
   "source": [
    "# 数学间隔法\n",
    "\"\"\"\n",
    "假定相同元素间隔两个,n为此元素个数,那么总计n+(2n-2)=3n-2,当n>2时与总数2n矛盾,当n=2时成立,\n",
    "此题限制间隔数只能不超过一个.\n",
    "\"\"\"\n",
    "class Solution(object):\n",
    "    def repeatedNTimes(self, nums):\n",
    "        \"\"\"\n",
    "        :type nums: List[int]\n",
    "        :rtype: int\n",
    "        \"\"\"\n",
    "        n = len(nums)\n",
    "        if n < 4:\n",
    "            return -1\n",
    "        slice = (1,4) if n==4 else (1,3)\n",
    "        for g in range(slice):\n",
    "            for i in range(0, n-g):\n",
    "                if nums[i] == nums[i+g]:\n",
    "                    return nums[i]\n"
   ]
  },
  {
   "cell_type": "code",
   "execution_count": null,
   "metadata": {},
   "outputs": [],
   "source": [
    "# 随机方法,期望o(1)\n",
    "import random\n",
    "class Solution(object):\n",
    "    def repeatedNTimes(self, nums):\n",
    "        \"\"\"\n",
    "        :type nums: List[int]\n",
    "        :rtype: int\n",
    "        \"\"\"\n",
    "        n = len(nums)\n",
    "\n",
    "        while True:\n",
    "            x, y = random.randrange(n), random.randrange(n)\n",
    "            if x != y and nums[x] == nums[y]:\n",
    "                return nums[x]"
   ]
  }
 ],
 "metadata": {
  "language_info": {
   "name": "python"
  },
  "orig_nbformat": 4
 },
 "nbformat": 4,
 "nbformat_minor": 2
}
