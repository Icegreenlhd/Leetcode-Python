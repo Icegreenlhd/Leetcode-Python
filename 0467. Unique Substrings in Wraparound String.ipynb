{
 "cells": [
  {
   "cell_type": "code",
   "execution_count": null,
   "metadata": {},
   "outputs": [],
   "source": [
    "# 从大到小找\n",
    "class Solution(object):\n",
    "    def findSubstringInWraproundString(self, p):\n",
    "        \"\"\"\n",
    "        :type p: str\n",
    "        :rtype: int\n",
    "        \"\"\"\n",
    "        start = {}\n",
    "        i = 0\n",
    "        while i < len(p):\n",
    "            j = i + 1\n",
    "            while j < len(p):\n",
    "                # if ord(j) not in one:\n",
    "                #     one.add(ord(j))\n",
    "                #     count += 1\n",
    "                if (ord(p[i])==130 and ord(p[j])==97) or (ord(p[j])-ord(p[i])==1):\n",
    "                    j += 1\n",
    "            start\n",
    "            i = j\n",
    "\n",
    "            "
   ]
  },
  {
   "cell_type": "code",
   "execution_count": null,
   "metadata": {},
   "outputs": [],
   "source": [
    "# 从小到大找, 79/81, 超出时间限制\n",
    "class Solution(object):\n",
    "    def findSubstringInWraproundString(self, p):\n",
    "        \"\"\"\n",
    "        :type p: str\n",
    "        :rtype: int\n",
    "        \"\"\"\n",
    "        count = 0\n",
    "        for i in range(97, 123):\n",
    "            if chr(i) in p:\n",
    "                count += 1\n",
    "        start = []\n",
    "        record = set()\n",
    "        for i in range(len(p)-1):\n",
    "            if (ord(p[i])==122 and ord(p[i+1])==97) or (ord(p[i+1])-ord(p[i])==1):\n",
    "                start.append(i)\n",
    "                count += 1 if p[i] not in record else 0\n",
    "                record.add(p[i])\n",
    "        \n",
    "        while len(start) >= 2:\n",
    "            tmp = []\n",
    "            record = set()\n",
    "            for i in range(len(start)-1):\n",
    "                if start[i+1]-start[i]==1:\n",
    "                    tmp.append(start[i])\n",
    "                    count += 1 if p[start[i]] not in record else 0\n",
    "                    record.add(p[start[i]])\n",
    "            start = tmp\n",
    "        return count"
   ]
  },
  {
   "cell_type": "code",
   "execution_count": null,
   "metadata": {},
   "outputs": [],
   "source": [
    "# 动态规划, 结尾作结点\n",
    "from collections import defaultdict\n",
    "class Solution:\n",
    "    def findSubstringInWraproundString(self, p):\n",
    "        dp = defaultdict(int)\n",
    "        k = 0\n",
    "        for i, ch in enumerate(p):\n",
    "            if i > 0 and (ord(ch) - ord(p[i - 1])) % 26 == 1:  # 字符之差为 1 或 -25\n",
    "                k += 1\n",
    "            else:\n",
    "                k = 1\n",
    "            dp[ch] = max(dp[ch], k)\n",
    "        return sum(dp.values())"
   ]
  },
  {
   "cell_type": "code",
   "execution_count": null,
   "metadata": {},
   "outputs": [],
   "source": [
    "from collections import defaultdict\n",
    "class Solution(object):\n",
    "    def findSubstringInWraproundString(self, p):\n",
    "        \"\"\"\n",
    "        :type p: str\n",
    "        :rtype: int\n",
    "        \"\"\"\n",
    "        dp = defaultdict(int)\n",
    "        k = 0\n",
    "        for i, ch in enumerate(p):\n",
    "            if i > 0 and (ord(ch)-ord(p[i-1]))%26==1:\n",
    "                k += 1\n",
    "            else:\n",
    "                k = 1\n",
    "            dp[ch] = max(dp[ch], k)\n",
    "        return sum(dp.values())"
   ]
  },
  {
   "cell_type": "code",
   "execution_count": null,
   "metadata": {},
   "outputs": [],
   "source": [
    "import unittest\n",
    "\n",
    "\n",
    "class LeetcodeTest(unittest.TestCase):\n",
    "    solution = getattr(Solution(), dir(Solution)[-1])\n",
    "\n",
    "    def test_case1(self):\n",
    "        test_input = \"abaab\"\n",
    "        test_output = 3\n",
    "        self.assertEqual(self.solution(test_input), test_output)\n",
    "\n",
    "unittest.main(argv=['ignored', '-v'], exit=False)"
   ]
  }
 ],
 "metadata": {
  "interpreter": {
   "hash": "8f10c23deeb0cc051b43c04ce2b4596f0d971a59bcf6ff8a8b744177b024b55d"
  },
  "kernelspec": {
   "display_name": "Python 3.7.10 ('osfir')",
   "language": "python",
   "name": "python3"
  },
  "language_info": {
   "codemirror_mode": {
    "name": "ipython",
    "version": 3
   },
   "file_extension": ".py",
   "mimetype": "text/x-python",
   "name": "python",
   "nbconvert_exporter": "python",
   "pygments_lexer": "ipython3",
   "version": "3.7.10"
  },
  "orig_nbformat": 4
 },
 "nbformat": 4,
 "nbformat_minor": 2
}
