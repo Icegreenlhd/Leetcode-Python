{
 "cells": [
  {
   "cell_type": "markdown",
   "id": "fbb60f3c",
   "metadata": {},
   "source": [
    "Given two integers dividend and divisor, divide two integers without using multiplication, division and mod operator.\n",
    "\n",
    "Return the quotient after dividing dividend by divisor.\n",
    "\n",
    "The integer division should truncate toward zero, which means losing its fractional part. For example, truncate(8.345) = 8 and truncate(-2.7335) = -2.\n",
    "\n",
    "Example 1:\n",
    "```\n",
    "Input: dividend = 10, divisor = 3\n",
    "Output: 3\n",
    "Explanation: 10/3 = truncate(3.33333..) = 3.\n",
    "```\n",
    "Example 2:\n",
    "```\n",
    "Input: dividend = 7, divisor = -3\n",
    "Output: -2\n",
    "Explanation: 7/-3 = truncate(-2.33333..) = -2.\n",
    "```"
   ]
  },
  {
   "cell_type": "code",
   "execution_count": null,
   "id": "b1720b2d",
   "metadata": {},
   "outputs": [],
   "source": [
    "# my solution 1, time out\n",
    "class Solution(object):\n",
    "    def divide(self, dividend, divisor):\n",
    "        \"\"\"\n",
    "        :type dividend: int\n",
    "        :type divisor: int\n",
    "        :rtype: int\n",
    "        \"\"\"\n",
    "        assert divisor != 0, \"Divide the zero\"\n",
    "        sign = True if (dividend > 0) ^ (divisor > 0) else False\n",
    "        dividend = abs(dividend)\n",
    "        divisor = abs(divisor)\n",
    "        result = 0\n",
    "        while dividend >= divisor:\n",
    "            result += 1\n",
    "            dividend -= divisor\n",
    "        return -result if sign else result"
   ]
  },
  {
   "cell_type": "markdown",
   "id": "f20c25e1",
   "metadata": {},
   "source": [
    "# Jake's solution\n",
    "Repeatedly double the divisor until it would exceed the dividend.  Then repeatedly halve the divisor, subtracting\n",
    "it from the dividend whenever possible.\n",
    "- Time - O(log n)\n",
    "- Space - O(1)\n"
   ]
  },
  {
   "cell_type": "code",
   "execution_count": null,
   "id": "71e64a3a",
   "metadata": {},
   "outputs": [],
   "source": [
    "class Solution(object):\n",
    "    def divide(self, dividend, divisor):\n",
    "        \"\"\"\n",
    "        :type dividend: int\n",
    "        :type divisor: int\n",
    "        :rtype: int\n",
    "        \"\"\"\n",
    "        if divisor == 0:\n",
    "            return None\n",
    "        diff_sign = (divisor < 0) ^ (dividend < 0)\n",
    "        dividend = abs(dividend)\n",
    "        divisor = abs(divisor)\n",
    "\n",
    "        result = 0\n",
    "        max_divisor = divisor\n",
    "        shift_count = 1\n",
    "\n",
    "        while dividend >= (max_divisor << 1):   # find divisor * 2^i where divisor * 2^(i+1) > dividend\n",
    "            max_divisor <<= 1\n",
    "            shift_count <<= 1\n",
    "\n",
    "        while shift_count >= 1:\n",
    "            if dividend >= max_divisor:         # subtract max_divisor whenever possible\n",
    "                dividend -= max_divisor\n",
    "                result += shift_count\n",
    "            shift_count >>= 1\n",
    "            max_divisor >>= 1\n",
    "\n",
    "        if diff_sign:\n",
    "            result = -result\n",
    "        return max(min(result, 2**31-1), -2**31)"
   ]
  },
  {
   "cell_type": "code",
   "execution_count": null,
   "id": "8d6ea154",
   "metadata": {},
   "outputs": [],
   "source": [
    "True ^ True"
   ]
  }
 ],
 "metadata": {
  "jupytext": {
   "formats": "ipynb,py"
  },
  "kernelspec": {
   "display_name": "Python 3",
   "language": "python",
   "name": "python3"
  }
 },
 "nbformat": 4,
 "nbformat_minor": 5
}
