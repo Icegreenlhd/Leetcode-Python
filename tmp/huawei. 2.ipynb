{
 "cells": [
  {
   "cell_type": "code",
   "execution_count": 30,
   "metadata": {},
   "outputs": [],
   "source": [
    "# 2\n",
    "class Disjoint(object):\n",
    "    def __init__(self, n):\n",
    "        self.parent = [-1 for _ in range(n*n)]\n",
    "        self.qi = [0 for _ in range(n*n)]\n",
    "    \n",
    "    def findparent(self, i):\n",
    "        root = i\n",
    "        while self.parent[root] != root:\n",
    "            root = self.parent[root]\n",
    "        while i != root:\n",
    "            tmp = self.parent[i]\n",
    "            self.parent[i] = root\n",
    "            i = tmp\n",
    "        return root\n",
    "    \n",
    "    def union(self, i, j):\n",
    "        qroot = self.findparent(i)\n",
    "        proot = self.findparent(j)\n",
    "        self.parent[qroot] = proot\n",
    "        return\n",
    "    \n",
    "    def add(self, i):\n",
    "        self.parent[i] = i\n",
    "        return\n",
    "\n",
    "    def addqi(self, p):\n",
    "        self.qi[p] += 1\n",
    "        return\n",
    "    \n",
    "    def _count_p(self, p):\n",
    "        c = 0\n",
    "        for i in self.parent:\n",
    "            if i == p:\n",
    "                c += 1\n",
    "        return c\n",
    "\n",
    "    def count_all(self):\n",
    "        c = 0\n",
    "        for i in range(len(self.qi)):\n",
    "            if self.qi[i] > 1:\n",
    "                c += self._count_p(i)\n",
    "        return c\n",
    "\n",
    "    def pprint(self):\n",
    "        for i in self.qi:\n",
    "            print(i)\n",
    "    "
   ]
  },
  {
   "cell_type": "code",
   "execution_count": null,
   "metadata": {},
   "outputs": [],
   "source": [
    "board = input()"
   ]
  },
  {
   "cell_type": "code",
   "execution_count": 33,
   "metadata": {},
   "outputs": [],
   "source": [
    "board = \"3WWWBBBBNN\"\n",
    "n = int(board[0])\n",
    "board = board[1:]"
   ]
  },
  {
   "cell_type": "code",
   "execution_count": 43,
   "metadata": {},
   "outputs": [],
   "source": [
    "board = \"3WWWW0WWWW\"\n",
    "n = int(board[0])\n",
    "board = board[1:]"
   ]
  },
  {
   "cell_type": "code",
   "execution_count": 44,
   "metadata": {},
   "outputs": [
    {
     "name": "stdout",
     "output_type": "stream",
     "text": [
      "W 0 B 0\n"
     ]
    }
   ],
   "source": [
    "white = Disjoint(n)\n",
    "black = Disjoint(n)\n",
    "\n",
    "dx, dy = [-1, 0], [0, -1]\n",
    "for i in range(n):\n",
    "    for j in range(n):\n",
    "        now = i+j*n\n",
    "        if board[now] == \"N\":\n",
    "            continue\n",
    "        now_c = white if board[now] == 'W' else black\n",
    "        now_c.add(now)\n",
    "        for k in range(2):\n",
    "            x, y = i+dx[k], j+dy[k]\n",
    "            if x>=0 and y>=0:\n",
    "                other = x+y*n\n",
    "                if board[now] == board[other]:\n",
    "                    now_c.union(now, other)\n",
    "# white.pprint()\n",
    "# black.pprint()\n",
    "di, dj = [-1, 1, 0, 0], [-1, 1, 0, 0]\n",
    "for i in range(n-1, -1, -1):\n",
    "    for j in range(n-1, -1, -1):\n",
    "        now = i+j*n\n",
    "        if board[now] == \"N\":\n",
    "            visted_parent = set()\n",
    "            for k in range(4):\n",
    "                x, y = i+di[k], j+dj[k]\n",
    "                if n>x>=0 and n>y>=0:\n",
    "                    other = x*n + y\n",
    "                    if board[other] != 'N':\n",
    "                        now_d = white if board[other]=='W' else black\n",
    "                        p = now_d.findparent(other)\n",
    "                        if p not in visted_parent:\n",
    "                            now_d.addqi(p)\n",
    "                            visted_parent.add(p)\n",
    "# black.pprint()\n",
    "print(\"W {} B {}\".format(white.count_all(), str(black.count_all())))\n"
   ]
  }
 ],
 "metadata": {
  "interpreter": {
   "hash": "8f10c23deeb0cc051b43c04ce2b4596f0d971a59bcf6ff8a8b744177b024b55d"
  },
  "kernelspec": {
   "display_name": "Python 3.7.10 ('osfir')",
   "language": "python",
   "name": "python3"
  },
  "language_info": {
   "codemirror_mode": {
    "name": "ipython",
    "version": 3
   },
   "file_extension": ".py",
   "mimetype": "text/x-python",
   "name": "python",
   "nbconvert_exporter": "python",
   "pygments_lexer": "ipython3",
   "version": "3.7.10"
  },
  "orig_nbformat": 4
 },
 "nbformat": 4,
 "nbformat_minor": 2
}
