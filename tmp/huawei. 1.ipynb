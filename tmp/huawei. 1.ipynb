{
 "cells": [
  {
   "cell_type": "markdown",
   "metadata": {},
   "source": [
    "4\n",
    "7 9 6 2\n",
    "2 2 1 0"
   ]
  },
  {
   "cell_type": "code",
   "execution_count": null,
   "metadata": {},
   "outputs": [],
   "source": [
    "n = int(input())\n",
    "nums = list(map(int, input().split()))"
   ]
  },
  {
   "cell_type": "code",
   "execution_count": 28,
   "metadata": {},
   "outputs": [],
   "source": [
    "n = 5\n",
    "nums = [2, 8, 9, 1, 5]"
   ]
  },
  {
   "cell_type": "code",
   "execution_count": null,
   "metadata": {},
   "outputs": [],
   "source": []
  },
  {
   "cell_type": "code",
   "execution_count": 71,
   "metadata": {},
   "outputs": [],
   "source": [
    "\n",
    "class TreeNode(object):\n",
    "    def __init__(self, i):\n",
    "        self.left = None \n",
    "        self.right = None\n",
    "        self.val = i\n",
    "        self.count = 1\n",
    "    \n",
    "class BinaryTree(object):\n",
    "    def __init__(self, i):\n",
    "        self.root = TreeNode(i)\n",
    "        \n",
    "    def find(self, value):\n",
    "        return self.findroot(self.root, value)\n",
    "        \n",
    "    def findroot(self, root, value):\n",
    "        total = 0\n",
    "        if value > root.val:\n",
    "            total += root.count\n",
    "            if root.right == None:\n",
    "                root.right = TreeNode(value)\n",
    "                return total\n",
    "            total += self.findroot(root.right, value)\n",
    "        else:\n",
    "            root.count += 1\n",
    "            if root.left == None:\n",
    "                root.left = TreeNode(value)\n",
    "                return total\n",
    "            total += self.findroot(root.left, value)\n",
    "        return total\n",
    "\n",
    "                \n",
    "binarytree = BinaryTree(nums[-1])\n",
    "blessing = [0]\n",
    "for i in range(n-2, -1, -1):\n",
    "    blessing.append(binarytree.find(nums[i]))\n",
    "    "
   ]
  },
  {
   "cell_type": "code",
   "execution_count": 72,
   "metadata": {},
   "outputs": [
    {
     "name": "stdout",
     "output_type": "stream",
     "text": [
      "1 2 2 0 0\n"
     ]
    }
   ],
   "source": [
    "blessing.reverse()\n",
    "blessing = list(map(str, blessing))\n",
    "print(\" \".join(blessing))"
   ]
  }
 ],
 "metadata": {
  "interpreter": {
   "hash": "8f10c23deeb0cc051b43c04ce2b4596f0d971a59bcf6ff8a8b744177b024b55d"
  },
  "kernelspec": {
   "display_name": "Python 3.7.10 ('osfir')",
   "language": "python",
   "name": "python3"
  },
  "language_info": {
   "codemirror_mode": {
    "name": "ipython",
    "version": 3
   },
   "file_extension": ".py",
   "mimetype": "text/x-python",
   "name": "python",
   "nbconvert_exporter": "python",
   "pygments_lexer": "ipython3",
   "version": "3.7.10"
  },
  "orig_nbformat": 4
 },
 "nbformat": 4,
 "nbformat_minor": 2
}
