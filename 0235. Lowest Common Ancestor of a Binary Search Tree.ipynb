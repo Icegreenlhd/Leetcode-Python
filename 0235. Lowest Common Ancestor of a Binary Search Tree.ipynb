{
 "cells": [
  {
   "cell_type": "code",
   "execution_count": null,
   "metadata": {},
   "outputs": [],
   "source": [
    "# Definition for a binary tree node.\n",
    "# class TreeNode(object):\n",
    "#     def __init__(self, x):\n",
    "#         self.val = x\n",
    "#         self.left = None\n",
    "#         self.right = None\n",
    "\n",
    "class Solution(object):\n",
    "    def lowestCommonAncestor(self, root, p, q):\n",
    "        \"\"\"\n",
    "        :type root: TreeNode\n",
    "        :type p: TreeNode\n",
    "        :type q: TreeNode\n",
    "        :rtype: TreeNode\n",
    "        \"\"\"\n",
    "        return self.findLCA(root, p, q)\n",
    "        \n",
    "    def findLCA(self, root, p, q):\n",
    "        if root == None or root.val == p.val or root.val == q.val:\n",
    "            return root\n",
    "        left = self.findLCA(root.left, p, q)\n",
    "        right = self.findLCA(root.right, p, q)\n",
    "        if left == None:\n",
    "            return right\n",
    "        if right == None:\n",
    "            return left\n",
    "        if right != None and left != None:\n",
    "            return root"
   ]
  },
  {
   "cell_type": "code",
   "execution_count": null,
   "metadata": {},
   "outputs": [],
   "source": [
    "# Definition for a binary tree node.\n",
    "# class TreeNode(object):\n",
    "#     def __init__(self, x):\n",
    "#         self.val = x\n",
    "#         self.left = None\n",
    "#         self.right = None\n",
    "\n",
    "class Solution(object):\n",
    "    def lowestCommonAncestor(self, root, p, q):\n",
    "        \"\"\"\n",
    "        :type root: TreeNode\n",
    "        :type p: TreeNode\n",
    "        :type q: TreeNode\n",
    "        :rtype: TreeNode\n",
    "        \"\"\"\n",
    "        if p.val < root.val and q.val < root.val:\n",
    "            return self.lowestCommonAncestor(root.left, p, q)\n",
    "        elif p.val > root.val and q.val > root.val:\n",
    "            return self.lowestCommonAncestor(root.right, p, q)\n",
    "        else:\n",
    "            return root"
   ]
  },
  {
   "cell_type": "code",
   "execution_count": null,
   "metadata": {},
   "outputs": [],
   "source": [
    "class TreeNode(object):\n",
    "    def __init__(self, x):\n",
    "        self.val = x\n",
    "        self.left = None\n",
    "        self.right = None\n",
    "\n",
    "def init_bst(tree):\n",
    "    t = tree.copy()\n",
    "    root = TreeNode(t.pop(0))\n",
    "    tree_list = [root]\n",
    "    while len(t) > 0:\n",
    "        size = len(tree_list)\n",
    "        for i in range(size):\n",
    "            temp = tree_list.pop(0)\n",
    "            if temp != None:\n",
    "                temp.left  = TreeNode(t.pop(0)) if len(t) > 0 else None\n",
    "                temp.right = TreeNode(t.pop(0)) if len(t) > 0 else None\n",
    "                tree_list.append(temp.left)\n",
    "                tree_list.append(temp.right)\n",
    "    return root\n"
   ]
  },
  {
   "cell_type": "code",
   "execution_count": null,
   "metadata": {},
   "outputs": [],
   "source": [
    "tree = [6,2,8,0,4,7,9,None,None,3,5]\n",
    "root = init_bst(tree)\n",
    "solution = Solution()\n",
    "solution.lowestCommonAncestor(root, TreeNode(0), TreeNode(4))"
   ]
  },
  {
   "cell_type": "code",
   "execution_count": null,
   "metadata": {},
   "outputs": [],
   "source": []
  }
 ],
 "metadata": {
  "interpreter": {
   "hash": "8f10c23deeb0cc051b43c04ce2b4596f0d971a59bcf6ff8a8b744177b024b55d"
  },
  "kernelspec": {
   "display_name": "Python 3",
   "language": "python",
   "name": "python3"
  },
  "language_info": {
   "codemirror_mode": {
    "name": "ipython",
    "version": 3
   },
   "file_extension": ".py",
   "mimetype": "text/x-python",
   "name": "python",
   "nbconvert_exporter": "python",
   "pygments_lexer": "ipython3",
   "version": "3.7.10"
  }
 },
 "nbformat": 4,
 "nbformat_minor": 2
}
