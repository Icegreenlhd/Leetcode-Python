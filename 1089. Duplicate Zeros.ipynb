{
 "cells": [
  {
   "cell_type": "code",
   "execution_count": null,
   "metadata": {},
   "outputs": [],
   "source": [
    "class Solution(object):\n",
    "    def duplicateZeros(self, arr):\n",
    "        \"\"\"\n",
    "        :type arr: List[int]\n",
    "        :rtype: None Do not return anything, modify arr in-place instead.\n",
    "        \"\"\"\n",
    "        i, n = 0, len(arr)\n",
    "        while i < n:\n",
    "            if arr[i] == 0:\n",
    "                arr.pop()\n",
    "                arr.insert(i, 0)\n",
    "                i += 2\n",
    "            else:\n",
    "                i += 1\n",
    "        return "
   ]
  }
 ],
 "metadata": {
  "language_info": {
   "name": "python"
  },
  "orig_nbformat": 4
 },
 "nbformat": 4,
 "nbformat_minor": 2
}
