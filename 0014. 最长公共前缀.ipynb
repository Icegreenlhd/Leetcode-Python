{
 "cells": [
  {
   "cell_type": "markdown",
   "id": "675764f8",
   "metadata": {},
   "source": [
    "编写一个函数来查找字符串数组中的最长公共前缀。\n",
    "\n",
    "如果不存在公共前缀，返回空字符串 \"\"。\n",
    "\n",
    "示例 1:\n",
    "```\n",
    "输入: [\"flower\",\"flow\",\"flight\"]\n",
    "输出: \"fl\"\n",
    "```\n",
    "示例 2:\n",
    "```\n",
    "输入: [\"dog\",\"racecar\",\"car\"]\n",
    "输出: \"\"\n",
    "解释: 输入不存在公共前缀。\n",
    "```\n",
    "说明:\n",
    "\n",
    "所有输入只包含小写字母 a-z 。\n",
    "\n",
    "来源：力扣（LeetCode）\n",
    "链接：https://leetcode-cn.com/problems/longest-common-prefix\n",
    "著作权归领扣网络所有。商业转载请联系官方授权，非商业转载请注明出处。"
   ]
  },
  {
   "cell_type": "code",
   "execution_count": null,
   "id": "f0dcc725",
   "metadata": {},
   "outputs": [],
   "source": [
    "# my solution 1\n",
    "class Solution(object):\n",
    "    def longestCommonPrefix(self, strs):\n",
    "        \"\"\"\n",
    "        :type strs: List[str]\n",
    "        :rtype: str\n",
    "        \"\"\"\n",
    "        def findCommonPrefix(str1, str2):\n",
    "            commonprefix = \"\"\n",
    "            if not str1 or not str2:\n",
    "                return commonprefix\n",
    "            for i in range(min(len(str1), len(str2))):\n",
    "                if str1[i] == str2[i]:\n",
    "                    commonprefix += str1[i]\n",
    "                else:\n",
    "                    return commonprefix\n",
    "            return commonprefix\n",
    "        \n",
    "        if not strs:\n",
    "            return \"\"\n",
    "        commonprefix = strs[0]\n",
    "\n",
    "        for i in range(1, len(strs)):\n",
    "            commonprefix = findCommonPrefix(commonprefix, strs[i])\n",
    "\n",
    "        return commonprefix"
   ]
  },
  {
   "cell_type": "code",
   "execution_count": null,
   "id": "3093f202",
   "metadata": {},
   "outputs": [],
   "source": [
    "# Jake's solution\n",
    "class Solution(object):\n",
    "    def longestCommonPrefix(self, strs):\n",
    "        \"\"\"\n",
    "        :type strs: List[str]\n",
    "        :rtype: str\n",
    "        \"\"\"\n",
    "        if not strs:\n",
    "            return ''\n",
    "\n",
    "        strs.sort()\n",
    "        first = strs[0]\n",
    "        last = strs[-1]\n",
    "\n",
    "        i = 0\n",
    "        while i < len(first) and i < len(last) and first[i] == last[i]:\n",
    "            i += 1\n",
    "        return first[:i]"
   ]
  },
  {
   "cell_type": "code",
   "execution_count": null,
   "id": "ef3fc6f8",
   "metadata": {},
   "outputs": [],
   "source": [
    "input = []\n",
    "input.append(([\"flower\",\"flow\",\"flight\"], \"fl\"))\n",
    "input.append(([\"dog\",\"racecar\",\"car\"], \"\"))\n",
    "input.append(([], \"\"))\n",
    "solution = Solution()\n",
    "for i in input:\n",
    "    strs, result = i\n",
    "    my_result = solution.longestCommonPrefix(strs)\n",
    "    if result != my_result:\n",
    "        print(\"!Wrong\", \"Input:{} Result:{} Myresult:{}\".format(strs, result, my_result))\n",
    "    else:\n",
    "        print(\"Right\", \"Input:{} Result:{} Myresult:{}\".format(strs, result, my_result))"
   ]
  }
 ],
 "metadata": {
  "jupytext": {
   "formats": "ipynb,py"
  },
  "kernelspec": {
   "display_name": "Python 3",
   "language": "python",
   "name": "python3"
  }
 },
 "nbformat": 4,
 "nbformat_minor": 5
}
