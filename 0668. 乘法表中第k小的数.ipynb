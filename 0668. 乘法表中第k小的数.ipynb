{
 "cells": [
  {
   "cell_type": "code",
   "execution_count": null,
   "metadata": {},
   "outputs": [],
   "source": [
    "# 59/70 最小顶堆做法\n",
    "from heapq import heapify,heappop, heappush\n",
    "\n",
    "class Solution(object):\n",
    "    def findKthNumber(self, m, n, k):\n",
    "        \"\"\"\n",
    "        :type m: int\n",
    "        :type n: int\n",
    "        :type k: int\n",
    "        :rtype: int\n",
    "        \"\"\"\n",
    "        self.m = m\n",
    "        self.n = n\n",
    "        self.k = k\n",
    "        self.kheap = []\n",
    "        heapify(self.kheap)\n",
    "        self.count = 0\n",
    "        for i in range(1, self.m+1):\n",
    "            for j in range(1, self.n+1):\n",
    "                self.add(i*j)\n",
    "        return -1*self.kheap[0]\n",
    "\n",
    "    def add(self, num):\n",
    "        heappush(self.kheap, -num)\n",
    "        if len(self.kheap) > self.k:\n",
    "            heappop(self.kheap)\n",
    "        return"
   ]
  },
  {
   "cell_type": "code",
   "execution_count": null,
   "metadata": {},
   "outputs": [],
   "source": [
    "# 以值作为二分条件\n",
    "class Solution(object):\n",
    "    def findKthNumber(self, m, n, k):\n",
    "        \"\"\"\n",
    "        :type m: int\n",
    "        :type n: int\n",
    "        :type k: int\n",
    "        :rtype: int\n",
    "        \"\"\"\n",
    "        if k == 1:\n",
    "            return 1\n",
    "        if k == m*n:\n",
    "            return k\n",
    "        left, right = 1, m*n\n",
    "        while left < right:\n",
    "            mid = (left+right) // 2\n",
    "            if self.count_num(m, n, mid) >= k:\n",
    "                right = mid\n",
    "            else:\n",
    "                left = mid + 1\n",
    "        return left\n",
    "\n",
    "\n",
    "    def count_num(self, m, n, num):\n",
    "        return sum(min(num//i, n) for i in range(1, m+1))"
   ]
  },
  {
   "cell_type": "code",
   "execution_count": null,
   "metadata": {},
   "outputs": [],
   "source": [
    "from bisect import bisect_left\n",
    "\n",
    "class Solution:\n",
    "    def findKthNumber(self, m, n, k):\n",
    "        return bisect_left(range(m * n), k, key=lambda x: x // n * n + sum(x // i for i in range(x // n + 1, m + 1)))"
   ]
  },
  {
   "cell_type": "code",
   "execution_count": null,
   "metadata": {},
   "outputs": [],
   "source": [
    "import unittest\n",
    "\n",
    "\n",
    "class LeetcodeTest(unittest.TestCase):\n",
    "    solution = getattr(Solution(), dir(Solution)[-1])\n",
    "\n",
    "    def test_case1(self):\n",
    "        test_input = (3, 3, 5)\n",
    "        test_output = 3\n",
    "        self.assertEqual(self.solution(*test_input), test_output)\n",
    "\n",
    "unittest.main(argv=['ignored', '-v'], exit=False)"
   ]
  }
 ],
 "metadata": {
  "interpreter": {
   "hash": "8f10c23deeb0cc051b43c04ce2b4596f0d971a59bcf6ff8a8b744177b024b55d"
  },
  "kernelspec": {
   "display_name": "Python 3.7.10 ('osfir')",
   "language": "python",
   "name": "python3"
  },
  "language_info": {
   "codemirror_mode": {
    "name": "ipython",
    "version": 3
   },
   "file_extension": ".py",
   "mimetype": "text/x-python",
   "name": "python",
   "nbconvert_exporter": "python",
   "pygments_lexer": "ipython3",
   "version": "3.7.10"
  },
  "orig_nbformat": 4
 },
 "nbformat": 4,
 "nbformat_minor": 2
}
