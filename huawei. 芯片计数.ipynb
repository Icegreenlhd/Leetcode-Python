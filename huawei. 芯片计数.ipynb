{
 "cells": [
  {
   "cell_type": "code",
   "execution_count": 10,
   "id": "6a6decae",
   "metadata": {},
   "outputs": [],
   "source": [
    "class Solution(object):\n",
    "    def lastChip(self, num, chips):\n",
    "        last_c = 0\n",
    "        now_c = 0\n",
    "        a_l = [0, 0]\n",
    "        for c in chips:\n",
    "            if last_c > num:\n",
    "                return 0, 0\n",
    "            if c == 'A':\n",
    "                if a_l[1] == 0 or a_l[1] == 4:\n",
    "                    last_c += 1\n",
    "                    a_l[0] = last_c\n",
    "                    a_l[1] = 1\n",
    "                else:\n",
    "                    a_l[1] = a_l[1]+1\n",
    "                now_c = a_l[0]\n",
    "            if c == 'B':\n",
    "                last_c += 1\n",
    "                now_c = last_c\n",
    "        if a_l[0] == now_c:\n",
    "            return now_c, a_l[1]\n",
    "        else: \n",
    "            return last_c, 4"
   ]
  },
  {
   "cell_type": "code",
   "execution_count": 11,
   "id": "982d60ab",
   "metadata": {},
   "outputs": [
    {
     "name": "stderr",
     "output_type": "stream",
     "text": [
      "test_case1 (__main__.LeetcodeTest) ... ok\n",
      "\n",
      "----------------------------------------------------------------------\n",
      "Ran 1 test in 0.001s\n",
      "\n",
      "OK\n"
     ]
    },
    {
     "data": {
      "text/plain": [
       "<unittest.main.TestProgram at 0x7f8c0b4cf450>"
      ]
     },
     "execution_count": 11,
     "metadata": {},
     "output_type": "execute_result"
    }
   ],
   "source": [
    "import unittest\n",
    "\n",
    "\n",
    "class LeetcodeTest(unittest.TestCase):\n",
    "    solution = getattr(Solution(), dir(Solution)[-1])\n",
    "\n",
    "    def test_case1(self):\n",
    "        test_input = (5, \"ABABAA\")\n",
    "        test_output = 1, 4\n",
    "        self.assertEqual(self.solution(*test_input), test_output)\n",
    "\n",
    "unittest.main(argv=['ignored', '-v'], exit=False)"
   ]
  }
 ],
 "metadata": {
  "kernelspec": {
   "display_name": "Python 3",
   "language": "python",
   "name": "python3"
  },
  "language_info": {
   "codemirror_mode": {
    "name": "ipython",
    "version": 3
   },
   "file_extension": ".py",
   "mimetype": "text/x-python",
   "name": "python",
   "nbconvert_exporter": "python",
   "pygments_lexer": "ipython3",
   "version": "3.7.10"
  }
 },
 "nbformat": 4,
 "nbformat_minor": 5
}
