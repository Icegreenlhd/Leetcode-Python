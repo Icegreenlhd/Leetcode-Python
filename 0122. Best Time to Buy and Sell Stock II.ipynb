{
 "cells": [
  {
   "cell_type": "code",
   "execution_count": null,
   "metadata": {},
   "outputs": [],
   "source": [
    "# 递归算法\n",
    "class Solution(object):\n",
    "    def maxProfit(self, prices):\n",
    "        \"\"\"\n",
    "        :type prices: List[int]\n",
    "        :rtype: int\n",
    "        \"\"\"\n",
    "        return self.all_profit(prices, 0, 0, 0)\n",
    "    \n",
    "    def all_profit(self, prices, day, op, profit):\n",
    "        if day == (len(prices)-1):\n",
    "            if op == 1: return profit + prices[day]\n",
    "            else: return profit\n",
    "        res = 0\n",
    "        if op == 0: res = max(res, self.all_profit(prices, day+1, 1, profit-prices[day]))\n",
    "        else: res = max(res, self.all_profit(prices, day+1, 0, profit+prices[day]))\n",
    "        res = max(res, self.all_profit(prices, day+1, op, profit))\n",
    "        return res\n",
    "\n",
    "\n"
   ]
  },
  {
   "cell_type": "code",
   "execution_count": null,
   "metadata": {},
   "outputs": [],
   "source": [
    "# 贪心算法\n",
    "class Solution(object):\n",
    "    def maxProfit(self, prices):\n",
    "        \"\"\"\n",
    "        :type prices: List[int]\n",
    "        :rtype: int\n",
    "        \"\"\"\n",
    "        profit = 0\n",
    "        for i in range(len(prices)-1):\n",
    "            p = prices[i+1] - prices[i]\n",
    "            profit = profit+p if p > 0 else profit\n",
    "        return profit"
   ]
  },
  {
   "cell_type": "code",
   "execution_count": null,
   "metadata": {},
   "outputs": [],
   "source": [
    "# 递归算法\n",
    "class Solution(object):\n",
    "    def maxProfit(self, prices):\n",
    "        dp = [[0 for _ in prices] for _ in range(2)]\n",
    "        dp[0][0] = 0\n",
    "        dp[1][0] = -prices[0]\n",
    "        for i in range(1, len(prices)):\n",
    "            dp[0][i] = max(dp[0][i-1], dp[1][i-1]+prices[i])\n",
    "            dp[1][i] = max(dp[1][i-1], dp[0][i-1]-prices[i])\n",
    "        return dp[0][-1]"
   ]
  },
  {
   "cell_type": "code",
   "execution_count": null,
   "metadata": {},
   "outputs": [],
   "source": [
    "import unittest\n",
    "\n",
    "\n",
    "class LeetcodeTest(unittest.TestCase):\n",
    "    solution = getattr(Solution(), dir(Solution)[-1])\n",
    "\n",
    "    def test_case1(self):\n",
    "        test_input = [7,6,4,3,1]\n",
    "        test_output = 0\n",
    "        self.assertEqual(self.solution(test_input), test_output)\n",
    "\n",
    "unittest.main(argv=['ignored', '-v'], exit=False)"
   ]
  }
 ],
 "metadata": {
  "interpreter": {
   "hash": "8f10c23deeb0cc051b43c04ce2b4596f0d971a59bcf6ff8a8b744177b024b55d"
  },
  "kernelspec": {
   "display_name": "Python 3.7.10 ('osfir')",
   "language": "python",
   "name": "python3"
  },
  "language_info": {
   "codemirror_mode": {
    "name": "ipython",
    "version": 3
   },
   "file_extension": ".py",
   "mimetype": "text/x-python",
   "name": "python",
   "nbconvert_exporter": "python",
   "pygments_lexer": "ipython3",
   "version": "3.7.10"
  },
  "orig_nbformat": 4
 },
 "nbformat": 4,
 "nbformat_minor": 2
}
