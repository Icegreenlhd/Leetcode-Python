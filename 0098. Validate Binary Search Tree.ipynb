{
 "cells": [
  {
   "cell_type": "code",
   "execution_count": null,
   "metadata": {},
   "outputs": [],
   "source": [
    "# Definition for a binary tree node.\n",
    "# class TreeNode(object):\n",
    "#     def __init__(self, val=0, left=None, right=None):\n",
    "#         self.val = val\n",
    "#         self.left = left\n",
    "#         self.right = right\n",
    "class Solution(object):\n",
    "    def isValidBST(self, root):\n",
    "        \"\"\"\n",
    "        :type root: TreeNode\n",
    "        :rtype: bool\n",
    "        \"\"\"\n",
    "        return self.isvalid(root, None, None)\n",
    "    \n",
    "    def isvalid(self, root, min, max):\n",
    "        if root == None:\n",
    "            return True\n",
    "        if min != None and root.val <= min:\n",
    "            return False\n",
    "        if max != None and root.val >= max:\n",
    "            return False\n",
    "        return self.isvalid(root.left, min, root.val) and self.isvalid(root.right, root.val, max)"
   ]
  }
 ],
 "metadata": {
  "language_info": {
   "name": "python"
  },
  "orig_nbformat": 4
 },
 "nbformat": 4,
 "nbformat_minor": 2
}
