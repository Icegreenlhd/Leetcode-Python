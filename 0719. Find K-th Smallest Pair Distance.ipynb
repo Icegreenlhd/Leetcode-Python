{
 "cells": [
  {
   "cell_type": "code",
   "execution_count": null,
   "metadata": {},
   "outputs": [],
   "source": [
    "# 暴力求解, 堆方法, 超时\n",
    "from heapq import heapify, heappop, heappush\n",
    "class Solution(object):\n",
    "    def smallestDistancePair(self, nums, k):\n",
    "        \"\"\"\n",
    "        :type nums: List[int]\n",
    "        :type k: int\n",
    "        :rtype: int\n",
    "        \"\"\"\n",
    "        n = len(nums)\n",
    "        distance = []\n",
    "        heapify(distance)\n",
    "        for i in range(n-1):\n",
    "            for j in range(i+1, n):\n",
    "                heappush(distance, -abs(nums[i]-nums[j]))\n",
    "                if len(distance) > k:\n",
    "                    heappop(distance)\n",
    "        return -heappop(distance)\n",
    "        "
   ]
  },
  {
   "cell_type": "code",
   "execution_count": null,
   "metadata": {},
   "outputs": [],
   "source": [
    "class Solution(object):\n",
    "    def smallestDistancePair(self, nums, k):\n",
    "        \"\"\"\n",
    "        :type nums: List[int]\n",
    "        :type k: int\n",
    "        :rtype: int\n",
    "        \"\"\"\n",
    "        nums.sort()\n",
    "        left, right, n = 0, 1000000, len(nums)\n",
    "        while left < right:\n",
    "            mid, cnt, j = (left+right)>>1, 0, 0\n",
    "            for i in range(n):\n",
    "                while j < n and nums[j]-nums[i] <= mid:\n",
    "                    j += 1\n",
    "                cnt += j-i-1\n",
    "            if cnt < k:\n",
    "                left = mid + 1\n",
    "            else:\n",
    "                right = mid\n",
    "        return left"
   ]
  }
 ],
 "metadata": {
  "kernelspec": {
   "display_name": "Python 3.8.10 64-bit",
   "language": "python",
   "name": "python3"
  },
  "language_info": {
   "name": "python",
   "version": "3.8.10"
  },
  "orig_nbformat": 4,
  "vscode": {
   "interpreter": {
    "hash": "31f2aee4e71d21fbe5cf8b01ff0e069b9275f58929596ceb00d14d90e3e16cd6"
   }
  }
 },
 "nbformat": 4,
 "nbformat_minor": 2
}
