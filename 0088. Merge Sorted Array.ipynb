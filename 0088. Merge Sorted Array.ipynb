{
 "cells": [
  {
   "cell_type": "code",
   "execution_count": null,
   "metadata": {},
   "outputs": [],
   "source": [
    "class Solution(object):\n",
    "    def merge(self, nums1, m, nums2, n):\n",
    "        \"\"\"\n",
    "        :type nums1: List[int]\n",
    "        :type m: int\n",
    "        :type nums2: List[int]\n",
    "        :type n: int\n",
    "        :rtype: None Do not return anything, modify nums1 in-place instead.\n",
    "        \"\"\"\n",
    "        m_insert = 0\n",
    "        for n_i in range(n):\n",
    "            for m_i in range(m_insert, m + n_i):\n",
    "                if nums1[m_i] <= nums2[n_i]:\n",
    "                    m_insert = m_i+1\n",
    "                else:\n",
    "                    break\n",
    "            nums1.insert(m_insert, nums2[n_i])\n",
    "        while len(nums1) > m+n:\n",
    "            nums1.pop()\n",
    "        return"
   ]
  },
  {
   "cell_type": "code",
   "execution_count": null,
   "id": "670e53c1",
   "metadata": {},
   "outputs": [],
   "source": [
    "solution = getattr(Solution(), dir(Solution)[-1])\n",
    "test_input = ([1, 2, 3, 0, 0, 0], 3, [2, 2, 6], 3)\n",
    "solution(*test_input)\n",
    "test_input[0]"
   ]
  },
  {
   "cell_type": "code",
   "execution_count": null,
   "id": "3ab32aad",
   "metadata": {},
   "outputs": [],
   "source": [
    "import unittest\n",
    "\n",
    "\n",
    "class LeetcodeTest(unittest.TestCase):\n",
    "    solution = getattr(Solution(), dir(Solution)[-1])\n",
    "\n",
    "    def test_case1(self):\n",
    "        test_input = ([1, 2, 3, 0, 0, 0], 3, [2, 5, 6], 3)\n",
    "        test_output = [1, 2, 2, 3, 5, 6]\n",
    "        self.solution(*test_input)\n",
    "        self.assertEquals(test_input[0], test_output)\n",
    "\n",
    "unittest.main(argv=['ignored', '-v'], exit=False)"
   ]
  }
 ],
 "metadata": {
  "kernelspec": {
   "display_name": "Python 3 (ipykernel)",
   "language": "python",
   "name": "python3"
  },
  "language_info": {
   "codemirror_mode": {
    "name": "ipython",
    "version": 3
   },
   "file_extension": ".py",
   "mimetype": "text/x-python",
   "name": "python",
   "nbconvert_exporter": "python",
   "pygments_lexer": "ipython3",
   "version": "3.9.7"
  }
 },
 "nbformat": 4,
 "nbformat_minor": 5
}
