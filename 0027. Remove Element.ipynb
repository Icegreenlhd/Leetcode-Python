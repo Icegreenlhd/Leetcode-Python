{
 "cells": [
  {
   "cell_type": "markdown",
   "id": "b744c374",
   "metadata": {},
   "source": [
    "Given an array nums and a value val, remove all instances of that value in-place and return the new length.\n",
    "\n",
    "Do not allocate extra space for another array, you must do this by modifying the input array in-place with O(1) extra memory.\n",
    "\n",
    "The order of elements can be changed. It doesn't matter what you leave beyond the new length.\n",
    "\n",
    "Example 1:\n",
    "```\n",
    "Given nums = [3,2,2,3], val = 3,\n",
    "\n",
    "Your function should return length = 2, with the first two elements of nums being 2.\n",
    "\n",
    "It doesn't matter what you leave beyond the returned length.\n",
    "```\n",
    "Example 2:\n",
    "```\n",
    "Given nums = [0,1,2,2,3,0,4,2], val = 2,\n",
    "\n",
    "Your function should return length = 5, with the first five elements of nums containing 0, 1, 3, 0, and 4.\n",
    "\n",
    "Note that the order of those five elements can be arbitrary.\n",
    "\n",
    "It doesn't matter what values are set beyond the returned length.\n",
    "```"
   ]
  },
  {
   "cell_type": "code",
   "execution_count": null,
   "id": "72744905",
   "metadata": {},
   "outputs": [],
   "source": [
    "# my solution 1\n",
    "class Solution(object):\n",
    "    def removeElement(self, nums, val):\n",
    "        \"\"\"\n",
    "        :type nums: List[int]\n",
    "        :type val: int\n",
    "        :rtype: int\n",
    "        \"\"\"\n",
    "        index = 0\n",
    "        \n",
    "        while index < len(nums):\n",
    "            if nums[index] == val:\n",
    "                nums.pop(index)\n",
    "            else:\n",
    "                index += 1\n",
    "                \n",
    "        return index"
   ]
  },
  {
   "cell_type": "code",
   "execution_count": null,
   "id": "78600aa7",
   "metadata": {},
   "outputs": [],
   "source": [
    "_author_ = 'jake'\n",
    "_project_ = 'leetcode'\n",
    "\n",
    "# https://leetcode.com/problems/remove-element/\n",
    "# Given an array and a value, remove all instances of that value in place and return the new length.\n",
    "# Do not allocate extra space for another array, you must do this in place with constant memory.\n",
    "# The order of elements can be changed. It doesn't matter what you leave beyond the new length.\n",
    "\n",
    "# Maintain pointer to next index to be used for any number not equal to val.\n",
    "# Time - O(n)\n",
    "# Space - O(1)\n",
    "\n",
    "class Solution(object):\n",
    "    def removeElement(self, nums, val):\n",
    "        \"\"\"\n",
    "        :type nums: List[int]\n",
    "        :type val: int\n",
    "        :rtype: int\n",
    "        \"\"\"\n",
    "        next_free = 0\n",
    "        for i, num in enumerate(nums):\n",
    "            if num != val:\n",
    "                nums[next_free] = num\n",
    "                next_free += 1\n",
    "        return next_free"
   ]
  }
 ],
 "metadata": {
  "jupytext": {
   "formats": "ipynb,py"
  },
  "kernelspec": {
   "display_name": "Python 3",
   "language": "python",
   "name": "python3"
  }
 },
 "nbformat": 4,
 "nbformat_minor": 5
}
