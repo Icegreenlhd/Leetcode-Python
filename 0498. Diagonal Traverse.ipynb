{
 "cells": [
  {
   "cell_type": "code",
   "execution_count": null,
   "metadata": {},
   "outputs": [],
   "source": [
    "# 模拟对角线遍历, O(n^2), OOM\n",
    "direct = ((1, -1), (-1, 1))\n",
    "class Solution(object):\n",
    "    def findDiagonalOrder(self, mat):\n",
    "        \"\"\"\n",
    "        :type mat: List[List[int]]\n",
    "        :rtype: List[int]\n",
    "        \"\"\"\n",
    "\n",
    "        m, n = len(mat), len(mat[0])\n",
    "        ans = [mat[0][0]]\n",
    "        mi, ni = 0, 0\n",
    "        di = 1\n",
    "        while len(ans) < m*n:\n",
    "            mi += direct[di][0]\n",
    "            ni += direct[di][1]\n",
    "            if mi < 0 or ni < 0 or mi >= m or ni >= n:\n",
    "                s = mi + ni + 1\n",
    "                if di == 0:\n",
    "                    mi = min(m-1, mi)\n",
    "                    ni = s - mi\n",
    "                else:\n",
    "                    ni = min(n-1, ni)\n",
    "                    mi = s - ni\n",
    "                di ^= 1\n",
    "            ans.append(mat[mi][ni])\n",
    "        return ans\n"
   ]
  },
  {
   "cell_type": "code",
   "execution_count": null,
   "metadata": {},
   "outputs": [],
   "source": [
    "class Solution(object):\n",
    "    def findDiagonalOrder(self, mat):\n",
    "        \"\"\"\n",
    "        :type mat: List[List[int]]\n",
    "        :rtype: List[int]\n",
    "        \"\"\"\n",
    "        m, n = len(mat), len(mat[0])\n",
    "        ans = []\n",
    "        for i in range(m+n-1):\n",
    "            if i % 2:\n",
    "                x = max(0, i-n+1)\n",
    "                y = i - x\n",
    "                while x<m and y>=0:\n",
    "                    ans.append(mat[x][y])\n",
    "                    x += 1\n",
    "                    y -= 1\n",
    "            else:\n",
    "                y = max(0, i-m+1)\n",
    "                x = i - y\n",
    "                while y<n and x>=0:\n",
    "                    ans.append(mat[x][y])\n",
    "                    x -= 1\n",
    "                    y += 1\n",
    "        return ans\n"
   ]
  },
  {
   "cell_type": "code",
   "execution_count": null,
   "metadata": {},
   "outputs": [],
   "source": [
    "import unittest\n",
    "\n",
    "\n",
    "class LeetcodeTest(unittest.TestCase):\n",
    "    solution = getattr(Solution(), dir(Solution)[-1])\n",
    "\n",
    "    def test_case1(self):\n",
    "        test_input = [[1,2,3],[4,5,6],[7,8,9]]\n",
    "        test_output = [1,2,4,7,5,3,6,8,9]\n",
    "        self.assertEqual(self.solution(test_input), test_output)\n",
    "\n",
    "unittest.main(argv=['ignored', '-v'], exit=False)"
   ]
  }
 ],
 "metadata": {
  "kernelspec": {
   "display_name": "Python 3.7.10 ('osfir')",
   "language": "python",
   "name": "python3"
  },
  "language_info": {
   "codemirror_mode": {
    "name": "ipython",
    "version": 3
   },
   "file_extension": ".py",
   "mimetype": "text/x-python",
   "name": "python",
   "nbconvert_exporter": "python",
   "pygments_lexer": "ipython3",
   "version": "3.7.10"
  },
  "orig_nbformat": 4,
  "vscode": {
   "interpreter": {
    "hash": "8f10c23deeb0cc051b43c04ce2b4596f0d971a59bcf6ff8a8b744177b024b55d"
   }
  }
 },
 "nbformat": 4,
 "nbformat_minor": 2
}
