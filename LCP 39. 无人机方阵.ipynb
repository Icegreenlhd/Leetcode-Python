{
 "cells": [
  {
   "cell_type": "code",
   "execution_count": 4,
   "metadata": {},
   "outputs": [],
   "source": [
    "from collections import Counter\n",
    "class Solution(object):\n",
    "    def minimumSwitchingTimes(self, source, target):\n",
    "        \"\"\"\n",
    "        :type source: List[List[int]]\n",
    "        :type target: List[List[int]]\n",
    "        :rtype: int\n",
    "        \"\"\"\n",
    "        ns = sum(source, [])\n",
    "        nt = sum(target, [])\n",
    "        sc = Counter(ns)\n",
    "        tc = Counter(nt)\n",
    "        count = 0\n",
    "        for c in tc.keys():\n",
    "            if not sc.get(c):\n",
    "                count += tc[c]\n",
    "            elif sc[c] < tc[c]:\n",
    "                count += tc[c]-sc[c]\n",
    "        return count\n",
    "        "
   ]
  },
  {
   "cell_type": "code",
   "execution_count": null,
   "metadata": {},
   "outputs": [],
   "source": [
    "class Solution(object):\n",
    "    def minimumSwitchingTimes(self, source, target):\n",
    "        \"\"\"\n",
    "        :type source: List[List[int]]\n",
    "        :type target: List[List[int]]\n",
    "        :rtype: int\n",
    "        \"\"\"\n",
    "        if len(source) < 1 or len(source[0]) < 1: return 0\n",
    "        m, n = len(source), len(source[0])\n",
    "        p = [0 for _ in range(10001)]\n",
    "        for i in range(m):\n",
    "            for j in range(n):\n",
    "                p[source[i][j]] -= 1\n",
    "                p[target[i][j]] += 1\n",
    "        count = 0\n",
    "        for i in range(10001):\n",
    "            count += p[i] if p[i]>0 else 0\n",
    "        return count"
   ]
  },
  {
   "cell_type": "code",
   "execution_count": null,
   "metadata": {},
   "outputs": [],
   "source": [
    "class Solution(object):\n",
    "    def minimumSwitchingTimes(self, source, target):\n",
    "        \"\"\"\n",
    "        :type source: List[List[int]]\n",
    "        :type target: List[List[int]]\n",
    "        :rtype: int\n",
    "        \"\"\"\n",
    "        sc, tc, res = Counter(sum(source, [])), Counter(sum(target, [])), 0\n",
    "        for c in set(sc)|set(tc): res+=abs(sc[c]-tc[c])\n",
    "        return res//2"
   ]
  }
 ],
 "metadata": {
  "interpreter": {
   "hash": "8f10c23deeb0cc051b43c04ce2b4596f0d971a59bcf6ff8a8b744177b024b55d"
  },
  "kernelspec": {
   "display_name": "Python 3.7.10 ('osfir')",
   "language": "python",
   "name": "python3"
  },
  "language_info": {
   "codemirror_mode": {
    "name": "ipython",
    "version": 3
   },
   "file_extension": ".py",
   "mimetype": "text/x-python",
   "name": "python",
   "nbconvert_exporter": "python",
   "pygments_lexer": "ipython3",
   "version": "3.7.10"
  },
  "orig_nbformat": 4
 },
 "nbformat": 4,
 "nbformat_minor": 2
}
