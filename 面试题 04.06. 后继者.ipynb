{
 "cells": [
  {
   "cell_type": "code",
   "execution_count": null,
   "metadata": {},
   "outputs": [],
   "source": [
    "# Definition for a binary tree node.\n",
    "# class TreeNode(object):\n",
    "#     def __init__(self, x):\n",
    "#         self.val = x\n",
    "#         self.left = None\n",
    "#         self.right = None\n",
    "\n",
    "class Solution(object):\n",
    "    def inorderSuccessor(self, root, p):\n",
    "        \"\"\"\n",
    "        :type root: TreeNode\n",
    "        :type p: TreeNode\n",
    "        :rtype: TreeNode\n",
    "        \"\"\"\n",
    "        self.record = []\n",
    "        self.inorderTravel(root)\n",
    "        for i in range(len(self.record)-1):\n",
    "            if self.record[i].val == p.val:\n",
    "                return self.record[i+1]\n",
    "        return None\n",
    "\n",
    "    def inorderTravel(self, root):\n",
    "        if root == None:\n",
    "            return\n",
    "        \n",
    "        self.inorderTravel(root.left)\n",
    "        self.record.append(root)\n",
    "        self.inorderTravel(root.right)\n"
   ]
  },
  {
   "cell_type": "code",
   "execution_count": null,
   "metadata": {},
   "outputs": [],
   "source": [
    "# 中序遍历\n",
    "class Solution(object):\n",
    "    def inorderSuccessor(self, root, p):\n",
    "        \"\"\"\n",
    "        :type root: TreeNode\n",
    "        :type p: TreeNode\n",
    "        :rtype: TreeNode\n",
    "        \"\"\"\n",
    "        st, pre, cur = [], None, root\n",
    "        while st or cur:\n",
    "            while cur:\n",
    "                st.append(cur)\n",
    "                cur = cur.left\n",
    "            cur = st.pop()\n",
    "            if pre == p:\n",
    "                return cur\n",
    "            pre = cur\n",
    "            cur = cur.right\n",
    "        return"
   ]
  },
  {
   "cell_type": "code",
   "execution_count": null,
   "metadata": {},
   "outputs": [],
   "source": [
    "# 二叉树性质\n",
    "class Solution:\n",
    "    def inorderSuccessor(self, root, p):\n",
    "        successor = None\n",
    "        if p.right:\n",
    "            successor = p.right\n",
    "            while successor.left:\n",
    "                successor = successor.left\n",
    "            return successor\n",
    "        node = root\n",
    "        while node:\n",
    "            if node.val > p.val:\n",
    "                successor = node\n",
    "                node = node.left\n",
    "            else:\n",
    "                node = node.right\n",
    "        return successor"
   ]
  },
  {
   "cell_type": "code",
   "execution_count": null,
   "metadata": {},
   "outputs": [],
   "source": [
    "# 递归方法\n",
    "class Solution:\n",
    "    def inorderSuccessor(self, root, p):\n",
    "        if not root: return None\n",
    "        if root.val <= p.val:\n",
    "            return self.inorderSuccessor(root.right, p)\n",
    "        findleft = self.inorderSuccessor(root.left, p)\n",
    "        return findleft if findleft else root"
   ]
  }
 ],
 "metadata": {
  "language_info": {
   "name": "python"
  },
  "orig_nbformat": 4
 },
 "nbformat": 4,
 "nbformat_minor": 2
}
