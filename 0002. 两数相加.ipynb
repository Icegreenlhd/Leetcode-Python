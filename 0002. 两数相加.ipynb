{
 "cells": [
  {
   "cell_type": "markdown",
   "id": "21f22f69",
   "metadata": {},
   "source": [
    "给出两个 非空 的链表用来表示两个非负的整数。其中，它们各自的位数是按照 逆序 的方式存储的，并且它们的每个节点只能存储 一位 数字。\n",
    "\n",
    "如果，我们将这两个数相加起来，则会返回一个新的链表来表示它们的和。\n",
    "\n",
    "您可以假设除了数字 0 之外，这两个数都不会以 0 开头。\n",
    "\n",
    "示例：\n",
    "\n",
    "输入：(2 -> 4 -> 3) + (5 -> 6 -> 4)\n",
    "输出：7 -> 0 -> 8\n",
    "原因：342 + 465 = 807\n",
    "\n",
    "来源：力扣（LeetCode）\n",
    "链接：https://leetcode-cn.com/problems/add-two-numbers\n",
    "著作权归领扣网络所有。商业转载请联系官方授权，非商业转载请注明出处。"
   ]
  },
  {
   "cell_type": "code",
   "execution_count": null,
   "id": "4dc769bc",
   "metadata": {},
   "outputs": [],
   "source": [
    "# my solution\n",
    "class ListNode(object):\n",
    "    def __init__(self, x):\n",
    "        self.val = x\n",
    "        self.next = None\n",
    "\n",
    "\n",
    "class Solution(object):\n",
    "    def addTwoNumbers(self, l1, l2):\n",
    "        \"\"\"\n",
    "        :type l1: ListNode\n",
    "        :type l2: ListNode\n",
    "        :rtype: ListNode\n",
    "        \"\"\"\n",
    "        temp = l1.val + l2.val\n",
    "        carry = temp // 10\n",
    "        result = l_temp = ListNode(temp % 10)\n",
    "\n",
    "        while l1.next or l2.next or carry:\n",
    "            if l1.next:\n",
    "                l1 = l1.next\n",
    "            else:\n",
    "                l1.val = 0\n",
    "            if l2.next:\n",
    "                l2 = l2.next\n",
    "            else:\n",
    "                l2.val = 0\n",
    "                \n",
    "            temp = l2.val + l1.val + carry\n",
    "            carry = temp // 10\n",
    "            l_temp.next = ListNode(temp % 10)\n",
    "            l_temp = l_temp.next\n",
    "        return result"
   ]
  },
  {
   "cell_type": "code",
   "execution_count": null,
   "id": "003361fd",
   "metadata": {},
   "outputs": [],
   "source": [
    "# Definition for singly-linked list.\n",
    "class ListNode(object):\n",
    "    def __init__(self, x):\n",
    "        self.val = x\n",
    "        self.next = None\n",
    "\n",
    "\n",
    "class Solution(object):\n",
    "    def addTwoNumbers(self, l1, l2):\n",
    "        \"\"\"\n",
    "        :type l1: ListNode\n",
    "        :type l2: ListNode\n",
    "        :rtype: ListNode\n",
    "        \"\"\"\n",
    "        prev = result = ListNode(None)      # dummy head\n",
    "        carry = 0\n",
    "\n",
    "        while l1 or l2 or carry:\n",
    "            if l1:\n",
    "                carry += l1.val\n",
    "                l1 = l1.next\n",
    "            if l2:\n",
    "                carry += l2.val\n",
    "                l2 = l2.next\n",
    "            prev.next = ListNode(carry % 10)\n",
    "            prev = prev.next\n",
    "            carry //= 10\n",
    "        \n",
    "        return result.next"
   ]
  },
  {
   "cell_type": "markdown",
   "id": "423f5910",
   "metadata": {},
   "source": [
    "作者：wang_ni_ma\n",
    "链接：https://leetcode-cn.com/problems/add-two-numbers/solution/dong-hua-yan-shi-2-liang-shu-xiang-jia-by-user7439/\n",
    "来源：力扣（LeetCode）\n",
    "著作权归作者所有。商业转载请联系作者获得授权，非商业转载请注明出处。"
   ]
  },
  {
   "cell_type": "code",
   "execution_count": null,
   "id": "9f3a2324",
   "metadata": {},
   "outputs": [],
   "source": [
    "# 王尼玛 解法1\n",
    "class Solution(object):\n",
    "    def addTwoNumbers(self, l1, l2):\n",
    "        # 定义一个进位标志\n",
    "        a, b, p, carry = l1, l2, None, 0\n",
    "        while a or b:\n",
    "            # a和b节点的值相加，如果有进位还要加上进位的值\n",
    "            val = (a.val if a else 0)+(b.val if b else 0)+carry\n",
    "            # 根据val判断是否有进位,不管有没有进位，val都应该小于10\n",
    "            carry, val = val/10 if val >= 10 else 0, val % 10\n",
    "            p, p.val = a if a else b, val\n",
    "            # a和b指针都前进一位\n",
    "            a, b = a.next if a else None, b.next if b else None\n",
    "            # 根据a和b是否为空，p指针也前进一位\n",
    "            p.next = a if a else b\n",
    "        # 不要忘记最后的边界条件，如果循环结束carry>0说明有进位需要处理这个条件\n",
    "        if carry:\n",
    "            p.next = ListNode(carry)\n",
    "        # 每次迭代实际上都是将val赋给a指针的，所以最后返回的是l1\n",
    "        return l1"
   ]
  },
  {
   "cell_type": "markdown",
   "id": "5706fe32",
   "metadata": {},
   "source": [
    "作者：wang_ni_ma\n",
    "链接：https://leetcode-cn.com/problems/add-two-numbers/solution/dong-hua-yan-shi-2-liang-shu-xiang-jia-by-user7439/\n",
    "来源：力扣（LeetCode）\n",
    "著作权归作者所有。商业转载请联系作者获得授权，非商业转载请注明出处。"
   ]
  },
  {
   "cell_type": "code",
   "execution_count": null,
   "id": "9a262246",
   "metadata": {},
   "outputs": [],
   "source": [
    "# 王尼玛 解法2 递归思路\n",
    "class Solution(object):\n",
    "    def addTwoNumbers(self, l1, l2):\n",
    "        # 主要逻辑都在内部函数中实现\n",
    "        def add(a, b, carry):\n",
    "            # 递归的终止条件是a和b都为空\n",
    "            # 如果carry大于0需要返回一个进位标志\n",
    "            if not (a or b):\n",
    "                return ListNode(1) if carry else None\n",
    "            # 如果a为空则将ListNode(0)赋给a，对于b也是\n",
    "            a = a if a else ListNode(0)\n",
    "            b = b if b else ListNode(0)\n",
    "            # 处理val，以及进位标志\n",
    "            val = a.val + b.val + carry\n",
    "            carry = 1 if val >= 10 else 0\n",
    "            a.val = val % 10\n",
    "            # 现在a的值就是两个节点相加后的和了\n",
    "            # 之后再次递归计算a.next和b.next\n",
    "            a.next = add(a.next, b.next, carry)\n",
    "            return a\n",
    "        return add(l1, l2, 0)"
   ]
  }
 ],
 "metadata": {
  "jupytext": {
   "formats": "ipynb,py"
  },
  "kernelspec": {
   "display_name": "Python 3",
   "language": "python",
   "name": "python3"
  }
 },
 "nbformat": 4,
 "nbformat_minor": 5
}
