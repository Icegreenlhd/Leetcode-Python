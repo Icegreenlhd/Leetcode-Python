{
 "cells": [
  {
   "cell_type": "markdown",
   "id": "067c716e",
   "metadata": {},
   "source": [
    "给定一个整数数组 nums 和一个目标值 target，请你在该数组中找出和为目标值的那 两个 整数，并返回他们的数组下标。\n",
    "\n",
    "你可以假设每种输入只会对应一个答案。但是，你不能重复利用这个数组中同样的元素。\n",
    "\n",
    "示例:\n",
    "\n",
    "给定 nums = [2, 7, 11, 15], target = 9\n",
    "\n",
    "因为 nums[0] + nums[1] = 2 + 7 = 9\n",
    "所以返回 [0, 1]\n",
    "\n",
    "来源：力扣（LeetCode）\n",
    "链接：https://leetcode-cn.com/problems/two-sum\n",
    "著作权归领扣网络所有。商业转载请联系官方授权，非商业转载请注明出处。"
   ]
  },
  {
   "cell_type": "code",
   "execution_count": null,
   "id": "2303ad67",
   "metadata": {},
   "outputs": [],
   "source": [
    "# mysolution\n",
    "class Solution(object):\n",
    "    def twoSum(self, nums, target):\n",
    "        \"\"\"\n",
    "        :type nums: List[int]\n",
    "        :type target: int\n",
    "        :rtype: List[int]\n",
    "        \"\"\"\n",
    "        num_dict = dict()\n",
    "        \n",
    "        for i, num in enumerate(nums):\n",
    "            if target - num not in num_dict:\n",
    "                num_dict[num] = i\n",
    "            else:\n",
    "                return [num_dict[target-num], i]"
   ]
  },
  {
   "cell_type": "code",
   "execution_count": null,
   "id": "e7801212",
   "metadata": {},
   "outputs": [],
   "source": [
    "# leetcode python\n",
    "class Solution(object):\n",
    "    def twoSum(self, nums, target):\n",
    "        \"\"\"\n",
    "        :type nums: List[int]\n",
    "        :type target: int\n",
    "        :rtype: List[int]\n",
    "        \"\"\"\n",
    "        \n",
    "        num_to_index = {}\n",
    "        \n",
    "        for i, num in enumerate(nums):\n",
    "            if target - num in num_to_index:\n",
    "                return [num_to_index[target - num], i]\n",
    "            \n",
    "            num_to_index[num] = i\n",
    "        return [] # no sum"
   ]
  },
  {
   "cell_type": "code",
   "execution_count": null,
   "id": "9c5e3637",
   "metadata": {},
   "outputs": [],
   "source": [
    "# input\n",
    "nums = [2, 7, 11, 15]\n",
    "target = 9\n",
    "solution = Solution()"
   ]
  },
  {
   "cell_type": "code",
   "execution_count": null,
   "id": "c810a2eb",
   "metadata": {
    "pycharm": {
     "name": "#%%\n"
    }
   },
   "outputs": [],
   "source": [
    "solution.twoSum(nums, target)\n"
   ]
  }
 ],
 "metadata": {
  "jupytext": {
   "formats": "ipynb,py"
  },
  "kernelspec": {
   "display_name": "Python 3",
   "language": "python",
   "name": "python3"
  }
 },
 "nbformat": 4,
 "nbformat_minor": 5
}
