{
 "cells": [
  {
   "cell_type": "code",
   "execution_count": null,
   "metadata": {},
   "outputs": [],
   "source": [
    "class Solution(object):\n",
    "    def mySqrt(self, x):\n",
    "        \"\"\"\n",
    "        :type x: int\n",
    "        :rtype: int\n",
    "        \"\"\"\n",
    "        if (x == 1 or x == 0): return x\n",
    "        left = 0\n",
    "        right = x+1\n",
    "\n",
    "        while left<right:\n",
    "            mid = (left+right)//2\n",
    "            print(mid)\n",
    "            if mid == x / mid:\n",
    "                return mid\n",
    "            elif mid > x / mid:\n",
    "                right = mid\n",
    "            else:\n",
    "                left = mid + 1\n",
    "        return left -1"
   ]
  },
  {
   "cell_type": "code",
   "execution_count": null,
   "metadata": {},
   "outputs": [],
   "source": [
    "import unittest\n",
    "\n",
    "\n",
    "class LeetcodeTest(unittest.TestCase):\n",
    "    solution = getattr(Solution(), dir(Solution)[-1])\n",
    "\n",
    "    def test_case1(self):\n",
    "        test_input = 4\n",
    "        test_output = 2\n",
    "        self.assertEqual(self.solution(test_input), test_output)\n",
    "    def test_case2(self):\n",
    "        test_input = 8\n",
    "        test_output = 2\n",
    "        self.assertEqual(self.solution(test_input), test_output)\n",
    "    def test_case3(self):\n",
    "        test_input = 6\n",
    "        test_output = 2\n",
    "        self.assertEqual(self.solution(test_input), test_output)\n",
    "\n",
    "unittest.main(argv=['ignored', '-v'], exit=False)"
   ]
  }
 ],
 "metadata": {
  "interpreter": {
   "hash": "8f10c23deeb0cc051b43c04ce2b4596f0d971a59bcf6ff8a8b744177b024b55d"
  },
  "kernelspec": {
   "display_name": "Python 3.7.10 ('osfir')",
   "language": "python",
   "name": "python3"
  },
  "language_info": {
   "codemirror_mode": {
    "name": "ipython",
    "version": 3
   },
   "file_extension": ".py",
   "mimetype": "text/x-python",
   "name": "python",
   "nbconvert_exporter": "python",
   "pygments_lexer": "ipython3",
   "version": "3.7.10"
  },
  "orig_nbformat": 4
 },
 "nbformat": 4,
 "nbformat_minor": 2
}
