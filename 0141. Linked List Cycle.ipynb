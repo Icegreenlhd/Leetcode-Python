{
 "cells": [
  {
   "cell_type": "code",
   "execution_count": null,
   "id": "931d40ed",
   "metadata": {},
   "outputs": [],
   "source": [
    "class Solution(object):  # 简单的想法,记录node id, 保证不重复\n",
    "    def hasCycle(self, head):\n",
    "        \"\"\"\n",
    "        :type head: ListNode\n",
    "        :rtype: bool\n",
    "        \"\"\"\n",
    "        id_pool = []\n",
    "        while head and head.next:\n",
    "            if id(head) in id_pool:\n",
    "                return True\n",
    "            id_pool.append(id(head))\n",
    "            head = head.next\n",
    "        return False      "
   ]
  },
  {
   "cell_type": "code",
   "execution_count": null,
   "id": "e88a45f3",
   "metadata": {},
   "outputs": [],
   "source": [
    "class Solution(object):  # 循环里面追逐, 追到就有循环没有就没有\n",
    "    def hasCycle(self, head):\n",
    "        marker1 = head\n",
    "        marker2 = head\n",
    "        while marker2!=None and marker2.next!=None:\n",
    "            marker1 = marker1.next\n",
    "            marker2 = marker2.next.next\n",
    "            if marker2==marker1:\n",
    "                return True\n",
    "        return False"
   ]
  }
 ],
 "metadata": {
  "kernelspec": {
   "display_name": "Python 3 (ipykernel)",
   "language": "python",
   "name": "python3"
  },
  "language_info": {
   "codemirror_mode": {
    "name": "ipython",
    "version": 3
   },
   "file_extension": ".py",
   "mimetype": "text/x-python",
   "name": "python",
   "nbconvert_exporter": "python",
   "pygments_lexer": "ipython3",
   "version": "3.9.7"
  }
 },
 "nbformat": 4,
 "nbformat_minor": 5
}
