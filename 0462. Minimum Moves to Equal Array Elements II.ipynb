{
 "cells": [
  {
   "cell_type": "code",
   "execution_count": null,
   "metadata": {},
   "outputs": [],
   "source": [
    "# 二分查找\n",
    "class Solution(object):\n",
    "    def minMoves2(self, nums):\n",
    "        \"\"\"\n",
    "        :type nums: List[int]\n",
    "        :rtype: int\n",
    "        \"\"\"\n",
    "        if len(nums) <= 1: return 0\n",
    "        self.nums = nums\n",
    "        count = float('inf')\n",
    "        left, right = min(nums), max(nums)\n",
    "        while left <= right: \n",
    "            mid = (left+right)//2\n",
    "            c, cn = self.count_move(mid)\n",
    "            count = min(c, count)\n",
    "            if cn > 0:\n",
    "                left = mid+1\n",
    "            elif cn < 0:\n",
    "                right = mid-1\n",
    "            else:\n",
    "                return count \n",
    "        return count\n",
    "\n",
    "    def count_move(self, m):\n",
    "        count = 0\n",
    "        count_num = 0\n",
    "        for n in self.nums:\n",
    "            count += abs(n-m)\n",
    "            count_num += (n-m)/abs(n-m) if n-m!=0 else 0\n",
    "        return count, count_num\n",
    "\n",
    "    "
   ]
  },
  {
   "cell_type": "code",
   "execution_count": null,
   "metadata": {},
   "outputs": [],
   "source": [
    "# 排序中位数\n",
    "class Solution:\n",
    "    def minMoves2(self, nums):\n",
    "        nums.sort()\n",
    "        return sum(abs(num - nums[len(nums) // 2]) for num in nums)"
   ]
  }
 ],
 "metadata": {
  "language_info": {
   "name": "python"
  },
  "orig_nbformat": 4
 },
 "nbformat": 4,
 "nbformat_minor": 2
}
