{
 "cells": [
  {
   "cell_type": "code",
   "execution_count": 1,
   "metadata": {},
   "outputs": [],
   "source": [
    "class Solution(object):\n",
    "    def maxProfit(self, prices):\n",
    "        \"\"\"\n",
    "        :type prices: List[int]\n",
    "        :rtype: int\n",
    "        \"\"\"\n",
    "        if not prices: return 0\n",
    "        n = len(prices)\n",
    "        dp = [[[0 for _ in range(2)] for _ in range(2)] for _ in range(n)] # 1维天数，2维1卖出，3维1持股\n",
    "        dp[0][0][0] = 0\n",
    "        dp[0][0][1] = -prices[0]\n",
    "        dp[0][1][0], dp[0][1][1] = -float('inf'), -float('inf')\n",
    "        for i in range(1, len(prices)):\n",
    "            dp[i][1][0] = dp[i-1][0][1]+prices[i]\n",
    "            dp[i][0][0] = max(dp[i-1][0][0], dp[i-1][1][0])\n",
    "            dp[i][0][1] = max(dp[i-1][0][1], dp[i-1][0][0]-prices[i])\n",
    "            \n",
    "        return max(dp[-1][0][0], dp[-1][1][0])"
   ]
  }
 ],
 "metadata": {
  "interpreter": {
   "hash": "8f10c23deeb0cc051b43c04ce2b4596f0d971a59bcf6ff8a8b744177b024b55d"
  },
  "kernelspec": {
   "display_name": "Python 3.7.10 ('osfir')",
   "language": "python",
   "name": "python3"
  },
  "language_info": {
   "codemirror_mode": {
    "name": "ipython",
    "version": 3
   },
   "file_extension": ".py",
   "mimetype": "text/x-python",
   "name": "python",
   "nbconvert_exporter": "python",
   "pygments_lexer": "ipython3",
   "version": "3.7.10"
  },
  "orig_nbformat": 4
 },
 "nbformat": 4,
 "nbformat_minor": 2
}
