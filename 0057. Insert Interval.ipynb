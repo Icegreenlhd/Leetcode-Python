{
 "cells": [
  {
   "cell_type": "markdown",
   "id": "f76f166e",
   "metadata": {},
   "source": [
    "Given a set of non-overlapping intervals, insert a new interval into the intervals (merge if necessary).  \n",
    "\n",
    "You may assume that the intervals were initially sorted according to their start times.  \n",
    "\n",
    "Example 1:  \n",
    "\n",
    "Input: intervals = [[1,3],[6,9]], newInterval = [2,5]  \n",
    "Output: [[1,5],[6,9]]  \n",
    "Example 2:  \n",
    "\n",
    "Input: intervals = [[1,2],[3,5],[6,7],[8,10],[12,16]], newInterval = [4,8]  \n",
    "Output: [[1,2],[3,10],[12,16]]  \n",
    "Explanation: Because the new interval [4,8] overlaps with [3,5],[6,7],[8,10].  \n",
    "NOTE: input types have been changed on April 15, 2019. Please reset to default code definition to get new method signature.  "
   ]
  },
  {
   "cell_type": "code",
   "execution_count": null,
   "id": "58bafe61",
   "metadata": {},
   "outputs": [],
   "source": [
    "class Solution(object):\n",
    "    def insert(self, intervals, newInterval):\n",
    "        \"\"\"\n",
    "        :type intervals: List[List[int]]\n",
    "        :type newInterval: List[int]\n",
    "        :rtype: List[List[int]]\n",
    "        \"\"\"\n",
    "        head, tail = [], []\n",
    "        \n",
    "        for interval in intervals:\n",
    "            if (interval[0]<newInterval[0] and inter\n",
    "            \n",
    "        return intervals"
   ]
  },
  {
   "cell_type": "code",
   "execution_count": null,
   "id": "284667e4",
   "metadata": {},
   "outputs": [],
   "source": [
    "# +\n",
    "import unittest\n",
    "\n",
    "\n",
    "class LeetcodeTest0057(unittest.TestCase):\n",
    "    solution = Solution()\n",
    "\n",
    "    def test_case1(self):\n",
    "        intervals = [[1, 2], [3, 5], [6, 7], [8, 10], [12, 16]]\n",
    "        newInterval = [4, 8]\n",
    "        test_output = [[1, 2], [3, 10], [12, 16]]\n",
    "        self.assertEqual(self.solution.insert(\n",
    "            intervals, newInterval), test_output)\n",
    "\n",
    "    def test_case2(self):\n",
    "        intervals = [[1, 3], [6, 9]]\n",
    "        newInterval = [2, 5]\n",
    "        test_output= [[1,5],[6,9]]\n",
    "        self.assertEqual(self.solution.insert(\n",
    "            intervals, newInterval), test_output)\n",
    "\n",
    "unittest.main(argv=['ignored', '-v'], exit=False)"
   ]
  }
 ],
 "metadata": {
  "jupytext": {
   "formats": "ipynb,py"
  },
  "kernelspec": {
   "display_name": "Python 3",
   "language": "python",
   "name": "python3"
  }
 },
 "nbformat": 4,
 "nbformat_minor": 5
}
