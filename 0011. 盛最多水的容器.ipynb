{
 "cells": [
  {
   "cell_type": "markdown",
   "id": "e193137e",
   "metadata": {},
   "source": [
    "Given n non-negative integers a1, a2, ..., an , where each represents a point at coordinate (i, ai). n vertical lines are drawn such that the two endpoints of line i is at (i, ai) and (i, 0). Find two lines, which together with x-axis forms a container, such that the container contains the most water.\n",
    "\n",
    "Note: You may not slant the container and n is at least 2.\n",
    "\n",
    "<img src=\"https://s3-lc-upload.s3.amazonaws.com/uploads/2018/07/17/question_11.jpg\" width=\"100%\">\n",
    "\n",
    "\n",
    "\n",
    "The above vertical lines are represented by array [1,8,6,2,5,4,8,3,7]. In this case, the max area of water (blue section) the container can contain is 49.\n",
    "\n",
    " \n",
    "\n",
    "Example:\n",
    "```\n",
    "Input: [1,8,6,2,5,4,8,3,7]\n",
    "Output: 49\n",
    "```"
   ]
  },
  {
   "cell_type": "code",
   "execution_count": null,
   "id": "4f7c5240",
   "metadata": {},
   "outputs": [],
   "source": [
    "# my solution 1, simple idea that just for traverse the height, timeout\n",
    "class Solution(object):\n",
    "    def maxArea(self, height):\n",
    "        \"\"\"\n",
    "        :type height: List[int]\n",
    "        :rtype: int\n",
    "        \"\"\"\n",
    "        output = 0\n",
    "\n",
    "        for i in range(len(height)):\n",
    "            for j in range(i, len(height)):\n",
    "                width = j - i\n",
    "                area = width * min(height[i], height[j])\n",
    "                output = max(area, output)\n",
    "\n",
    "        return output"
   ]
  },
  {
   "cell_type": "code",
   "execution_count": null,
   "id": "332a8e3d",
   "metadata": {},
   "outputs": [],
   "source": [
    "# my solution 2,\n",
    "class Solution(object):\n",
    "    def maxArea(self, height):\n",
    "        \"\"\"\n",
    "        :type height: List[int]\n",
    "        :rtype: int\n",
    "        \"\"\"\n",
    "        lowest = 0\n",
    "        output = 0\n",
    "        higher = [_ for _ in range(len(height)-1, -1, -1)]\n",
    "        remove = []\n",
    "        for i in range(len(height)):\n",
    "            if i not in higher:\n",
    "                continue\n",
    "            higher.remove(i)\n",
    "            for j in higher:\n",
    "                if height[j] < lowest:\n",
    "                    remove.append(j)\n",
    "                    continue\n",
    "                width = j - i\n",
    "                lowest = max(min(height[i], height[j]), lowest)\n",
    "                area = width * lowest\n",
    "                output = max(area, output)\n",
    "            while(remove):\n",
    "                higher.remove(remove.pop())\n",
    "\n",
    "        return output"
   ]
  },
  {
   "cell_type": "code",
   "execution_count": null,
   "id": "9fa4be6e",
   "metadata": {},
   "outputs": [],
   "source": [
    "# my solution 3, 短边补长\n",
    "class Solution(object):\n",
    "    def maxArea(self, height):\n",
    "        \"\"\"\n",
    "        :type height: List[int]\n",
    "        :rtype: int\n",
    "        \"\"\"\n",
    "        output = 0\n",
    "        i, j, width = 0, len(height)-1, len(height)-1\n",
    "\n",
    "        for _ in range(len(height)):\n",
    "            output = max(output, width * min(height[i], height[j]))\n",
    "            i, j, width = (i+1, j, width-1) if height[i] < height[j] else (i, j-1,width-1)\n",
    "\n",
    "        return output"
   ]
  },
  {
   "cell_type": "code",
   "execution_count": null,
   "id": "86e338d3",
   "metadata": {},
   "outputs": [],
   "source": [
    "# Jake's solution\n",
    "class Solution(object):\n",
    "    def maxArea(self, height):\n",
    "        \"\"\"\n",
    "        :type height: List[int]\n",
    "        :rtype: int\n",
    "        \"\"\"\n",
    "        left = 0\n",
    "        right = len(height)-1\n",
    "        max_area = (right - left) * min(height[right], height[left])\n",
    "\n",
    "        while left < right:\n",
    "            # By moving in the lower boundary we have the possibility\n",
    "            if height[left] < height[right]:\n",
    "                left += 1                       # of finding a larger area.\n",
    "            else:\n",
    "                right -= 1\n",
    "            max_area = max(max_area, (right - left) *\n",
    "                           min(height[right], height[left]))\n",
    "\n",
    "        return max_area"
   ]
  },
  {
   "cell_type": "code",
   "execution_count": null,
   "id": "3a88e75a",
   "metadata": {},
   "outputs": [],
   "source": [
    "# test\n",
    "input = list()\n",
    "input.append(([1, 8, 6, 2, 5, 4, 8, 3, 7], 49))\n",
    "input.append(([1, 3, 2, 5, 25, 24, 5], 24))\n",
    "input.append(([1, 2, 3, 4, 5, 25, 24, 3, 4], 24))\n",
    "solution = Solution()\n",
    "for i in input:\n",
    "    height, result = i\n",
    "    my_result = solution.maxArea(height)\n",
    "    if result != my_result:\n",
    "        print(\"Wrong\", \"Input:{} Result:{} Myresult:{}\".format(\n",
    "            height, result, my_result))"
   ]
  }
 ],
 "metadata": {
  "jupytext": {
   "formats": "ipynb,py"
  },
  "kernelspec": {
   "display_name": "Python 3",
   "language": "python",
   "name": "python3"
  }
 },
 "nbformat": 4,
 "nbformat_minor": 5
}
