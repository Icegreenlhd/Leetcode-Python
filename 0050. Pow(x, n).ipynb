{
 "cells": [
  {
   "cell_type": "markdown",
   "id": "9a00209a",
   "metadata": {},
   "source": [
    "# my solution 1，简单乘积"
   ]
  },
  {
   "cell_type": "code",
   "execution_count": null,
   "id": "b4822853",
   "metadata": {},
   "outputs": [],
   "source": [
    "class Solution(object):\n",
    "    def myPow(self, x, n):\n",
    "        \"\"\"\n",
    "        :type x: float\n",
    "        :type n: int\n",
    "        :rtype: float\n",
    "        \"\"\"\n",
    "        if n == 0:\n",
    "            return 1\n",
    "        x = 1/x if n < 0 else x\n",
    "        \n",
    "        newx = x\n",
    "        for _ in range(abs(n)-1):\n",
    "            newx *= x\n",
    "            \n",
    "        return newx"
   ]
  },
  {
   "cell_type": "code",
   "execution_count": 1,
   "id": "eeb713c4",
   "metadata": {},
   "outputs": [],
   "source": [
    "class Solution(object):\n",
    "    def myPow(self, x, n):\n",
    "        \"\"\"\n",
    "        :type x: float\n",
    "        :type n: int\n",
    "        :rtype: float\n",
    "        \"\"\"\n",
    "        if n == 0:\n",
    "            return 1\n",
    "        \n",
    "        temp = self.myPow(x, abs(n) // 2) if n > 0 else self.myPow(1 / x, abs(n) // 2)\n",
    "        temp *= temp\n",
    "        if n % 2 == 0:\n",
    "            return temp\n",
    "        elif n > 0:\n",
    "            return temp * x\n",
    "        else:\n",
    "            return temp / x"
   ]
  },
  {
   "cell_type": "code",
   "execution_count": 4,
   "id": "4c204a65",
   "metadata": {},
   "outputs": [
    {
     "name": "stderr",
     "output_type": "stream",
     "text": [
      "test_case1 (__main__.LeetcodeTest) ... ok\n",
      "\n",
      "----------------------------------------------------------------------\n",
      "Ran 1 test in 0.000s\n",
      "\n",
      "OK\n"
     ]
    },
    {
     "data": {
      "text/plain": [
       "<unittest.main.TestProgram at 0x7f2fa0ab9f90>"
      ]
     },
     "execution_count": 4,
     "metadata": {},
     "output_type": "execute_result"
    }
   ],
   "source": [
    "import unittest\n",
    "\n",
    "\n",
    "class LeetcodeTest(unittest.TestCase):\n",
    "    solution = getattr(Solution(), dir(Solution)[-1])\n",
    "\n",
    "    def test_case1(self):\n",
    "        test_input = (2, -3)\n",
    "        test_output = 1 / 8\n",
    "        self.assertEqual(self.solution(*test_input), test_output)\n",
    "\n",
    "unittest.main(argv=['ignored', '-v'], exit=False)"
   ]
  },
  {
   "cell_type": "markdown",
   "id": "e804fd73",
   "metadata": {},
   "source": [
    "# Jake solution\n",
    "Recursively calculate (pow(x, n//2))^2 if n is even or with additional factor of x if n is odd.\n",
    "- Time - O(log n)\n",
    "- Space - O(log n)"
   ]
  },
  {
   "cell_type": "code",
   "execution_count": null,
   "id": "23c3d813",
   "metadata": {},
   "outputs": [],
   "source": [
    "class Solution(object):\n",
    "    def myPow(self, x, n):\n",
    "        \"\"\"\n",
    "        :type x: float\n",
    "        :type n: int\n",
    "        :rtype: float\n",
    "        \"\"\"\n",
    "        neg = n < 0\n",
    "        pos_result = self.pos_pow(x, abs(n))\n",
    "        return 1/pos_result if neg else pos_result\n",
    "\n",
    "    def pos_pow(self, x, n):\n",
    "        if n == 0:\n",
    "            return 1\n",
    "\n",
    "        temp = self.pos_pow(x, n//2)\n",
    "        temp *= temp\n",
    "\n",
    "        return temp if n % 2 == 0 else temp * x"
   ]
  }
 ],
 "metadata": {
  "jupytext": {
   "formats": "ipynb,py"
  },
  "kernelspec": {
   "display_name": "Python 3",
   "language": "python",
   "name": "python3"
  },
  "language_info": {
   "codemirror_mode": {
    "name": "ipython",
    "version": 3
   },
   "file_extension": ".py",
   "mimetype": "text/x-python",
   "name": "python",
   "nbconvert_exporter": "python",
   "pygments_lexer": "ipython3",
   "version": "3.7.10"
  }
 },
 "nbformat": 4,
 "nbformat_minor": 5
}
