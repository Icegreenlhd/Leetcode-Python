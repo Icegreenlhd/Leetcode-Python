{
 "cells": [
  {
   "cell_type": "markdown",
   "id": "9a00209a",
   "metadata": {},
   "source": [
    "# my solution 1，简单乘积"
   ]
  },
  {
   "cell_type": "code",
   "execution_count": null,
   "id": "b4822853",
   "metadata": {},
   "outputs": [],
   "source": [
    "class Solution(object):\n",
    "    def myPow(self, x, n):\n",
    "        \"\"\"\n",
    "        :type x: float\n",
    "        :type n: int\n",
    "        :rtype: float\n",
    "        \"\"\"\n",
    "        if n == 0:\n",
    "            return 1\n",
    "        x = 1/x if n < 0 else x\n",
    "        \n",
    "        newx = x\n",
    "        for _ in range(abs(n)-1):\n",
    "            newx *= x\n",
    "            \n",
    "        return newx"
   ]
  },
  {
   "cell_type": "markdown",
   "id": "e804fd73",
   "metadata": {},
   "source": [
    "# Jake solution\n",
    "Recursively calculate (pow(x, n//2))^2 if n is even or with additional factor of x if n is odd.\n",
    "- Time - O(log n)\n",
    "- Space - O(log n)"
   ]
  },
  {
   "cell_type": "code",
   "execution_count": null,
   "id": "23c3d813",
   "metadata": {},
   "outputs": [],
   "source": [
    "class Solution(object):\n",
    "    def myPow(self, x, n):\n",
    "        \"\"\"\n",
    "        :type x: float\n",
    "        :type n: int\n",
    "        :rtype: float\n",
    "        \"\"\"\n",
    "        neg = n < 0\n",
    "        pos_result = self.pos_pow(x, abs(n))\n",
    "        return 1/pos_result if neg else pos_result\n",
    "\n",
    "    def pos_pow(self, x, n):\n",
    "        if n == 0:\n",
    "            return 1\n",
    "\n",
    "        temp = self.pos_pow(x, n//2)\n",
    "        temp *= temp\n",
    "\n",
    "        return temp if n % 2 == 0 else temp * x"
   ]
  }
 ],
 "metadata": {
  "jupytext": {
   "formats": "ipynb,py"
  },
  "kernelspec": {
   "display_name": "Python 3",
   "language": "python",
   "name": "python3"
  }
 },
 "nbformat": 4,
 "nbformat_minor": 5
}
