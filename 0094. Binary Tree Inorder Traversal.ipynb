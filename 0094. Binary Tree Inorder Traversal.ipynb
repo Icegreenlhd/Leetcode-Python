{
 "cells": [
  {
   "cell_type": "code",
   "execution_count": null,
   "metadata": {},
   "outputs": [],
   "source": [
    "# Definition for a binary tree node.\n",
    "# class TreeNode(object):\n",
    "#     def __init__(self, val=0, left=None, right=None):\n",
    "#         self.val = val\n",
    "#         self.left = left\n",
    "#         self.right = right\n",
    "class Solution(object):\n",
    "    def inorderTraversal(self, root):\n",
    "        \"\"\"\n",
    "        :type root: TreeNode\n",
    "        :rtype: List[int]\n",
    "        \"\"\"\n",
    "        if not root: return []\n",
    "        self.res = []\n",
    "        self._dfs(root)\n",
    "        return self.res\n",
    "        \n",
    "    def _dfs(self, root):\n",
    "        if root == None:\n",
    "            return\n",
    "        \n",
    "        self._dfs(root.left)\n",
    "        self.res.append(root.val)\n",
    "        self._dfs(root.right)"
   ]
  },
  {
   "cell_type": "code",
   "execution_count": null,
   "metadata": {},
   "outputs": [],
   "source": [
    "class TreeNode(object):\n",
    "    def __init__(self, x):\n",
    "        self.val = x\n",
    "        self.left = None\n",
    "        self.right = None\n",
    "\n",
    "null = None\n",
    "\n",
    "def init_bst(tree):\n",
    "    if not tree: return None\n",
    "    t = tree.copy()\n",
    "    root = TreeNode(t.pop(0))\n",
    "    tree_list = [root]\n",
    "    while len(t) > 0:\n",
    "        size = len(tree_list)\n",
    "        for i in range(size):\n",
    "            temp = tree_list.pop(0)\n",
    "            if temp != None:\n",
    "                left = t.pop(0) if len(t) > 0 else None\n",
    "                temp.left  = TreeNode(left) if left else None\n",
    "                right = t.pop(0) if len(t) > 0 else None\n",
    "                temp.right  = TreeNode(right) if right else None\n",
    "                tree_list.append(temp.left)\n",
    "                tree_list.append(temp.right)\n",
    "    return root"
   ]
  },
  {
   "cell_type": "code",
   "execution_count": null,
   "metadata": {},
   "outputs": [],
   "source": [
    "import unittest\n",
    "\n",
    "\n",
    "class LeetcodeTest(unittest.TestCase):\n",
    "    solution = getattr(Solution(), dir(Solution)[-1])\n",
    "\n",
    "    def test_case1(self):\n",
    "        test_input = init_bst([1,null,2,3])\n",
    "        test_output = [1,3,2]\n",
    "        self.assertEqual(self.solution(test_input), test_output)\n",
    "    def test_case2(self):\n",
    "        test_input = init_bst([])\n",
    "        test_output = []\n",
    "        self.assertEqual(self.solution(test_input), test_output)\n",
    "    def test_case3(self):\n",
    "        test_input = init_bst([1])\n",
    "        test_output = [1]\n",
    "        self.assertEqual(self.solution(test_input), test_output)\n",
    "\n",
    "unittest.main(argv=['ignored', '-v'], exit=False)"
   ]
  }
 ],
 "metadata": {
  "interpreter": {
   "hash": "8f10c23deeb0cc051b43c04ce2b4596f0d971a59bcf6ff8a8b744177b024b55d"
  },
  "kernelspec": {
   "display_name": "Python 3.7.10 ('osfir')",
   "language": "python",
   "name": "python3"
  },
  "language_info": {
   "codemirror_mode": {
    "name": "ipython",
    "version": 3
   },
   "file_extension": ".py",
   "mimetype": "text/x-python",
   "name": "python",
   "nbconvert_exporter": "python",
   "pygments_lexer": "ipython3",
   "version": "3.7.10"
  },
  "orig_nbformat": 4
 },
 "nbformat": 4,
 "nbformat_minor": 2
}
