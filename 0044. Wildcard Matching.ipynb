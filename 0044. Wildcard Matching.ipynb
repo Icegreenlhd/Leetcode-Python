{
 "cells": [
  {
   "cell_type": "markdown",
   "id": "8bf782c9",
   "metadata": {},
   "source": [
    "Given an input string (`s`) and a pattern (`p`), implement wildcard pattern matching with support for `'?'` and `'*'`.\n",
    "```\n",
    "'?' Matches any single character.\n",
    "'*' Matches any sequence of characters (including the empty sequence).\n",
    "The matching should cover the entire input string (not partial).\n",
    "```\n",
    "Note:\n",
    "\n",
    "- s could be empty and contains only lowercase letters a-z.\n",
    "- p could be empty and contains only lowercase letters a-z, and characters like `?` or `*`.\n",
    "Example 1:\n",
    "```\n",
    "Input:\n",
    "s = \"aa\"\n",
    "p = \"a\"\n",
    "Output: false\n",
    "Explanation: \"a\" does not match the entire string \"aa\".\n",
    "```\n",
    "Example 2:\n",
    "```\n",
    "Input:\n",
    "s = \"aa\"\n",
    "p = \"*\"\n",
    "Output: true\n",
    "Explanation: '*' matches any sequence.\n",
    "```\n",
    "Example 3:\n",
    "```\n",
    "Input:\n",
    "s = \"cb\"\n",
    "p = \"?a\"\n",
    "Output: false\n",
    "Explanation: '?' matches 'c', but the second letter is 'a', which does not match 'b'.\n",
    "```\n",
    "Example 4:\n",
    "```\n",
    "Input:\n",
    "s = \"adceb\"\n",
    "p = \"*a*b\"\n",
    "Output: true\n",
    "Explanation: The first '*' matches the empty sequence, while the second '*' matches the substring \"dce\".\n",
    "```\n",
    "Example 5:\n",
    "```\n",
    "Input:\n",
    "s = \"acdcb\"\n",
    "p = \"a*c?b\"\n",
    "Output: false\n",
    "```"
   ]
  },
  {
   "cell_type": "markdown",
   "id": "b9cc85d7",
   "metadata": {},
   "source": [
    "# my solution 1, 动态规划\n",
    "- Time：O($m n$)\n",
    "- Space: O($n^2$)"
   ]
  },
  {
   "cell_type": "code",
   "execution_count": null,
   "id": "399af1e0",
   "metadata": {},
   "outputs": [],
   "source": [
    "class Solution(object):\n",
    "    def isMatch(self, s, p):\n",
    "        \"\"\"\n",
    "        :type s: str\n",
    "        :type p: str\n",
    "        :rtype: bool\n",
    "        \"\"\"\n",
    "        dynamic = [[False for _ in range(len(s)+1)] for _ in range(len(p)+1)]\n",
    "        dynamic[0][0] = True\n",
    "\n",
    "        for i in range(1, len(p)+1):\n",
    "            for j in range(len(s)+1):\n",
    "                if p[i-1] == \"*\" and (dynamic[i-1][j] or (j > 0 and dynamic[i][j-1])):\n",
    "                    dynamic[i][j] = True\n",
    "                elif j>0 and dynamic[i-1][j-1] and (p[i-1] == \"?\" or p[i-1] == s[j-1]):\n",
    "                    dynamic[i][j] = True\n",
    "        return dynamic[len(p)][len(s)]"
   ]
  },
  {
   "cell_type": "code",
   "execution_count": null,
   "id": "55a8d680",
   "metadata": {},
   "outputs": [],
   "source": []
  },
  {
   "cell_type": "markdown",
   "id": "de54a47d",
   "metadata": {},
   "source": [
    "# my solution 2, 根据0010修改"
   ]
  },
  {
   "cell_type": "code",
   "execution_count": null,
   "id": "42c5168d",
   "metadata": {},
   "outputs": [],
   "source": [
    "class Solution(object):\n",
    "    def isMatch(self, s, p):\n",
    "        \"\"\"\n",
    "        :type s: str\n",
    "        :type p: str\n",
    "        :rtype: bool\n",
    "        \"\"\"\n",
    "        dynamic = [[False for _ in range(len(p)+1)] for _ in range(len(s)+1)]\n",
    "        dynamic[0][0] = True\n",
    "\n",
    "        for i in range(len(s)+1):\n",
    "            for j in range(1, len(p)+1):\n",
    "                if p[j-1] == \"*\":\n",
    "                    dynamic[i][j] = dynamic[i][j-1] or (i > 0 and dynamic[i-1][j])\n",
    "                else:\n",
    "                    dynamic[i][j] = i > 0 and dynamic[i-1][j-1] and (p[j-1] == '?' or p[j-1] == s[i-1])\n",
    "        return dynamic[len(s)][len(p)]"
   ]
  },
  {
   "cell_type": "markdown",
   "id": "667dd2ac",
   "metadata": {},
   "source": [
    "# Jake's solution\n",
    "Record index in p of star and index in s at that time.  Try to match without star, if fails back up and use *\n",
    "to match one more character from s.\n",
    "- Time - O(m * n), * at beginning of p could match many chars in s before failing and repeatedly backtrack\n",
    "- Space - O(1)"
   ]
  },
  {
   "cell_type": "code",
   "execution_count": null,
   "id": "8d556c5b",
   "metadata": {},
   "outputs": [],
   "source": [
    "class Solution(object):\n",
    "    def isMatch(self, s, p):\n",
    "\n",
    "        i, j = 0, 0         # next indices to be matched in s and p\n",
    "        star = -1           # last index in p of *\n",
    "\n",
    "        while i < len(s):\n",
    "\n",
    "            # if beyond end of pattern or pattern is unmatched letter\n",
    "            if j >= len(p) or (p[j] not in {'*' , '?'} and p[j] != s[i]):\n",
    "                if star == -1:      # no flexibility if no star\n",
    "                    return False\n",
    "                j = star + 1        # reset p to character after star\n",
    "                star_i += 1         # reset s to charcater after star_i, i.e. use * to match one char from s\n",
    "                i = star_i\n",
    "\n",
    "            elif p[j] == '*':       # record * index in p and next index to be matched in s\n",
    "                star = j\n",
    "                star_i = i\n",
    "                j += 1\n",
    "\n",
    "            else:                   # chars match or ?, increment both\n",
    "                i += 1\n",
    "                j += 1\n",
    "\n",
    "        while j < len(p):           # any remaining characters in p can only be *\n",
    "            if p[j] != '*':\n",
    "                return False\n",
    "            j += 1\n",
    "        return True"
   ]
  }
 ],
 "metadata": {
  "jupytext": {
   "formats": "ipynb,py"
  },
  "kernelspec": {
   "display_name": "Python 3",
   "language": "python",
   "name": "python3"
  }
 },
 "nbformat": 4,
 "nbformat_minor": 5
}
