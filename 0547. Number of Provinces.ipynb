{
 "cells": [
  {
   "cell_type": "code",
   "execution_count": null,
   "metadata": {},
   "outputs": [],
   "source": [
    "class DisjoinSet(object):\n",
    "    def __init__(self, isconnected):\n",
    "        n = len(isconnected)\n",
    "        self.roots = [-1] * (n)\n",
    "        self.count = 0\n",
    "        for i in range(n):\n",
    "            self.roots[i] = i\n",
    "            self.count += 1\n",
    "    \n",
    "    def findroot(self, i):\n",
    "        root = i\n",
    "        while root != self.roots[root]:\n",
    "            root = self.roots[root]\n",
    "        while i != self.roots[i]:\n",
    "            tmp = self.roots[i]\n",
    "            self.roots[i] = root\n",
    "            i = tmp\n",
    "        return root\n",
    "\n",
    "    def connected(self, p, q):\n",
    "        return self.findroot(p) == self.findroot(q)\n",
    "    \n",
    "    def union(self, p, q):\n",
    "        qroot = self.findroot(p)\n",
    "        proot = self.findroot(q)\n",
    "        if proot != qroot:\n",
    "            self.roots[proot] = qroot\n",
    "            self.count -= 1\n",
    "\n",
    "class Solution(object):\n",
    "    def findCircleNum(self, isConnected):\n",
    "        \"\"\"\n",
    "        :type isConnected: List[List[int]]\n",
    "        :rtype: int\n",
    "        \"\"\"\n",
    "        if len(isConnected) <= 0: return 0\n",
    "        n = len(isConnected)\n",
    "        ds = DisjoinSet(isConnected)\n",
    "        for i in range(n):\n",
    "            for j in range(i+1, n):\n",
    "                if isConnected[i][j]:\n",
    "                    ds.union(i, j)\n",
    "        return ds.count\n",
    "        "
   ]
  },
  {
   "cell_type": "code",
   "execution_count": null,
   "metadata": {},
   "outputs": [],
   "source": [
    "import unittest\n",
    "\n",
    "\n",
    "class LeetcodeTest(unittest.TestCase):\n",
    "    solution = getattr(Solution(), dir(Solution)[-1])\n",
    "\n",
    "    def test_case1(self):\n",
    "        test_input = [[1,0,0],[0,1,0],[0,0,1]]\n",
    "        test_output = 3\n",
    "        self.assertEqual(self.solution(test_input), test_output)\n",
    "\n",
    "unittest.main(argv=['ignored', '-v'], exit=False)"
   ]
  }
 ],
 "metadata": {
  "interpreter": {
   "hash": "8f10c23deeb0cc051b43c04ce2b4596f0d971a59bcf6ff8a8b744177b024b55d"
  },
  "kernelspec": {
   "display_name": "Python 3.7.10 ('osfir')",
   "language": "python",
   "name": "python3"
  },
  "language_info": {
   "codemirror_mode": {
    "name": "ipython",
    "version": 3
   },
   "file_extension": ".py",
   "mimetype": "text/x-python",
   "name": "python",
   "nbconvert_exporter": "python",
   "pygments_lexer": "ipython3",
   "version": "3.7.10"
  },
  "orig_nbformat": 4
 },
 "nbformat": 4,
 "nbformat_minor": 2
}
