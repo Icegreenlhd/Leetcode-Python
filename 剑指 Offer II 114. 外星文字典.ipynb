{
 "cells": [
  {
   "cell_type": "code",
   "execution_count": null,
   "metadata": {},
   "outputs": [],
   "source": [
    "from collections import defaultdict\n",
    "\n",
    "class Solution(object):\n",
    "    def alienOrder(self, words):\n",
    "        \"\"\"\n",
    "        :type words: List[str]\n",
    "        :rtype: str\n",
    "        \"\"\"\n",
    "        graph = defaultdict(list)\n",
    "        for c in words[0]:\n",
    "            graph[c] = []\n",
    "        for i in range(len(words)-1):\n",
    "            s, t = words[i], words[i+1]\n",
    "            for c in t:\n",
    "                graph.setdefault(c, [])\n",
    "            for u, v in zip(s, t):\n",
    "                if u!=v:\n",
    "                    graph[u].append(v)\n",
    "                    break\n",
    "            else:\n",
    "                if len(s)>len(t):\n",
    "                    return \"\"\n",
    "        VISITING, VISTIED = 1, 2\n",
    "        states = {}\n",
    "        order = []\n",
    "        def dfs(u):\n",
    "            states[u] = VISITING\n",
    "            for v in graph[u]:\n",
    "                if v not in states:\n",
    "                    if not dfs(v):\n",
    "                        return False\n",
    "                elif states[v] == VISITING:\n",
    "                    return False\n",
    "            order.append(u)\n",
    "            states[u] = VISTIED\n",
    "            return True\n",
    "        return \"\".join(reversed(order)) if all(dfs(u) for u in graph if u not in states) else \"\"\n",
    "\n"
   ]
  },
  {
   "cell_type": "code",
   "execution_count": null,
   "metadata": {},
   "outputs": [],
   "source": [
    "from collections import defaultdict\n",
    "\n",
    "class Solution(object):\n",
    "    def alienOrder(self, words):\n",
    "        \"\"\"\n",
    "        :type words: List[str]\n",
    "        :rtype: str\n",
    "        \"\"\"\n",
    "        g = defaultdict(list)\n",
    "        inDeg = {c:0 for c in words[0]}\n",
    "        for i in range(len(words)-1):\n",
    "            s, t = words[i], words[i+1]\n",
    "            for c in t:\n",
    "                inDeg.setdefault(c, 0)\n",
    "            for u, v in zip(s, t):\n",
    "                if u!=v:\n",
    "                    g[u].append(v)\n",
    "                    inDeg[v] += 1\n",
    "                    break\n",
    "            else:\n",
    "                if len(s) > len(t):\n",
    "                    return \"\"\n",
    "        q = [u for u, d in inDeg.items() if d == 0]\n",
    "        for u in q:\n",
    "            for v in g[u]:\n",
    "                inDeg[v] -= 1\n",
    "                if inDeg[v] == 0:\n",
    "                    q.append(v)\n",
    "        return \"\".join(q) if len(q) == len(inDeg) else \"\""
   ]
  },
  {
   "cell_type": "code",
   "execution_count": null,
   "metadata": {},
   "outputs": [],
   "source": [
    "import unittest\n",
    "\n",
    "\n",
    "class LeetcodeTest(unittest.TestCase):\n",
    "    solution = getattr(Solution(), dir(Solution)[-1])\n",
    "\n",
    "    def test_case1(self):\n",
    "        test_input = [\"wrt\",\"wrf\",\"er\",\"ett\",\"rftt\"]\n",
    "        test_output = \"wertf\"\n",
    "        self.assertEqual(self.solution(test_input), test_output)\n",
    "\n",
    "unittest.main(argv=['ignored', '-v'], exit=False)"
   ]
  }
 ],
 "metadata": {
  "interpreter": {
   "hash": "8f10c23deeb0cc051b43c04ce2b4596f0d971a59bcf6ff8a8b744177b024b55d"
  },
  "kernelspec": {
   "display_name": "Python 3.7.10 ('osfir')",
   "language": "python",
   "name": "python3"
  },
  "language_info": {
   "codemirror_mode": {
    "name": "ipython",
    "version": 3
   },
   "file_extension": ".py",
   "mimetype": "text/x-python",
   "name": "python",
   "nbconvert_exporter": "python",
   "pygments_lexer": "ipython3",
   "version": "3.7.10"
  },
  "orig_nbformat": 4
 },
 "nbformat": 4,
 "nbformat_minor": 2
}
