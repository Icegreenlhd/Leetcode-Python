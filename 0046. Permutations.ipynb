{
 "cells": [
  {
   "cell_type": "markdown",
   "id": "5ec9f3c4",
   "metadata": {},
   "source": [
    "# my solution 1\n",
    "- Time: $O(n!*n^2)$, n! result, each need adding n elements, addition taking O(n)\n",
    "- Space: $O(n*n!)$, result space"
   ]
  },
  {
   "cell_type": "code",
   "execution_count": null,
   "id": "cccf75f6",
   "metadata": {},
   "outputs": [],
   "source": [
    "class Solution(object):\n",
    "    def permute(self, nums):\n",
    "        \"\"\"\n",
    "        :type nums: List[int]\n",
    "        :rtype: List[List[int]]\n",
    "        \"\"\"\n",
    "        nums = set(nums)\n",
    "        result = []\n",
    "        self.permution(nums, [], result)\n",
    "        return result\n",
    "    \n",
    "    def permution(self, nums, partial, result):\n",
    "        if not nums:\n",
    "            result.append(partial[:])\n",
    "            return \n",
    "        for i in nums:\n",
    "            self.permution(nums-{i},partial+[i],result)"
   ]
  },
  {
   "cell_type": "markdown",
   "id": "4872f2ee",
   "metadata": {},
   "source": [
    "# Jake's solution\n",
    "For each number, insert it at all possible places in all existing permutations.\n",
    "Alternatively recursively swap every index with every greater index (and itself).\n",
    "- Time - O($n^2 * n!$).  n! results, each of with has n elements added, each addition taking O(n) time for list slicing\n",
    "- Space - O(n *n!)"
   ]
  },
  {
   "cell_type": "code",
   "execution_count": null,
   "id": "77b3b675",
   "metadata": {},
   "outputs": [],
   "source": [
    "class Solution(object):\n",
    "    def permute(self, nums):\n",
    "        \"\"\"\n",
    "        :type nums: List[int]\n",
    "        :rtype: List[List[int]]\n",
    "        \"\"\"\n",
    "        permutations = [[]]\n",
    "\n",
    "        for num in nums:\n",
    "            new_permutations = []\n",
    "            for perm in permutations:\n",
    "                for i in range(len(perm) + 1):\n",
    "                    new_permutations.append(perm[:i] + [num] + perm[i:])\n",
    "            permutations = new_permutations\n",
    "\n",
    "        return permutations"
   ]
  }
 ],
 "metadata": {
  "jupytext": {
   "formats": "ipynb,py"
  },
  "kernelspec": {
   "display_name": "Python 3",
   "language": "python",
   "name": "python3"
  }
 },
 "nbformat": 4,
 "nbformat_minor": 5
}
