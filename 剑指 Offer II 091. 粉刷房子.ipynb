{
 "cells": [
  {
   "cell_type": "code",
   "execution_count": null,
   "metadata": {},
   "outputs": [],
   "source": [
    "# DP\n",
    "class Solution(object):\n",
    "    def minCost(self, costs):\n",
    "        \"\"\"\n",
    "        :type costs: List[List[int]]\n",
    "        :rtype: int\n",
    "        \"\"\"\n",
    "        dp = [[0 for _ in range(3)] for _ in range(len(costs))]\n",
    "        catch = list(range(3))\n",
    "        for i in range(3):\n",
    "            dp[0][i] = costs[0][i]\n",
    "        for i in range(1, len(costs)):\n",
    "            for j in range(3):\n",
    "                catch.remove(j)\n",
    "                dp[i][j] = min(dp[i-1][catch[0]], dp[i-1][catch[1]]) + costs[i][j]\n",
    "                catch.append(j)\n",
    "        return min(dp[-1])\n"
   ]
  },
  {
   "cell_type": "code",
   "execution_count": null,
   "metadata": {},
   "outputs": [],
   "source": [
    "# DP\n",
    "class Solution(object):\n",
    "    def minCost(self, costs):\n",
    "        \"\"\"\n",
    "        :type costs: List[List[int]]\n",
    "        :rtype: int\n",
    "        \"\"\"\n",
    "        dp = costs[0]\n",
    "        for i in range(1, len(costs)):\n",
    "            dp = [min(dp[j-1], dp[j-2]) + c for j,c in enumerate(costs[i])]\n",
    "        return min(dp)"
   ]
  }
 ],
 "metadata": {
  "language_info": {
   "name": "python"
  },
  "orig_nbformat": 4
 },
 "nbformat": 4,
 "nbformat_minor": 2
}
