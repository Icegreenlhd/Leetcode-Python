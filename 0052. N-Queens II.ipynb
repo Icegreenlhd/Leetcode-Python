{
 "cells": [
  {
   "cell_type": "markdown",
   "id": "4f24a18b",
   "metadata": {},
   "source": [
    "n 皇后问题研究的是如何将 n 个皇后放置在 n×n 的棋盘上，并且使皇后彼此之间不能相互攻击。\n",
    "\n",
    "<img src=\"https://assets.leetcode.com/uploads/2018/10/12/8-queens.png\" width=50%>\n",
    "\n",
    "上图为 8 皇后问题的一种解法。\n",
    "\n",
    "给定一个整数 n，返回所有不同的 n 皇后问题的解决方案。\n",
    "\n",
    "每一种解法包含一个明确的 n 皇后问题的棋子放置方案，该方案中 'Q' 和 '.' 分别代表了皇后和空位。\n"
   ]
  },
  {
   "cell_type": "code",
   "execution_count": null,
   "id": "8a4383bf",
   "metadata": {},
   "outputs": [],
   "source": [
    "# my solution 1, Greedy algorithm，copy Jake's solution\n",
    "class Solution(object):\n",
    "    def totalNQueens(self, n):\n",
    "        \"\"\"\n",
    "        :type n: int\n",
    "        :rtype: List[List[str]]\n",
    "        \"\"\"\n",
    "        self.boards = [[]]\n",
    "        \n",
    "        for row in range(n):\n",
    "            new_boards = []\n",
    "            for num in range(len(self.boards)):\n",
    "                for col in range(n):\n",
    "                    if not self.judge(num, col):\n",
    "                        new_boards.append(self.boards[num] + [col])\n",
    "            del self.boards\n",
    "            self.boards = new_boards\n",
    "\n",
    "        return len(self.boards)\n",
    "    \n",
    "    def judge(self, num, new_col):\n",
    "        for row, col in enumerate(self.boards[num]):\n",
    "            if new_col == col: # same column\n",
    "                return True\n",
    "            if abs(new_col-col) == len(self.boards[num]) - row: # same diagonal\n",
    "                return True\n",
    "            \n",
    "        return False"
   ]
  },
  {
   "cell_type": "code",
   "execution_count": null,
   "id": "f2de7c2f",
   "metadata": {},
   "outputs": [],
   "source": [
    "solution = Solution()\n",
    "print(solution.totalNQueens(4))"
   ]
  },
  {
   "cell_type": "code",
   "execution_count": null,
   "id": "8e089a96",
   "metadata": {},
   "outputs": [],
   "source": [
    "# my solution 2, DFS, Copy azl397985856 / leetcode\n",
    "# 结合DFS与位运算的大神级别操作\n",
    "class Solution(object):\n",
    "    def totalNQueens(self, n):\n",
    "        \"\"\"\n",
    "        :type n: int\n",
    "        :rtype: List[List[str]]\n",
    "        \"\"\"\n",
    "        self.res = 0\n",
    "        self.dfs(n, 0, 0, 0, 0)\n",
    "        return self.res\n",
    "\n",
    "    def dfs(self, n, row, cols, pie, na):\n",
    "        if row >= n:\n",
    "            self.res += 1\n",
    "            return\n",
    "        bits = (~(cols | pie | na) & ((1 << n) - 1))\n",
    "        while bits:\n",
    "            p = bits & -bits\n",
    "            bits = bits & (bits - 1)\n",
    "            self.dfs(n, row+1, cols | p, (pie | p) << 1, (na | p) >> 1)"
   ]
  }
 ],
 "metadata": {
  "jupytext": {
   "formats": "ipynb,py"
  },
  "kernelspec": {
   "display_name": "Python 3",
   "language": "python",
   "name": "python3"
  }
 },
 "nbformat": 4,
 "nbformat_minor": 5
}
