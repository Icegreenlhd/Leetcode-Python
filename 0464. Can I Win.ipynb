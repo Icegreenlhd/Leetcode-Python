{
 "cells": [
  {
   "cell_type": "code",
   "execution_count": null,
   "metadata": {},
   "outputs": [],
   "source": [
    "# dfs, 约束条件不清楚, 无法获取正解\n",
    "class Solution(object):\n",
    "    def canIWin(self, maxChoosableInteger, desiredTotal):\n",
    "        \"\"\"\n",
    "        :type maxChoosableInteger: int\n",
    "        :type desiredTotal: int\n",
    "        :rtype: bool\n",
    "        \"\"\"\n",
    "        if maxChoosableInteger >= desiredTotal:\n",
    "            return True\n",
    "        if (maxChoosableInteger+1)*maxChoosableInteger/2 < desiredTotal:\n",
    "            return False\n",
    "\n",
    "        # choose_bool = set(range(1, maxChoosableInteger+1))\n",
    "        self.desiredTotal = desiredTotal\n",
    "        self.maxChoosableInterger = maxChoosableInteger\n",
    "        self.visited = dict()\n",
    "\n",
    "        return self._dfs(0, 0)\n",
    "\n",
    "    def _dfs(self, usedNumbers, sum):  \n",
    "        if self.visited.get(usedNumbers) == 1:\n",
    "            return True\n",
    "        if self.visited.get(usedNumbers) == 2:\n",
    "            return False                                                                                  \n",
    "        for choice in range(self.maxChoosableInterger):\n",
    "            if (usedNumbers >> choice) & 1 == 0:\n",
    "                if choice+1+sum >= self.desiredTotal or not self._dfs(usedNumbers | (1 << choice), sum+choice+1):\n",
    "                    self.visited[usedNumbers] = 1\n",
    "                    return True\n",
    "        self.visited[usedNumbers] = 2 \n",
    "        return False \n"
   ]
  },
  {
   "cell_type": "code",
   "execution_count": null,
   "metadata": {},
   "outputs": [],
   "source": [
    "import unittest\n",
    "\n",
    "\n",
    "class LeetcodeTest(unittest.TestCase):\n",
    "    solution = getattr(Solution(), dir(Solution)[-1])\n",
    "\n",
    "    def test_case1(self):\n",
    "        test_input = (10, 40)\n",
    "        test_output = False\n",
    "        self.assertEqual(self.solution(*test_input), test_output)\n",
    "\n",
    "unittest.main(argv=['ignored', '-v'], exit=False)"
   ]
  }
 ],
 "metadata": {
  "interpreter": {
   "hash": "8f10c23deeb0cc051b43c04ce2b4596f0d971a59bcf6ff8a8b744177b024b55d"
  },
  "kernelspec": {
   "display_name": "Python 3.7.10 ('osfir')",
   "language": "python",
   "name": "python3"
  },
  "language_info": {
   "codemirror_mode": {
    "name": "ipython",
    "version": 3
   },
   "file_extension": ".py",
   "mimetype": "text/x-python",
   "name": "python",
   "nbconvert_exporter": "python",
   "pygments_lexer": "ipython3",
   "version": "3.7.10"
  },
  "orig_nbformat": 4
 },
 "nbformat": 4,
 "nbformat_minor": 2
}
