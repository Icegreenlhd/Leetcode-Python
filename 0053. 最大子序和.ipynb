{
 "cells": [
  {
   "cell_type": "markdown",
   "id": "6f2351ce",
   "metadata": {},
   "source": [
    "# my solution 1,滑动窗口法\n",
    "- Time - O(n)\n",
    "- Space - O(1)"
   ]
  },
  {
   "cell_type": "code",
   "execution_count": null,
   "id": "3cf12180",
   "metadata": {},
   "outputs": [],
   "source": [
    "class Solution(object):\n",
    "    def maxSubArray(self, nums):\n",
    "        \"\"\"\n",
    "        :type nums: List[int]\n",
    "        :rtype: int\n",
    "        \"\"\"\n",
    "        count, max_count = 0, float('-inf')\n",
    "        for num in nums:\n",
    "            count += num\n",
    "            max_count = max(max_count, count)\n",
    "            count = max(0, count)\n",
    "        return max_count"
   ]
  },
  {
   "cell_type": "markdown",
   "id": "22595fb0",
   "metadata": {},
   "source": [
    "# my solution 2, 分治法, 写不出来\n",
    "- "
   ]
  },
  {
   "cell_type": "code",
   "execution_count": null,
   "id": "86ecbfea",
   "metadata": {},
   "outputs": [],
   "source": [
    "class Solution(object):\n",
    "    def maxSubArray(self, nums):\n",
    "        \"\"\"\n",
    "        :type nums: List[int]\n",
    "        :rtype: int\n",
    "        \"\"\"\n",
    "        def divide(nums, start, end, max_count):\n",
    "            if start == \n",
    "            return divide(nums, start)"
   ]
  },
  {
   "cell_type": "code",
   "execution_count": null,
   "id": "8e7745db",
   "metadata": {},
   "outputs": [],
   "source": []
  },
  {
   "cell_type": "markdown",
   "id": "48f390f0",
   "metadata": {},
   "source": [
    "# Jake's solution\n",
    "For each num calculate the max subarray sum ending with that num as either num alone (if previous sum was -ve) or\n",
    "num + previous sum (if previous sum was +ve)\n",
    "- Time - O(n)\n",
    "- Space - O(1)"
   ]
  },
  {
   "cell_type": "code",
   "execution_count": null,
   "id": "2adffef4",
   "metadata": {},
   "outputs": [],
   "source": [
    "class Solution(object):\n",
    "    def maxSubArray(self, nums):\n",
    "        \"\"\"\n",
    "        :type nums: List[int]\n",
    "        :rtype: int\n",
    "        \"\"\"\n",
    "        overall_max = float('-inf')\n",
    "        max_ending_here = 0\n",
    "\n",
    "        for num in nums:\n",
    "            if max_ending_here > 0:\n",
    "                max_ending_here += num\n",
    "            else:\n",
    "                max_ending_here = num\n",
    "            overall_max = max(overall_max, max_ending_here)\n",
    "\n",
    "        return overall_max"
   ]
  }
 ],
 "metadata": {
  "jupytext": {
   "formats": "ipynb,py"
  },
  "kernelspec": {
   "display_name": "Python 3",
   "language": "python",
   "name": "python3"
  }
 },
 "nbformat": 4,
 "nbformat_minor": 5
}
