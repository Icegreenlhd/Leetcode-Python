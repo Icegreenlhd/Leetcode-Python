{
 "cells": [
  {
   "cell_type": "markdown",
   "id": "eb57665d",
   "metadata": {},
   "source": [
    "# my solution 1, 递归结合去重，类似0040\n",
    "- Time: O(n!)\n",
    "- Space: O(n!)"
   ]
  },
  {
   "cell_type": "code",
   "execution_count": null,
   "id": "c20db809",
   "metadata": {},
   "outputs": [],
   "source": [
    "class Solution(object):\n",
    "    def permuteUnique(self, nums):\n",
    "        \"\"\"\n",
    "        :type nums: List[int]\n",
    "        :rtype: List[List[int]]\n",
    "        \"\"\"\n",
    "        nums.sort()\n",
    "        result = []\n",
    "        self.permute(nums, [], result)\n",
    "        return result\n",
    "    \n",
    "    def permute(self, nums, particle, res):\n",
    "        if not nums:\n",
    "            res.append(particle[:])\n",
    "            return\n",
    "        \n",
    "        for i, n in enumerate(nums):\n",
    "            if i > 0 and n == nums[i-1]:\n",
    "                continue\n",
    "            nums.pop(i)  \n",
    "            self.permute(nums, particle+[n], res)\n",
    "            nums.insert(i, n)"
   ]
  },
  {
   "cell_type": "markdown",
   "id": "72ddd44d",
   "metadata": {},
   "source": [
    "# Jake's solution\n",
    "\n",
    "Count occurences of each unique number.  Recursively append each number if still has a positive count.\n",
    "- Time - O(n^2 * n!), as 046_Permutations if all numbers are unique\n",
    "- Space - O(n * n!)"
   ]
  },
  {
   "cell_type": "code",
   "execution_count": null,
   "id": "e2faf90d",
   "metadata": {},
   "outputs": [],
   "source": [
    "from collections import Counter\n",
    "\n",
    "class Solution(object):\n",
    "    def permuteUnique(self, nums):\n",
    "        \"\"\"\n",
    "        :type nums: List[int]\n",
    "        :rtype: List[List[int]]\n",
    "        \"\"\"\n",
    "        freq = Counter(nums)\n",
    "        permutations = []\n",
    "        self.permute_helper(len(nums), [], freq, permutations)\n",
    "        return permutations\n",
    "\n",
    "    def permute_helper(self, to_add, partial, freq, permutations):\n",
    "        if to_add == 0:\n",
    "            permutations.append(partial)\n",
    "\n",
    "        for item in freq:\n",
    "            if freq[item] > 0:\n",
    "                freq[item] -= 1\n",
    "                self.permute_helper(to_add-1, partial + [item], freq, permutations)\n",
    "                freq[item] += 1"
   ]
  },
  {
   "cell_type": "code",
   "execution_count": null,
   "id": "1b1df631",
   "metadata": {},
   "outputs": [],
   "source": [
    "nums = [3,3,0,3]\n",
    "freq = Counter(nums)\n",
    "\n",
    "solution = Solution()\n",
    "result = solution.permuteUnique(nums)"
   ]
  }
 ],
 "metadata": {
  "jupytext": {
   "formats": "ipynb,py"
  },
  "kernelspec": {
   "display_name": "Python 3",
   "language": "python",
   "name": "python3"
  }
 },
 "nbformat": 4,
 "nbformat_minor": 5
}
