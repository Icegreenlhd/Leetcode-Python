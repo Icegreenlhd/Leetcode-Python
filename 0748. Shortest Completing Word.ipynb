{
 "cells": [
  {
   "cell_type": "code",
   "execution_count": null,
   "metadata": {},
   "outputs": [],
   "source": [
    "from collections import defaultdict\n",
    "class Solution(object):\n",
    "    def shortestCompletingWord(self, licensePlate, words):\n",
    "        \"\"\"\n",
    "        :type licensePlate: str\n",
    "        :type words: List[str]\n",
    "        :rtype: str\n",
    "        \"\"\"\n",
    "        self.rec = defaultdict(int)\n",
    "        self.save_rec(licensePlate)\n",
    "\n",
    "        count = float('inf')\n",
    "        ans = None\n",
    "        for w in words:\n",
    "            if len(w) >= count:\n",
    "                continue\n",
    "            tmp = defaultdict(int)\n",
    "            for ch in w:\n",
    "                if 0 <= ord(ch)-ord('a') <= 26 or 0 <= ord(ch)-ord('A') <= 26:\n",
    "                    tmp[ch] += 1\n",
    "            for j in self.rec.keys():\n",
    "                if self.rec[j] > tmp[j]:\n",
    "                    break\n",
    "            else:\n",
    "                count = len(w)\n",
    "                ans = w\n",
    "        return ans\n",
    "\n",
    "\n",
    "    def save_rec(self, license):\n",
    "        for i in license:\n",
    "            if 0 <= ord(i)-ord('a') <= 26 or 0 <= ord(i)-ord('A') <= 26:\n",
    "                self.rec[i.lower()] += 1\n",
    "    \n"
   ]
  },
  {
   "cell_type": "code",
   "execution_count": null,
   "metadata": {},
   "outputs": [],
   "source": [
    "from collections import Counter\n",
    "class Solution(object):\n",
    "    def shortestCompletingWord(self, licensePlate, words):\n",
    "        \"\"\"\n",
    "        :type licensePlate: str\n",
    "        :type words: List[str]\n",
    "        :rtype: str\n",
    "        \"\"\"\n",
    "        judge = lambda x: 0 <= ord(x)-ord('a') <= 26 or 0 <= ord(x)-ord('A') <= 26\n",
    "        license = Counter([i.lower() for i in licensePlate if judge(i)])\n",
    "        count = float('inf')\n",
    "        ans = \"\"\n",
    "        for word in words:\n",
    "            if len(word) >= count:\n",
    "                continue\n",
    "            tmp = Counter(word)\n",
    "            for i in license.keys():\n",
    "                if tmp[i] < license[i]:\n",
    "                    break\n",
    "            else:\n",
    "                count = len(word)\n",
    "                ans = word\n",
    "        return ans"
   ]
  },
  {
   "cell_type": "code",
   "execution_count": null,
   "metadata": {},
   "outputs": [],
   "source": [
    "from collections import Counter\n",
    "class Solution(object):\n",
    "    def shortestCompletingWord(self, licensePlate, words):\n",
    "        \"\"\"\n",
    "        :type licensePlate: str\n",
    "        :type words: List[str]\n",
    "        :rtype: str\n",
    "        \"\"\"\n",
    "        cnt = Counter(i.lower() for i in licensePlate if i.isalpha())\n",
    "        return min((word for word in words if not cnt - Counter(word)), key=len)"
   ]
  },
  {
   "cell_type": "code",
   "execution_count": null,
   "metadata": {},
   "outputs": [],
   "source": [
    "import unittest\n",
    "\n",
    "\n",
    "class LeetcodeTest(unittest.TestCase):\n",
    "    solution = getattr(Solution(), dir(Solution)[-1])\n",
    "\n",
    "    def test_case1(self):\n",
    "        test_input = (\"1s3 PSt\", [\"step\",\"steps\",\"stripe\",\"stepple\"])\n",
    "        test_output = \"steps\"\n",
    "        self.assertEqual(self.solution(*test_input), test_output)\n",
    "\n",
    "unittest.main(argv=['ignored', '-v'], exit=False)"
   ]
  }
 ],
 "metadata": {
  "interpreter": {
   "hash": "8f10c23deeb0cc051b43c04ce2b4596f0d971a59bcf6ff8a8b744177b024b55d"
  },
  "kernelspec": {
   "display_name": "Python 3.7.10 ('osfir')",
   "language": "python",
   "name": "python3"
  },
  "language_info": {
   "codemirror_mode": {
    "name": "ipython",
    "version": 3
   },
   "file_extension": ".py",
   "mimetype": "text/x-python",
   "name": "python",
   "nbconvert_exporter": "python",
   "pygments_lexer": "ipython3",
   "version": "3.7.10"
  },
  "orig_nbformat": 4
 },
 "nbformat": 4,
 "nbformat_minor": 2
}
