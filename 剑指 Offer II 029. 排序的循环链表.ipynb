{
 "cells": [
  {
   "cell_type": "code",
   "execution_count": null,
   "metadata": {},
   "outputs": [],
   "source": [
    "# Definition for a Node.\n",
    "class Node(object):\n",
    "    def __init__(self, val=None, next=None):\n",
    "        self.val = val\n",
    "        self.next = next\n",
    "\n",
    "class Solution(object):\n",
    "    def insert(self, head, insertVal):\n",
    "        \"\"\"\n",
    "        :type head: Node\n",
    "        :type insertVal: int\n",
    "        :rtype: Node\n",
    "        \"\"\"\n",
    "        if head is None: \n",
    "            n = Node(insertVal)\n",
    "            n.next = n\n",
    "            return n\n",
    "        last = head\n",
    "        cur = head.next\n",
    "        while cur != head:\n",
    "            if cur.val < last.val and (last.val <= insertVal or cur.val >= insertVal):\n",
    "                break\n",
    "            if last.val <= insertVal and cur.val >= insertVal:\n",
    "                break\n",
    "            cur = cur.next\n",
    "            last = last.next\n",
    "        last.next = Node(insertVal, cur)\n",
    "        return head\n",
    "        \n"
   ]
  }
 ],
 "metadata": {
  "language_info": {
   "name": "python"
  },
  "orig_nbformat": 4
 },
 "nbformat": 4,
 "nbformat_minor": 2
}
