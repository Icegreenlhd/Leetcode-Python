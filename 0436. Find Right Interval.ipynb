{
 "cells": [
  {
   "cell_type": "code",
   "execution_count": null,
   "metadata": {},
   "outputs": [],
   "source": [
    "# 二分搜索\n",
    "class Solution(object):\n",
    "    def findRightInterval(self, intervals):\n",
    "        \"\"\"\n",
    "        :type intervals: List[List[int]]\n",
    "        :rtype: List[int]\n",
    "        \"\"\"\n",
    "        if len(intervals)==0: return []\n",
    "        if len(intervals)==1: return [-1]\n",
    "        starts = [(intervals[i][0],i) for i in range(len(intervals))]\n",
    "        starts = sorted(starts, key=lambda x: x[0])\n",
    "        # print(starts)\n",
    "        res = []\n",
    "        for i in intervals:\n",
    "            end = i[1]\n",
    "            res.append(self.bisearch(end, starts))\n",
    "        return res\n",
    "\n",
    "    @staticmethod\n",
    "    def bisearch(end, starts):\n",
    "        # print(end)\n",
    "        left, right = 0, len(starts)\n",
    "        while left < right:\n",
    "            mid = (left+right) // 2\n",
    "            # print(starts[mid])\n",
    "            if starts[mid][0] >= end:\n",
    "                right = mid\n",
    "            else:\n",
    "                left = mid+1\n",
    "        return starts[left][1] if left!=len(starts) else -1"
   ]
  },
  {
   "cell_type": "code",
   "execution_count": null,
   "metadata": {},
   "outputs": [],
   "source": [
    "# 双指针\n",
    "class Solution(object):\n",
    "    def findRightInterval(self, intervals):\n",
    "        \"\"\"\n",
    "        :type intervals: List[List[int]]\n",
    "        :rtype: List[int]\n",
    "        \"\"\"\n",
    "        n = len(intervals)\n",
    "        starts, ends = list(zip(*intervals))\n",
    "        starts = sorted(zip(starts, range(n)))\n",
    "        ends = sorted(zip(ends, range(n)))\n",
    "\n",
    "        res, j = [-1 for _ in range(n)], 0\n",
    "\n",
    "        for end, id in ends:\n",
    "            while j < n and starts[j][0] < end:\n",
    "                j += 1\n",
    "            if j < n:\n",
    "                res[id] = starts[j][1]\n",
    "        return res"
   ]
  },
  {
   "cell_type": "code",
   "execution_count": null,
   "metadata": {},
   "outputs": [],
   "source": [
    "import unittest\n",
    "\n",
    "\n",
    "class LeetcodeTest(unittest.TestCase):\n",
    "    solution = getattr(Solution(), dir(Solution)[-1])\n",
    "\n",
    "    def test_case1(self):\n",
    "        test_input = [[3,4],[2,3],[1,2]]\n",
    "        test_output = [-1,0,1]\n",
    "        self.assertEqual(self.solution(test_input), test_output)\n",
    "    def test_case2(self):\n",
    "        test_input = [[1,4],[2,3],[3,4]]\n",
    "        test_output = [-1,2,-1]\n",
    "        self.assertEqual(self.solution(test_input), test_output)\n",
    "\n",
    "unittest.main(argv=['ignored', '-v'], exit=False)"
   ]
  }
 ],
 "metadata": {
  "interpreter": {
   "hash": "8f10c23deeb0cc051b43c04ce2b4596f0d971a59bcf6ff8a8b744177b024b55d"
  },
  "kernelspec": {
   "display_name": "Python 3.7.10 ('osfir')",
   "language": "python",
   "name": "python3"
  },
  "language_info": {
   "codemirror_mode": {
    "name": "ipython",
    "version": 3
   },
   "file_extension": ".py",
   "mimetype": "text/x-python",
   "name": "python",
   "nbconvert_exporter": "python",
   "pygments_lexer": "ipython3",
   "version": "3.7.10"
  },
  "orig_nbformat": 4
 },
 "nbformat": 4,
 "nbformat_minor": 2
}
