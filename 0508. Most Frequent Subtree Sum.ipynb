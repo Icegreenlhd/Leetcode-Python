{
 "cells": [
  {
   "cell_type": "code",
   "execution_count": null,
   "metadata": {},
   "outputs": [],
   "source": [
    "from collections import Counter\n",
    "# Definition for a binary tree node.\n",
    "class TreeNode(object):\n",
    "    def __init__(self, val=0, left=None, right=None):\n",
    "        self.val = val\n",
    "        self.left = left\n",
    "        self.right = right\n",
    "class Solution(object):\n",
    "    def findFrequentTreeSum(self, root):\n",
    "        \"\"\"\n",
    "        :type root: TreeNode\n",
    "        :rtype: List[int]\n",
    "        \"\"\"\n",
    "        self.res = []\n",
    "        self.sumtreeroot(root)\n",
    "        c = Counter(self.res)\n",
    "        res = []\n",
    "        tmp = None\n",
    "        for k, v in c.most_common():\n",
    "            if tmp is not None and tmp != v:\n",
    "                return res\n",
    "            res.append(k)\n",
    "            tmp = v\n",
    "        return res\n",
    "    \n",
    "    def sumtreeroot(self, root):\n",
    "        if root is None:\n",
    "            return 0\n",
    "        r = self.sumtreeroot(root.left)+root.val+self.sumtreeroot(root.right)\n",
    "        self.res.append(r)\n",
    "        return r"
   ]
  }
 ],
 "metadata": {
  "language_info": {
   "name": "python"
  },
  "orig_nbformat": 4
 },
 "nbformat": 4,
 "nbformat_minor": 2
}
