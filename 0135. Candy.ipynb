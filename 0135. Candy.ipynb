{
 "cells": [
  {
   "cell_type": "code",
   "execution_count": 3,
   "metadata": {},
   "outputs": [],
   "source": [
    "class Solution(object):\n",
    "    def candy(self, ratings):\n",
    "        \"\"\"\n",
    "        :type ratings: List[int]\n",
    "        :rtype: int\n",
    "        \"\"\"\n",
    "        n = len(ratings)\n",
    "        up = [0]\n",
    "        down = [0]\n",
    "        c = 0\n",
    "        \n",
    "        for i in range(1, n):\n",
    "            if ratings[i] > ratings[i-1]:\n",
    "                c += 1\n",
    "            else:\n",
    "                c = 0 \n",
    "            up.append(c)\n",
    "        ans = n + up[-1]\n",
    "        for i in range(n-2, -1, -1):\n",
    "            if ratings[i] > ratings[i+1]:\n",
    "                c += 1\n",
    "            else:\n",
    "                c = 0 \n",
    "            ans += max(up[i], c)\n",
    "        return ans \n",
    "        "
   ]
  },
  {
   "cell_type": "code",
   "execution_count": null,
   "metadata": {},
   "outputs": [],
   "source": [
    "# 常数空间遍历\n",
    "class Solution:\n",
    "    def candy(self, ratings):\n",
    "        n = len(ratings)\n",
    "        ret = 1\n",
    "        inc, dec, pre = 1, 0, 1\n",
    "\n",
    "        for i in range(1, n):\n",
    "            if ratings[i] >= ratings[i - 1]:\n",
    "                dec = 0\n",
    "                pre = (1 if ratings[i] == ratings[i - 1] else pre + 1)\n",
    "                ret += pre\n",
    "                inc = pre\n",
    "            else:\n",
    "                dec += 1\n",
    "                if dec == inc:\n",
    "                    dec += 1\n",
    "                ret += dec\n",
    "                pre = 1\n",
    "        \n",
    "        return ret"
   ]
  }
 ],
 "metadata": {
  "interpreter": {
   "hash": "8f10c23deeb0cc051b43c04ce2b4596f0d971a59bcf6ff8a8b744177b024b55d"
  },
  "kernelspec": {
   "display_name": "Python 3.7.10 ('osfir')",
   "language": "python",
   "name": "python3"
  },
  "language_info": {
   "codemirror_mode": {
    "name": "ipython",
    "version": 3
   },
   "file_extension": ".py",
   "mimetype": "text/x-python",
   "name": "python",
   "nbconvert_exporter": "python",
   "pygments_lexer": "ipython3",
   "version": "3.7.10"
  },
  "orig_nbformat": 4
 },
 "nbformat": 4,
 "nbformat_minor": 2
}
