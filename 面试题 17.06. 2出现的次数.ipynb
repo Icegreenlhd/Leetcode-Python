{
 "cells": [
  {
   "cell_type": "code",
   "execution_count": null,
   "metadata": {},
   "outputs": [],
   "source": [
    "# 字符串法, 23/44, 超出时间限制\n",
    "class Solution(object):\n",
    "    def numberOf2sInRange(self, n):\n",
    "        \"\"\"\n",
    "        :type n: int\n",
    "        :rtype: int\n",
    "        \"\"\"\n",
    "        rec = \"\".join(list(map(str, list(range(n+1)))))\n",
    "        print(rec)\n",
    "        count = 0\n",
    "        for i in rec:\n",
    "            count += 1 if i == '2' else 0\n",
    "        return count"
   ]
  },
  {
   "cell_type": "code",
   "execution_count": 4,
   "metadata": {},
   "outputs": [
    {
     "data": {
      "text/plain": [
       "10"
      ]
     },
     "execution_count": 4,
     "metadata": {},
     "output_type": "execute_result"
    }
   ],
   "source": [
    "# 位数统计法\n",
    "class Solution(object):\n",
    "    def numberOf2sInRange(self, n):\n",
    "        \"\"\"\n",
    "        :type n: int\n",
    "        :rtype: int\n",
    "        \"\"\"\n",
    "        tmp = 1\n",
    "        count = 0\n",
    "        while tmp < n:\n",
    "            count += self.count2s(n, tmp)\n",
    "            tmp *= 10\n",
    "        return count\n",
    "    \n",
    "    def count2s(self, n, logit):\n",
    "        # 1, 10, 100\n",
    "        count = 0\n",
    "        count += (n // (10*logit)) * logit # 不处在线上的所有2\n",
    "        if (n//logit)%10 > 2:\n",
    "            count += logit\n",
    "        elif (n//logit)%10 == 2:\n",
    "            count += (n%logit)+1\n",
    "        return count"
   ]
  },
  {
   "cell_type": "code",
   "execution_count": 9,
   "metadata": {},
   "outputs": [],
   "source": [
    "n = 22\n",
    "logit = 10\n",
    "count = 0\n",
    "count += (n // (10*logit)) * logit # 不处在线上的所有2\n",
    "if (n // (logit))%(10) > 2:\n",
    "    count += logit\n",
    "elif (n // (logit))%(10) == 2:\n",
    "    count += (n%logit)+1"
   ]
  },
  {
   "cell_type": "code",
   "execution_count": 6,
   "metadata": {},
   "outputs": [
    {
     "data": {
      "text/plain": [
       "13"
      ]
     },
     "execution_count": 6,
     "metadata": {},
     "output_type": "execute_result"
    }
   ],
   "source": [
    "13 // (10*logit) % 100\n"
   ]
  }
 ],
 "metadata": {
  "interpreter": {
   "hash": "8f10c23deeb0cc051b43c04ce2b4596f0d971a59bcf6ff8a8b744177b024b55d"
  },
  "kernelspec": {
   "display_name": "Python 3.7.10 ('osfir')",
   "language": "python",
   "name": "python3"
  },
  "language_info": {
   "codemirror_mode": {
    "name": "ipython",
    "version": 3
   },
   "file_extension": ".py",
   "mimetype": "text/x-python",
   "name": "python",
   "nbconvert_exporter": "python",
   "pygments_lexer": "ipython3",
   "version": "3.7.10"
  },
  "orig_nbformat": 4
 },
 "nbformat": 4,
 "nbformat_minor": 2
}
