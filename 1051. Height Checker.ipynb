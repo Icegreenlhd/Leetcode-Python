{
 "cells": [
  {
   "cell_type": "code",
   "execution_count": null,
   "metadata": {},
   "outputs": [],
   "source": [
    "class Solution(object):\n",
    "    def heightChecker(self, heights):\n",
    "        \"\"\"\n",
    "        :type heights: List[int]\n",
    "        :rtype: int\n",
    "        \"\"\"\n",
    "        expected = sorted(heights)\n",
    "        ans = 0\n",
    "        for i, h in enumerate(heights):\n",
    "            if expected[i] != h:\n",
    "                ans += 1\n",
    "        return ans"
   ]
  },
  {
   "cell_type": "code",
   "execution_count": null,
   "metadata": {},
   "outputs": [],
   "source": [
    "class Solution(object):\n",
    "    def heightChecker(self, heights):\n",
    "        \"\"\"\n",
    "        :type heights: List[int]\n",
    "        :rtype: int\n",
    "        \"\"\"\n",
    "        m = max(heights)\n",
    "        cnt = [0] * (m+1)\n",
    "\n",
    "        for h in heights:\n",
    "            cnt[h] += 1\n",
    "\n",
    "        idx = ans = 0\n",
    "        for i in range(1, m+1):\n",
    "            for j in range(cnt[i]):\n",
    "                if heights[idx] != i:\n",
    "                    ans += 1\n",
    "                idx += 1\n",
    "        return ans\n"
   ]
  }
 ],
 "metadata": {
  "language_info": {
   "name": "python"
  },
  "orig_nbformat": 4
 },
 "nbformat": 4,
 "nbformat_minor": 2
}
