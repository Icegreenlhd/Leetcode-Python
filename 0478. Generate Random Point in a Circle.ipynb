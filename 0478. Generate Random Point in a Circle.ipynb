{
 "cells": [
  {
   "cell_type": "code",
   "execution_count": null,
   "metadata": {},
   "outputs": [],
   "source": [
    "import random\n",
    "class Solution(object):\n",
    "\n",
    "    def __init__(self, radius, x_center, y_center):\n",
    "        \"\"\"\n",
    "        :type radius: float\n",
    "        :type x_center: float\n",
    "        :type y_center: float\n",
    "        \"\"\"\n",
    "        self.radius = radius\n",
    "        self.x_center = x_center\n",
    "        self.y_center = y_center\n",
    "\n",
    "\n",
    "    def randPoint(self):\n",
    "        \"\"\"\n",
    "        :rtype: List[float]\n",
    "        \"\"\"\n",
    "        x = random.random()*2-1\n",
    "        y = random.random()*2-1\n",
    "        while x**2+y**2 > 1:\n",
    "            x = random.random()*2-1\n",
    "            y = random.random()*2-1\n",
    "        x = x*self.radius+self.x_center\n",
    "        y = y*self.radius+self.y_center\n",
    "        return [x, y]\n",
    "\n",
    "\n",
    "\n",
    "# Your Solution object will be instantiated and called as such:\n",
    "# obj = Solution(radius, x_center, y_center)\n",
    "# param_1 = obj.randPoint()"
   ]
  },
  {
   "cell_type": "code",
   "execution_count": null,
   "metadata": {},
   "outputs": [],
   "source": [
    "# 数学概率分布可得极坐标r的概率为sqrt(u), u~uniform(0, 1)\n",
    "import random\n",
    "import math\n",
    "class Solution(object):\n",
    "\n",
    "    def __init__(self, radius, x_center, y_center):\n",
    "        \"\"\"\n",
    "        :type radius: float\n",
    "        :type x_center: float\n",
    "        :type y_center: float\n",
    "        \"\"\"\n",
    "        self.radius = radius\n",
    "        self.x_center = x_center\n",
    "        self.y_center = y_center\n",
    "\n",
    "\n",
    "    def randPoint(self):\n",
    "        \"\"\"\n",
    "        :rtype: List[float]\n",
    "        \"\"\"\n",
    "        r, theta = math.sqrt(random.random()), 2*random.random()*math.pi\n",
    "        return [self.x_center+r*math.cos(theta)*self.radius, self.y_center+r*math.sin(theta)*self.radius]\n",
    "\n",
    "\n",
    "\n",
    "# Your Solution object will be instantiated and called as such:\n",
    "# obj = Solution(radius, x_center, y_center)\n",
    "# param_1 = obj.randPoint()"
   ]
  }
 ],
 "metadata": {
  "interpreter": {
   "hash": "8f10c23deeb0cc051b43c04ce2b4596f0d971a59bcf6ff8a8b744177b024b55d"
  },
  "kernelspec": {
   "display_name": "Python 3.7.10 ('osfir')",
   "language": "python",
   "name": "python3"
  },
  "language_info": {
   "codemirror_mode": {
    "name": "ipython",
    "version": 3
   },
   "file_extension": ".py",
   "mimetype": "text/x-python",
   "name": "python",
   "nbconvert_exporter": "python",
   "pygments_lexer": "ipython3",
   "version": "3.7.10"
  },
  "orig_nbformat": 4
 },
 "nbformat": 4,
 "nbformat_minor": 2
}
