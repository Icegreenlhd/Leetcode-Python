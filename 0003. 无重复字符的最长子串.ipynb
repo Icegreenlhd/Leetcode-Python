{
 "cells": [
  {
   "cell_type": "markdown",
   "id": "c00f4670",
   "metadata": {},
   "source": [
    "给定一个字符串，请你找出其中不含有重复字符的 最长子串 的长度。\n",
    "\n",
    "示例 1:\n",
    "\n",
    "输入: \"abcabcbb\"\n",
    "输出: 3 \n",
    "解释: 因为无重复字符的最长子串是 \"abc\"，所以其长度为 3。\n",
    "示例 2:\n",
    "\n",
    "输入: \"bbbbb\"\n",
    "输出: 1\n",
    "解释: 因为无重复字符的最长子串是 \"b\"，所以其长度为 1。\n",
    "示例 3:\n",
    "\n",
    "输入: \"pwwkew\"\n",
    "输出: 3\n",
    "解释: 因为无重复字符的最长子串是 \"wke\"，所以其长度为 3。\n",
    "     请注意，你的答案必须是 子串 的长度，\"pwke\" 是一个子序列，不是子串。\n",
    "\n",
    "来源：力扣（LeetCode）\n",
    "链接：https://leetcode-cn.com/problems/longest-substring-without-repeating-characters\n",
    "著作权归领扣网络所有。商业转载请联系官方授权，非商业转载请注明出处。"
   ]
  },
  {
   "cell_type": "code",
   "execution_count": null,
   "id": "2e6c4a2c",
   "metadata": {},
   "outputs": [],
   "source": [
    "# my solution\n",
    "class Solution(object):\n",
    "    def lengthOfLongestSubstring(self, s):\n",
    "        \"\"\"\n",
    "        :type s: str\n",
    "        :rtype: int\n",
    "        \"\"\"\n",
    "        last_seen = dict()\n",
    "        start = 0\n",
    "        longest = 0\n",
    "\n",
    "        for i, x in enumerate(s):\n",
    "            if x in last_seen and start <= last_seen[x]:\n",
    "                start = last_seen[x] + 1\n",
    "            if longest < i - start + 1:\n",
    "                longest = i - start + 1\n",
    "            last_seen[x] = i\n",
    "        return longest"
   ]
  },
  {
   "cell_type": "code",
   "execution_count": null,
   "id": "fc613dc8",
   "metadata": {},
   "outputs": [],
   "source": [
    "# Jake solution\n",
    "class Solution(object):\n",
    "    def lengthOfLongestSubstring(self, s):\n",
    "        \"\"\"\n",
    "        :type s: str\n",
    "        :rtype: int\n",
    "        \"\"\"\n",
    "        last_seen = {}\n",
    "        start = 0\n",
    "        longest = 0\n",
    "\n",
    "        for i, x in enumerate(s):\n",
    "            if x in last_seen and start <= last_seen[x]:\n",
    "                start = last_seen[x] + 1\n",
    "            else:\n",
    "                longest = max(longest, i - start + 1)\n",
    "\n",
    "            last_seen[x] = i\n",
    "\n",
    "        return longest"
   ]
  },
  {
   "cell_type": "code",
   "execution_count": null,
   "id": "e11c8d6d",
   "metadata": {},
   "outputs": [],
   "source": [
    "# Slide windows\n",
    "class Solution:\n",
    "    def lengthOfLongestSubstring(self, s):\n",
    "        \"\"\"\n",
    "        :type s: str\n",
    "        :rtype: int\n",
    "        \"\"\"\n",
    "        from collections import defaultdict\n",
    "        lookup = defaultdict(int)\n",
    "        start = 0\n",
    "        end = 0\n",
    "        max_len = 0\n",
    "        counter = 0\n",
    "        while end < len(s):\n",
    "#             print(lookup)\n",
    "            if lookup[s[end]] > 0:\n",
    "                counter += 1\n",
    "            lookup[s[end]] += 1\n",
    "            end += 1\n",
    "            while counter > 0:\n",
    "                if lookup[s[start]] > 1:\n",
    "                    counter -= 1\n",
    "                lookup[s[start]] -= 1\n",
    "                start += 1\n",
    "            max_len = max(max_len, end - start)\n",
    "        return max_len"
   ]
  },
  {
   "cell_type": "code",
   "execution_count": null,
   "id": "aa6c5f66",
   "metadata": {},
   "outputs": [],
   "source": [
    "solution = Solution()\n",
    "s1 = \"abcabcbb\"\n",
    "s2 = \"bbbbb\"\n",
    "s3 = \"pwwkew\"\n",
    "s4 = \" \"\n",
    "s5 = \"dvdf\"\n",
    "solution.lengthOfLongestSubstring(s3)"
   ]
  }
 ],
 "metadata": {
  "jupytext": {
   "formats": "ipynb,py"
  },
  "kernelspec": {
   "display_name": "Python 3",
   "language": "python",
   "name": "python3"
  }
 },
 "nbformat": 4,
 "nbformat_minor": 5
}
