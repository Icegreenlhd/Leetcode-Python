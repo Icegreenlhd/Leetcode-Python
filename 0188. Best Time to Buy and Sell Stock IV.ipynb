{
 "cells": [
  {
   "cell_type": "code",
   "execution_count": null,
   "metadata": {},
   "outputs": [],
   "source": [
    "maxint = 1000*1000\n",
    "class Solution(object):\n",
    "    def maxProfit(self, k, prices):\n",
    "        \"\"\"\n",
    "        :type k: int\n",
    "        :type prices: List[int]\n",
    "        :rtype: int\n",
    "        \"\"\"\n",
    "        if not prices: return 0\n",
    "        k = min(k, len(prices)//2)\n",
    "        dp = [[[0 for _ in range(2)] for _ in range(k+1)] for _ in prices]\n",
    "        dp[0][0][0] = 0\n",
    "        dp[0][0][1] = -prices[0]\n",
    "        for j in range(1, k+1):\n",
    "            dp[0][j][0], dp[0][j][1] = -maxint, -maxint\n",
    "        for i in range(1, len(prices)):\n",
    "            dp[i][0][1] = max(dp[i-1][0][1], dp[i-1][0][0]-prices[i])\n",
    "            for j in range(1, k+1):\n",
    "                dp[i][j][1] = max(dp[i-1][j][1], dp[i-1][j][0]-prices[i])\n",
    "                dp[i][j][0] = max(dp[i-1][j][0], dp[i-1][j-1][1]+prices[i])\n",
    "                \n",
    "        max_profit = 0\n",
    "        for j in range(k+1):\n",
    "            max_profit = max(dp[-1][j][0], max_profit)\n",
    "        return max_profit\n"
   ]
  },
  {
   "cell_type": "code",
   "execution_count": null,
   "metadata": {},
   "outputs": [],
   "source": [
    "import unittest\n",
    "\n",
    "\n",
    "class LeetcodeTest(unittest.TestCase):\n",
    "    solution = getattr(Solution(), dir(Solution)[-1])\n",
    "\n",
    "    # def test_case1(self):\n",
    "    #     test_input = (1, [7,6,4,3,1])\n",
    "    #     test_output = 0\n",
    "    #     self.assertEqual(self.solution(*test_input), test_output)\n",
    "    # def test_case2(self):\n",
    "    #     test_input = (2, [2,4,1])\n",
    "    #     test_output = 2\n",
    "    #     self.assertEqual(self.solution(*test_input), test_output)\n",
    "    # def test_case3(self):\n",
    "    #     test_input = (2, [3,2,6,5,0,3])\n",
    "    #     test_output = 7\n",
    "    #     self.assertEqual(self.solution(*test_input), test_output)\n",
    "    def test_case4(self):\n",
    "        test_input = (2, [1,2,4])\n",
    "        test_output = 3\n",
    "        self.assertEqual(self.solution(*test_input), test_output)\n",
    "\n",
    "unittest.main(argv=['ignored', '-v'], exit=False)"
   ]
  }
 ],
 "metadata": {
  "interpreter": {
   "hash": "8f10c23deeb0cc051b43c04ce2b4596f0d971a59bcf6ff8a8b744177b024b55d"
  },
  "kernelspec": {
   "display_name": "Python 3.7.10 ('osfir')",
   "language": "python",
   "name": "python3"
  },
  "language_info": {
   "codemirror_mode": {
    "name": "ipython",
    "version": 3
   },
   "file_extension": ".py",
   "mimetype": "text/x-python",
   "name": "python",
   "nbconvert_exporter": "python",
   "pygments_lexer": "ipython3",
   "version": "3.7.10"
  },
  "orig_nbformat": 4
 },
 "nbformat": 4,
 "nbformat_minor": 2
}
