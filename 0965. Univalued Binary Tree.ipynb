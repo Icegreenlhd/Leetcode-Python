{
 "cells": [
  {
   "cell_type": "code",
   "execution_count": null,
   "metadata": {},
   "outputs": [],
   "source": [
    "# 递归遍历判断\n",
    "class TreeNode(object):\n",
    "    def __init__(self, val=0, left=None, right=None):\n",
    "        self.left = left\n",
    "        self.right = right\n",
    "        self.val = val\n",
    "\n",
    "class Solution(object):\n",
    "    def isUnivalTree(self, root):\n",
    "        \"\"\"\n",
    "        :type root: TreeNode\n",
    "        :rtype: bool\n",
    "        \"\"\"\n",
    "        if root is None or (root.left is None and root.right is None):\n",
    "            return True\n",
    "        if root.left is not None and root.left.val != root.val:\n",
    "            return False\n",
    "        if root.right is not None and root.right.val != root.val:\n",
    "            return False\n",
    "        return self.isUnivalTree(root.left) and self.isUnivalTree(root.right)\n",
    "        "
   ]
  },
  {
   "cell_type": "code",
   "execution_count": null,
   "metadata": {},
   "outputs": [],
   "source": [
    "# bfs 判断\n",
    "import collections\n",
    "\n",
    "class TreeNode(object):\n",
    "    def __init__(self, val=0, left=None, right=None):\n",
    "        self.left = left\n",
    "        self.right = right\n",
    "        self.val = val\n",
    "\n",
    "class Solution(object):\n",
    "    def isUnivalTree(self, root):\n",
    "        \"\"\"\n",
    "        :type root: TreeNode\n",
    "        :rtype: bool\n",
    "        \"\"\"\n",
    "        if root is None or (root.left is None and root.right is None):\n",
    "            return True\n",
    "        dque = collections.deque()\n",
    "        dque.append(root)\n",
    "        val = root.val\n",
    "        while len(dque) > 0:\n",
    "            node = dque.popleft()\n",
    "            if node.val != val:\n",
    "                return False\n",
    "            if node.left is not None:\n",
    "                dque.append(node.left)\n",
    "            if node.right is not None:\n",
    "                dque.append(node.right)\n",
    "        return True\n",
    "            \n"
   ]
  }
 ],
 "metadata": {
  "language_info": {
   "name": "python"
  },
  "orig_nbformat": 4
 },
 "nbformat": 4,
 "nbformat_minor": 2
}
