{
 "cells": [
  {
   "cell_type": "code",
   "execution_count": null,
   "metadata": {},
   "outputs": [],
   "source": [
    "# 二分搜索 + 双指针\n",
    "class Solution(object):\n",
    "    def findPairs(self, nums, k):\n",
    "        \"\"\"\n",
    "        :type nums: List[int]\n",
    "        :type k: int\n",
    "        :rtype: int\n",
    "        \"\"\"\n",
    "        nums.sort()\n",
    "        i, j = 0, 0\n",
    "        left, right = 1, len(nums)\n",
    "\n",
    "        while left < right:\n",
    "            mid = (left+right) >> 1\n",
    "            if nums[mid]-nums[i] >= k:\n",
    "                right = mid\n",
    "            else:\n",
    "                left = mid + 1\n",
    "        j = left\n",
    "        cnt = 0\n",
    "        while i<=j and j < len(nums):\n",
    "            if nums[j] - nums[i] == k:\n",
    "                cnt += 1\n",
    "                while i < len(nums)-1 and nums[i] == nums[i+1]:\n",
    "                    i += 1\n",
    "                i += 1\n",
    "                while j < len(nums)-1 and nums[j] == nums[j+1]:\n",
    "                    j += 1\n",
    "                j += 1\n",
    "            elif nums[j] - nums[i] < k:\n",
    "                j += 1\n",
    "            elif nums[j] - nums[i] > k:\n",
    "                i += 1\n",
    "        return cnt\n",
    "                \n"
   ]
  },
  {
   "cell_type": "code",
   "execution_count": null,
   "metadata": {},
   "outputs": [],
   "source": [
    "# 二分搜索\n",
    "class Solution(object):\n",
    "    def findPairs(self, nums, k):\n",
    "        \"\"\"\n",
    "        :type nums: List[int]\n",
    "        :type k: int\n",
    "        :rtype: int\n",
    "        \"\"\"\n",
    "        nums.sort()\n",
    "        cnt = 0\n",
    "        for i in range(len(nums)-1):\n",
    "            if i > 0 and nums[i] == nums[i-1]:\n",
    "                continue\n",
    "            left, right = i+1, len(nums)\n",
    "            while left < right:\n",
    "                mid = (left+right) >> 1\n",
    "                if nums[mid]-nums[i] >= k:\n",
    "                    right = mid\n",
    "                else:\n",
    "                    left = mid + 1\n",
    "            if left < len(nums) and nums[left] - nums[i] == k:\n",
    "                cnt += 1\n",
    "        return cnt"
   ]
  },
  {
   "cell_type": "code",
   "execution_count": null,
   "metadata": {},
   "outputs": [],
   "source": [
    "# hashmap\n",
    "class Solution(object):\n",
    "    def findPairs(self, nums, k):\n",
    "        \"\"\"\n",
    "        :type nums: List[int]\n",
    "        :type k: int\n",
    "        :rtype: int\n",
    "        \"\"\"\n",
    "        visited, res = set(), set()\n",
    "        for n in nums:\n",
    "            if n+k in visited:\n",
    "                res.add(n)\n",
    "            if n-k in visited:\n",
    "                res.add(n-k)\n",
    "            visited.add(n)\n",
    "        return len(res)"
   ]
  },
  {
   "cell_type": "code",
   "execution_count": null,
   "metadata": {},
   "outputs": [],
   "source": []
  }
 ],
 "metadata": {
  "kernelspec": {
   "display_name": "Python 3.8.10 64-bit",
   "language": "python",
   "name": "python3"
  },
  "language_info": {
   "name": "python",
   "version": "3.8.10"
  },
  "orig_nbformat": 4,
  "vscode": {
   "interpreter": {
    "hash": "31f2aee4e71d21fbe5cf8b01ff0e069b9275f58929596ceb00d14d90e3e16cd6"
   }
  }
 },
 "nbformat": 4,
 "nbformat_minor": 2
}
