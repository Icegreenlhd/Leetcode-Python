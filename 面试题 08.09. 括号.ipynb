{
 "cells": [
  {
   "cell_type": "code",
   "execution_count": null,
   "metadata": {},
   "outputs": [],
   "source": [
    "class Solution(object):\n",
    "    def generateParenthesis(self, n):\n",
    "        \"\"\"\n",
    "        :type n: int\n",
    "        :rtype: List[str]\n",
    "        \"\"\"\n",
    "        self.res = []\n",
    "        self._dfs(n, 0, '')\n",
    "        return self.res\n",
    "    \n",
    "    def _dfs(self, left, right, part):\n",
    "        if left == 0 and right == 0:\n",
    "            self.res.append(part)\n",
    "            return\n",
    "        \n",
    "        if left > 0:\n",
    "            self._dfs(left-1, right+1, part+'(')\n",
    "        if right > 0:\n",
    "            self._dfs(left, right-1, part+')')\n",
    "        "
   ]
  }
 ],
 "metadata": {
  "language_info": {
   "name": "python"
  },
  "orig_nbformat": 4
 },
 "nbformat": 4,
 "nbformat_minor": 2
}
