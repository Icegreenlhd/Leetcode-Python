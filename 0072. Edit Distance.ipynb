{
 "cells": [
  {
   "cell_type": "code",
   "execution_count": null,
   "metadata": {},
   "outputs": [],
   "source": [
    "class Solution(object):\n",
    "    def minDistance(self, word1, word2):\n",
    "        \"\"\"\n",
    "        :type word1: str\n",
    "        :type word2: str\n",
    "        :rtype: int\n",
    "        \"\"\"\n",
    "        if not word1 and not word2: return 0\n",
    "        if not word1: return len(word2)\n",
    "        if not word2: return len(word1)\n",
    "        m, n = len(word1), len(word2)\n",
    "        dp = [[0 for _ in range(n+1)] for _ in range(m+1)]\n",
    "        for i in range(m+1):\n",
    "            dp[i][0] = i\n",
    "        for j in range(n+1):\n",
    "            dp[0][j] = j\n",
    "        for i in range(1, m+1):\n",
    "            for j in range(1, n+1):\n",
    "                dp[i][j] = min(dp[i-1][j-1], dp[i-1][j], dp[i][j-1]) + 1 if word1[i-1]!=word2[j-1] else dp[i-1][j-1]\n",
    "                #对应的操作        replace      delete       insert\n",
    "        return dp[m][n]       "
   ]
  },
  {
   "cell_type": "code",
   "execution_count": null,
   "metadata": {},
   "outputs": [],
   "source": [
    "import unittest\n",
    "\n",
    "\n",
    "class LeetcodeTest(unittest.TestCase):\n",
    "    solution = getattr(Solution(), dir(Solution)[-1])\n",
    "\n",
    "    def test_case1(self):\n",
    "        test_input = [\"pneumonoultramicroscopicsilicovolcanoconiosis\", \"ultramicroscopically\"]\n",
    "        test_output = 27\n",
    "        self.assertEqual(self.solution(*test_input), test_output)\n",
    "\n",
    "unittest.main(argv=['ignored', '-v'], exit=False)"
   ]
  }
 ],
 "metadata": {
  "interpreter": {
   "hash": "8f10c23deeb0cc051b43c04ce2b4596f0d971a59bcf6ff8a8b744177b024b55d"
  },
  "kernelspec": {
   "display_name": "Python 3.7.10 ('osfir')",
   "language": "python",
   "name": "python3"
  },
  "language_info": {
   "codemirror_mode": {
    "name": "ipython",
    "version": 3
   },
   "file_extension": ".py",
   "mimetype": "text/x-python",
   "name": "python",
   "nbconvert_exporter": "python",
   "pygments_lexer": "ipython3",
   "version": "3.7.10"
  },
  "orig_nbformat": 4
 },
 "nbformat": 4,
 "nbformat_minor": 2
}
