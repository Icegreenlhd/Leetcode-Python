{
 "cells": [
  {
   "cell_type": "code",
   "execution_count": null,
   "metadata": {},
   "outputs": [],
   "source": [
    "# 动态规划 三维数组\n",
    "class Solution(object):\n",
    "    def countPalindromicSubsequences(self, s):\n",
    "        \"\"\"\n",
    "        :type s: str\n",
    "        :rtype: int\n",
    "        \"\"\"\n",
    "        MOD = 10 ** 9 + 7\n",
    "        n = len(s)\n",
    "        dp = [[[0] * n for _ in range(n)] for _ in range(4)]\n",
    "        for i, c in enumerate(s):\n",
    "            dp[ord(c)-ord('a')][i][i] = 1\n",
    "        \n",
    "        for sz in range(2, n+1):\n",
    "            for j in range(sz-1, n):\n",
    "                i = j-sz+1\n",
    "                for k, c in enumerate(\"abcd\"):\n",
    "                    if s[i] == c and s[j] == c:\n",
    "                        dp[k][i][j] = (2+sum(d[i+1][j-1] for d in dp)) % MOD\n",
    "                    elif s[i] == c:\n",
    "                        dp[k][i][j] = dp[k][i][j-1]\n",
    "                    elif s[j] == c:\n",
    "                        dp[k][i][j] = dp[k][i+1][j]\n",
    "                    else:\n",
    "                        dp[k][i][j] = dp[k][i+1][j-1]\n",
    "        return sum(d[0][n-1] for d in dp) % MOD"
   ]
  }
 ],
 "metadata": {
  "language_info": {
   "name": "python"
  },
  "orig_nbformat": 4
 },
 "nbformat": 4,
 "nbformat_minor": 2
}
