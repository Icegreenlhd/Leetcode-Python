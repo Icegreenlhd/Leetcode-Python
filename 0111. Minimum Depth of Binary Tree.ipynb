{
 "cells": [
  {
   "cell_type": "code",
   "execution_count": null,
   "metadata": {},
   "outputs": [],
   "source": [
    "class Solution(object):\n",
    "    def minDepth(self, root):\n",
    "        \"\"\"\n",
    "        :type root: TreeNode\n",
    "        :rtype: int\n",
    "        \"\"\"\n",
    "        if not root: return 0\n",
    "        # if not root.left or not root.right: return 1\n",
    "        left = self.minDepth(root.left)\n",
    "        right = self.minDepth(root.right)\n",
    "        return left+right+1 if (left == 0 or right == 0) else min(left, right) + 1\n",
    "\n",
    "        "
   ]
  },
  {
   "cell_type": "code",
   "execution_count": null,
   "metadata": {},
   "outputs": [],
   "source": [
    "class Solution(object):\n",
    "    def minDepth(self, root):\n",
    "        \"\"\"\n",
    "        :type root: TreeNode\n",
    "        :rtype: int\n",
    "        \"\"\"\n",
    "        if not root: return 0\n",
    "        queue = [(root, 1)]\n",
    "        min_depth = 0\n",
    "        # visited = set()\n",
    "        while queue:\n",
    "            q, level = queue.pop(0)\n",
    "            if q.left != None:\n",
    "                queue.append((q.left, level+1))\n",
    "            if q.right != None:\n",
    "                queue.append((q.right, level+1))\n",
    "            if not q.left and not q.right:\n",
    "                return level\n",
    "        return None"
   ]
  },
  {
   "cell_type": "code",
   "execution_count": null,
   "metadata": {},
   "outputs": [],
   "source": [
    "class TreeNode(object):\n",
    "    def __init__(self, x):\n",
    "        self.val = x\n",
    "        self.left = None\n",
    "        self.right = None\n",
    "\n",
    "def init_bst(tree):\n",
    "    t = tree.copy()\n",
    "    root = TreeNode(t.pop(0))\n",
    "    tree_list = [root]\n",
    "    while len(t) > 0:\n",
    "        size = len(tree_list)\n",
    "        for _ in range(size):\n",
    "            temp = tree_list.pop(0)\n",
    "            if temp != None:\n",
    "                left = t.pop(0) if len(t) > 0 else None\n",
    "                if left:\n",
    "                    temp.left  = TreeNode(left)\n",
    "                    tree_list.append(temp.left)\n",
    "                right = t.pop(0) if len(t) > 0 else None\n",
    "                if right:\n",
    "                    temp.right  = TreeNode(right)\n",
    "                    tree_list.append(temp.right)\n",
    "    return root\n",
    "\n",
    "import unittest\n",
    "\n",
    "\n",
    "class LeetcodeTest(unittest.TestCase):\n",
    "    solution = getattr(Solution(), dir(Solution)[-1])\n",
    "\n",
    "    def test_case1(self):\n",
    "        null = None\n",
    "        test_input = [3,9,20,null,null,15,7]\n",
    "        test_input = init_bst(test_input)\n",
    "        test_output = 2\n",
    "        self.assertEqual(self.solution(test_input), test_output)\n",
    "    def test_case2(self):\n",
    "        null = None\n",
    "        test_input = [2,null,3,null,4,null,5,null,6]\n",
    "        test_input = init_bst(test_input)\n",
    "        test_output = 5\n",
    "        self.assertEqual(self.solution(test_input), test_output)\n",
    "    def test_case3(self):\n",
    "        null = None\n",
    "        test_input = [1,2,3,4,5]\n",
    "        test_input = init_bst(test_input)\n",
    "        test_output = 2\n",
    "        self.assertEqual(self.solution(test_input), test_output)\n",
    "\n",
    "unittest.main(argv=['ignored', '-v'], exit=False)"
   ]
  }
 ],
 "metadata": {
  "interpreter": {
   "hash": "8f10c23deeb0cc051b43c04ce2b4596f0d971a59bcf6ff8a8b744177b024b55d"
  },
  "kernelspec": {
   "display_name": "Python 3.7.10 ('osfir')",
   "language": "python",
   "name": "python3"
  },
  "language_info": {
   "codemirror_mode": {
    "name": "ipython",
    "version": 3
   },
   "file_extension": ".py",
   "mimetype": "text/x-python",
   "name": "python",
   "nbconvert_exporter": "python",
   "pygments_lexer": "ipython3",
   "version": "3.7.10"
  },
  "orig_nbformat": 4
 },
 "nbformat": 4,
 "nbformat_minor": 2
}
