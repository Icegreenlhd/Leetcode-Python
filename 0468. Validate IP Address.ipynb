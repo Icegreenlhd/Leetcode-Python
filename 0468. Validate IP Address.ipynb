{
 "cells": [
  {
   "cell_type": "code",
   "execution_count": null,
   "metadata": {},
   "outputs": [],
   "source": [
    "class Solution(object):\n",
    "    def validIPAddress(self, queryIP):\n",
    "        \"\"\"\n",
    "        :type queryIP: str\n",
    "        :rtype: str\n",
    "        \"\"\"\n",
    "        self.ip = queryIP\n",
    "        if \":\" in queryIP:\n",
    "            return self._checkipv6()\n",
    "        if \".\" in queryIP:\n",
    "            return self._checkipv4()\n",
    "        return \"Neither\"\n",
    "\n",
    "    def _checkipv4(self):\n",
    "        ip = self.ip.split(\".\")\n",
    "        if len(ip) != 4:\n",
    "            return \"Neither\"\n",
    "        for i in ip:\n",
    "            if not i.isdigit():\n",
    "                return \"Neither\"\n",
    "            if not 0 <= int(i) <= 255:\n",
    "                return \"Neither\"\n",
    "            if i[0] == '0' and len(i)>1:\n",
    "                return \"Neither\"\n",
    "        return \"IPv4\"\n",
    "    \n",
    "    def _checkipv6(self):\n",
    "        ip = self.ip.split(\":\")\n",
    "        if len(ip) != 8:\n",
    "            return \"Neither\"\n",
    "        for i in ip:\n",
    "            if len(i) > 4 or len(i) < 1:\n",
    "                return \"Neither\"\n",
    "            for j in i:\n",
    "                if not (j.isdigit() or 0<=ord(j)-ord('A')<=5 or 0<=ord(j)-ord('a')<=5):\n",
    "                    return \"Neither\"\n",
    "        return  \"IPv6\""
   ]
  },
  {
   "cell_type": "code",
   "execution_count": null,
   "metadata": {},
   "outputs": [],
   "source": [
    "import unittest\n",
    "\n",
    "\n",
    "class LeetcodeTest(unittest.TestCase):\n",
    "    solution = getattr(Solution(), dir(Solution)[-1])\n",
    "\n",
    "    def test_case1(self):\n",
    "        test_input = \"t001:db8:85a3:0:0:8A2E:0370:7334\"\n",
    "        test_output = \"Neither\"\n",
    "        self.assertEqual(self.solution(test_input), test_output)\n",
    "\n",
    "unittest.main(argv=['ignored', '-v'], exit=False)"
   ]
  }
 ],
 "metadata": {
  "interpreter": {
   "hash": "8f10c23deeb0cc051b43c04ce2b4596f0d971a59bcf6ff8a8b744177b024b55d"
  },
  "kernelspec": {
   "display_name": "Python 3.7.10 ('osfir')",
   "language": "python",
   "name": "python3"
  },
  "language_info": {
   "codemirror_mode": {
    "name": "ipython",
    "version": 3
   },
   "file_extension": ".py",
   "mimetype": "text/x-python",
   "name": "python",
   "nbconvert_exporter": "python",
   "pygments_lexer": "ipython3",
   "version": "3.7.10"
  },
  "orig_nbformat": 4
 },
 "nbformat": 4,
 "nbformat_minor": 2
}
