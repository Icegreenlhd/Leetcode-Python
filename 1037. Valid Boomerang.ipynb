{
 "cells": [
  {
   "cell_type": "code",
   "execution_count": null,
   "metadata": {},
   "outputs": [],
   "source": [
    "# 条件判断, 并且leetcode中除法为整除\n",
    "class Solution(object):\n",
    "    def isBoomerang(self, points):\n",
    "        \"\"\"\n",
    "        :type points: List[List[int]]\n",
    "        :rtype: bool\n",
    "        \"\"\"\n",
    "        if self._isequal(points[0], points[1]) or self._isequal(points[1], points[2]):\n",
    "            return False\n",
    "        elif points[0][1] == points[1][1] and points[1][1] == points[2][1]:\n",
    "            return False\n",
    "        elif points[0][1] == points[1][1] or points[1][1] == points[2][1]:\n",
    "            return True\n",
    "        return float(points[1][0]-points[0][0])/(points[1][1]-points[0][1]) != float(points[2][0]-points[1][0])/(points[2][1]-points[1][1])\n",
    "    \n",
    "    def _isequal(self, point1, point2):\n",
    "        for i, p in enumerate(point1):\n",
    "            if p != point2[i]:\n",
    "                return False\n",
    "        return True"
   ]
  },
  {
   "cell_type": "code",
   "execution_count": null,
   "metadata": {},
   "outputs": [],
   "source": [
    "# 叉乘方法\n",
    "class Solution(object):\n",
    "    def isBoomerang(self, points):\n",
    "        \"\"\"\n",
    "        :type points: List[List[int]]\n",
    "        :rtype: bool\n",
    "        \"\"\"\n",
    "        v1 = (points[0][0]-points[1][0], points[0][1]-points[1][1])\n",
    "        v2 = (points[0][0]-points[2][0], points[0][1]-points[2][1])\n",
    "        return v1[0] * v2[1] - v1[1] * v2[0] != 0"
   ]
  },
  {
   "cell_type": "code",
   "execution_count": null,
   "metadata": {},
   "outputs": [],
   "source": [
    "import unittest\n",
    "\n",
    "\n",
    "class LeetcodeTest(unittest.TestCase):\n",
    "    solution = getattr(Solution(), dir(Solution)[-1])\n",
    "\n",
    "    def test_case1(self):\n",
    "        test_input = [[0,1],[1,0],[0,2]]\n",
    "        test_output = True\n",
    "        self.assertEqual(self.solution(test_input), test_output)\n",
    "\n",
    "unittest.main(argv=['ignored', '-v'], exit=False)"
   ]
  }
 ],
 "metadata": {
  "interpreter": {
   "hash": "8f10c23deeb0cc051b43c04ce2b4596f0d971a59bcf6ff8a8b744177b024b55d"
  },
  "kernelspec": {
   "display_name": "Python 3.7.10 ('osfir')",
   "language": "python",
   "name": "python3"
  },
  "language_info": {
   "codemirror_mode": {
    "name": "ipython",
    "version": 3
   },
   "file_extension": ".py",
   "mimetype": "text/x-python",
   "name": "python",
   "nbconvert_exporter": "python",
   "pygments_lexer": "ipython3",
   "version": "3.7.10"
  },
  "orig_nbformat": 4
 },
 "nbformat": 4,
 "nbformat_minor": 2
}
