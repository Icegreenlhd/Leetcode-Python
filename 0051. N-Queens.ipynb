{
 "cells": [
  {
   "cell_type": "markdown",
   "id": "a04712d6",
   "metadata": {},
   "source": [
    "n 皇后问题研究的是如何将 n 个皇后放置在 n×n 的棋盘上，并且使皇后彼此之间不能相互攻击。\n",
    "\n",
    "<img src=\"https://assets.leetcode.com/uploads/2018/10/12/8-queens.png\" width=50%>\n",
    "\n",
    "上图为 8 皇后问题的一种解法。\n",
    "\n",
    "给定一个整数 n，返回所有不同的 n 皇后问题的解决方案。\n",
    "\n",
    "每一种解法包含一个明确的 n 皇后问题的棋子放置方案，该方案中 'Q' 和 '.' 分别代表了皇后和空位。\n",
    "\n",
    "\n",
    "示例:\n",
    "```\n",
    "输入: 4\n",
    "输出: [\n",
    " [\".Q..\",  // 解法 1\n",
    "  \"...Q\",\n",
    "  \"Q...\",\n",
    "  \"..Q.\"],\n",
    "\n",
    " [\"..Q.\",  // 解法 2\n",
    "  \"Q...\",\n",
    "  \"...Q\",\n",
    "  \".Q..\"]\n",
    "]\n",
    "解释: 4 皇后问题存在两个不同的解法。\n",
    "```\n",
    "\n",
    "提示：\n",
    "```\n",
    "皇后，是国际象棋中的棋子，意味着国王的妻子。皇后只做一件事，那就是“吃子”。当她遇见可以吃的棋子时，就迅速冲上去吃掉棋子。当然，她横、竖、斜都可走一到七步，可进可退。（引用自 百度百科 - 皇后 ）\n",
    "```\n",
    "来源：力扣（LeetCode）\n",
    "链接：https://leetcode-cn.com/problems/n-queens\n",
    "著作权归领扣网络所有。商业转载请联系官方授权，非商业转载请注明出处。"
   ]
  },
  {
   "cell_type": "markdown",
   "id": "411f66cd",
   "metadata": {},
   "source": [
    "# my solution 1, Greedy algorithm，copy Jake's solution"
   ]
  },
  {
   "cell_type": "code",
   "execution_count": null,
   "id": "b110da5a",
   "metadata": {},
   "outputs": [],
   "source": [
    "# my solution 1, Greedy algorithm，copy Jake's solution\n",
    "class Solution(object):\n",
    "    def solveNQueens(self, n):\n",
    "        \"\"\"\n",
    "        :type n: int\n",
    "        :rtype: List[List[str]]\n",
    "        \"\"\"\n",
    "        self.boards = [[]]\n",
    "        \n",
    "        for row in range(n):\n",
    "            new_boards = []\n",
    "            for num in range(len(self.boards)):\n",
    "                for col in range(n):\n",
    "                    if not self.judge(num, col):\n",
    "                        new_boards.append(self.boards[num] + [col])\n",
    "            del self.boards\n",
    "            self.boards = new_boards\n",
    "\n",
    "        return [[''.join([['.', 'Q'] [col == board[row]] for col in range(n)]) for row in range(n)] for board in self.boards]\n",
    "    \n",
    "    def judge(self, num, new_col):\n",
    "        for row, col in enumerate(self.boards[num]):\n",
    "            if new_col == col: # same column\n",
    "                return True\n",
    "            if abs(new_col-col) == len(self.boards[num]) - row: # same diagonal\n",
    "                return True\n",
    "            \n",
    "        return False"
   ]
  },
  {
   "cell_type": "code",
   "execution_count": null,
   "id": "41ec3f19",
   "metadata": {},
   "outputs": [],
   "source": [
    "solution = Solution()\n",
    "print(solution.solveNQueens(4))"
   ]
  },
  {
   "cell_type": "markdown",
   "id": "cdffc9c0",
   "metadata": {},
   "source": [
    "# my solution 2, DFS, Copy azl397985856 / leetcode\n",
    "> 结合DFS与位运算的大神级别操作"
   ]
  },
  {
   "cell_type": "code",
   "execution_count": null,
   "id": "fa2a2440",
   "metadata": {},
   "outputs": [],
   "source": [
    "# my solution 2, DFS, Copy azl397985856 / leetcode\n",
    "# 结合DFS与位运算的大神级别操作\n",
    "class Solution(object):\n",
    "    def solveNQueens(self, n):\n",
    "        \"\"\"\n",
    "        :type n: int\n",
    "        :rtype: List[List[str]]\n",
    "        \"\"\"\n",
    "        self.res = []\n",
    "        self.dfs(n)\n",
    "        return self.res\n",
    "\n",
    "    def dfs(self, n, row=0, cols=0, pie=0, na=0, partial=[]):\n",
    "        if row >= n:\n",
    "            self.res.append(partial)\n",
    "            return\n",
    "        bits = (~(cols | pie | na) & ((1 << n) - 1))\n",
    "        while bits:\n",
    "            p = bits & -bits\n",
    "            self.dfs(n, row+1, cols | p, (pie | p) << 1, (na | p) >> 1, partial+[''.join([['.', 'Q'] [(1<<x) == p] for x in range(n)])])\n",
    "            bits = bits & (bits - 1)"
   ]
  },
  {
   "cell_type": "code",
   "execution_count": null,
   "id": "8baa3f28",
   "metadata": {},
   "outputs": [],
   "source": [
    "solution = Solution()\n",
    "print(solution.solveNQueens(4))"
   ]
  },
  {
   "cell_type": "markdown",
   "id": "ddeca8fe",
   "metadata": {},
   "source": [
    "# Jake's solution, Greedy method"
   ]
  },
  {
   "cell_type": "code",
   "execution_count": null,
   "id": "42fe33bb",
   "metadata": {},
   "outputs": [],
   "source": [
    "_author_ = 'jake'\n",
    "_project_ = 'leetcode'\n",
    "\n",
    "# https://leetcode.com/problems/n-queens/\n",
    "# The n-queens puzzle is the problem of placing n queens on an n×n chessboard such that no two queens attack each other.\n",
    "# Given an integer n, return all distinct solutions to the n-queens puzzle.\n",
    "# Each solution contains a distinct board configuration of the n-queens' placement,\n",
    "# where 'Q' and '.' both indicate a queen and an empty space respectively.\n",
    "\n",
    "# For each column, place a queen in each possible row that does not conflict with an existing queen.\n",
    "# Time - O(n^2 * n!), n possible rows for first col, n-1 for second ... etc.  each result size n^2\n",
    "# Space - O(n^2 * n!)\n",
    "\n",
    "class Solution(object):\n",
    "    def solveNQueens(self, n):\n",
    "        \"\"\"\n",
    "        :type n: int\n",
    "        :rtype: List[List[str]]\n",
    "        \"\"\"\n",
    "        partials = [[]]                         # solutions up to current row\n",
    "        for col in range(n):\n",
    "            new_partials = []\n",
    "            for partial in partials:\n",
    "                for row in range(n):\n",
    "                    if not self.conflict(partial, row):\n",
    "                        new_partials.append(partial + [row])\n",
    "            partials = new_partials\n",
    "        print(partials)\n",
    "        results = []\n",
    "        for partial in partials:                # convert result to strings\n",
    "            result = [['.'] * n for _ in range(n)]\n",
    "            for col, row in enumerate(partial):\n",
    "                result[row][col] = 'Q'\n",
    "            for row in range(n):\n",
    "                result[row] = ''.join(result[row])\n",
    "            results.append(result)\n",
    "\n",
    "        return results\n",
    "\n",
    "    def conflict(self, partial, new_row):\n",
    "        for col, row in enumerate(partial):\n",
    "            if new_row == row:                      # same row\n",
    "                return True\n",
    "            col_diff = len(partial) - col\n",
    "            if abs(new_row - row) == col_diff:      # same diagonal\n",
    "                return True\n",
    "\n",
    "        return False"
   ]
  },
  {
   "cell_type": "markdown",
   "id": "569eee1c",
   "metadata": {},
   "source": [
    "# Leetcode 官方回溯算法\n",
    "链接：https://leetcode-cn.com/problems/n-queens/solution/nhuang-hou-by-leetcode/"
   ]
  },
  {
   "cell_type": "code",
   "execution_count": null,
   "id": "07f9e5c3",
   "metadata": {},
   "outputs": [],
   "source": [
    "class Solution:\n",
    "    def solveNQueens(self, n):\n",
    "        def could_place(row, col):\n",
    "            return not (cols[col] + hill_diagonals[row - col] + dale_diagonals[row + col])\n",
    "        \n",
    "        def place_queen(row, col):\n",
    "            queens.add((row, col))\n",
    "            cols[col] = 1\n",
    "            hill_diagonals[row - col] = 1\n",
    "            dale_diagonals[row + col] = 1\n",
    "        \n",
    "        def remove_queen(row, col):\n",
    "            queens.remove((row, col))\n",
    "            cols[col] = 0\n",
    "            hill_diagonals[row - col] = 0\n",
    "            dale_diagonals[row + col] = 0\n",
    "        \n",
    "        def add_solution():\n",
    "            solution = []\n",
    "            for _, col in sorted(queens):\n",
    "                solution.append('.' * col + 'Q' + '.' * (n - col - 1))\n",
    "            output.append(solution)\n",
    "        \n",
    "        def backtrack(row = 0):\n",
    "            for col in range(n):\n",
    "                if could_place(row, col):\n",
    "                    place_queen(row, col)\n",
    "                    if row + 1 == n:\n",
    "                        add_solution()\n",
    "                    else:\n",
    "                        backtrack(row + 1)\n",
    "                    remove_queen(row, col)\n",
    "        \n",
    "        cols = [0] * n\n",
    "        hill_diagonals = [0] * (2 * n - 1)\n",
    "        dale_diagonals = [0] * (2 * n - 1)\n",
    "        queens = set()\n",
    "        output = []\n",
    "        backtrack()\n",
    "        return output"
   ]
  },
  {
   "cell_type": "code",
   "execution_count": null,
   "id": "ca573b20",
   "metadata": {},
   "outputs": [],
   "source": [
    "solution = Solution()\n",
    "print(solution.solveNQueens(4))"
   ]
  },
  {
   "cell_type": "markdown",
   "id": "a25f217b",
   "metadata": {},
   "source": [
    "# ilove2yy DFS算法1\n",
    "链接：https://leetcode-cn.com/problems/n-queens/solution/python-ji-jian-yi-zhu-by-iera/"
   ]
  },
  {
   "cell_type": "code",
   "execution_count": null,
   "id": "8a117806",
   "metadata": {},
   "outputs": [],
   "source": [
    "class Solution(object):\n",
    "    def solveNQueens(self, n):\n",
    "        res = []\n",
    "        if n == 0: return res\n",
    "        # row为当前行，col为不可再使用的列，master为不可再使用的主对角线，slave为不可再使用的副对角线\n",
    "        def dfs(row, col, master, slave, cur_res):\n",
    "            if row == n:\n",
    "                res.append([\".\" * cur + \"Q\" + \".\" * (n - cur - 1) for cur in cur_res])\n",
    "                return\n",
    "            for i in range(n):\n",
    "                if (i not in col) and (i+row not in slave) and (i-row not in master):\n",
    "                    dfs(row+1, col|{i}, master|{i-row}, slave|{i+row}, cur_res+[i])\n",
    "\n",
    "        dfs(0, set(), set(), set(), [])\n",
    "        return res"
   ]
  },
  {
   "cell_type": "markdown",
   "id": "fb874798",
   "metadata": {},
   "source": [
    "# ZYK提供算法"
   ]
  },
  {
   "cell_type": "code",
   "execution_count": null,
   "id": "f006fdb3",
   "metadata": {},
   "outputs": [],
   "source": [
    "# Solution given by ZYK\n",
    "class Solution(object):\n",
    "    def solveNQueens(self, n):\n",
    "        self.result = []\n",
    "        self.dfs(n, 0, [], [], [], [])\n",
    "        return self.result\n",
    "\n",
    "    def dfs(self, n, row=0,  col=[], summ=[], diff=[], res=[]):\n",
    "        if row == n:\n",
    "            self.result.append(res)\n",
    "            return\n",
    "        for i in range(n):\n",
    "            if (i not in col) and (i + row not in summ) and (i - row not in diff):\n",
    "                s = ''.join(['.','Q'] [x == i] for x in range(n))\n",
    "                self.dfs(n, row+1,  col+[i], summ+[i+row], diff+[i-row], res+[s])\n",
    "        return"
   ]
  },
  {
   "cell_type": "code",
   "execution_count": null,
   "id": "3c40a59c",
   "metadata": {},
   "outputs": [],
   "source": [
    "solution = Solution()\n",
    "print(solution.solveNQueens(4))"
   ]
  }
 ],
 "metadata": {
  "jupytext": {
   "formats": "ipynb,py"
  },
  "kernelspec": {
   "display_name": "Python 3",
   "language": "python",
   "name": "python3"
  }
 },
 "nbformat": 4,
 "nbformat_minor": 5
}
