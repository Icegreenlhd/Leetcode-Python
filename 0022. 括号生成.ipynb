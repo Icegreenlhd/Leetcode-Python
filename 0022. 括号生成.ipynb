{
 "cells": [
  {
   "cell_type": "markdown",
   "id": "cb4da362",
   "metadata": {},
   "source": [
    "数字 n 代表生成括号的对数，请你设计一个函数，用于能够生成所有可能的并且 有效的 括号组合。\n",
    "\n",
    " \n",
    "\n",
    "示例：\n",
    "```\n",
    "输入：n = 3\n",
    "输出：[\n",
    "       \"((()))\",\n",
    "       \"(()())\",\n",
    "       \"(())()\",\n",
    "       \"()(())\",\n",
    "       \"()()()\"\n",
    "     ]\n",
    "```\n",
    "来源：力扣（LeetCode）\n",
    "链接：https://leetcode-cn.com/problems/generate-parentheses\n",
    "著作权归领扣网络所有。商业转载请联系官方授权，非商业转载请注明出处。"
   ]
  },
  {
   "cell_type": "code",
   "execution_count": null,
   "id": "d812a42b",
   "metadata": {},
   "outputs": [],
   "source": [
    "# my solution 1, recursion\n",
    "class Solution(object):\n",
    "    def generateParenthesis(self, n):\n",
    "        \"\"\"\n",
    "        :type n: int\n",
    "        :rtype: List[str]\n",
    "        \"\"\"\n",
    "        result = []\n",
    "        self.generate(n, 0, '', result)\n",
    "        return result\n",
    "        \n",
    "    def generate(self, n, left, prefix, result):\n",
    "        if not n and not left:\n",
    "            result.append(prefix)\n",
    "            return\n",
    "        if n:\n",
    "            self.generate(n-1, left+1, prefix+'(', result)\n",
    "        if left:\n",
    "            self.generate(n, left-1, prefix+')',result)"
   ]
  },
  {
   "cell_type": "code",
   "execution_count": null,
   "id": "d6dccbeb",
   "metadata": {},
   "outputs": [],
   "source": [
    "_author_ = 'jake'\n",
    "_project_ = 'leetcode'\n",
    "\n",
    "# https://leetcode.com/problems/generate-parentheses/\n",
    "# Given n pairs of parentheses, write a function to generate all combinations of well-formed parentheses.\n",
    "\n",
    "# Recursively add an opening left bracket if any remain, and a closing right bracket if more left brackets have been used.\n",
    "# Time - O(2^n), each recursion can generate 2 recursive calls althougn in practive this is an upper bound\n",
    "# Space - O(2^n)\n",
    "\n",
    "class Solution(object):\n",
    "    def generateParenthesis(self, n):\n",
    "        \"\"\"\n",
    "        :type n: int\n",
    "        :rtype: List[str]\n",
    "        \"\"\"\n",
    "        result = []\n",
    "        self.generate([], n, n, result)\n",
    "        return result\n",
    "\n",
    "    # Generates all parentheses given a starting prefix and remaining left and right brackets.\n",
    "    def generate(self, prefix, left, right, result):\n",
    "        if left == 0 and right == 0:\n",
    "            result.append(\"\".join(prefix))\n",
    "        if left != 0:\n",
    "            self.generate(prefix + ['('], left-1, right, result)\n",
    "        if right > left:\n",
    "            self.generate(prefix + [')'], left, right-1, result)"
   ]
  },
  {
   "cell_type": "code",
   "execution_count": null,
   "id": "cd2534dc",
   "metadata": {},
   "outputs": [],
   "source": [
    "input = []\n",
    "input.append((3,[\n",
    "       \"((()))\",\n",
    "       \"(()())\",\n",
    "       \"(())()\",\n",
    "       \"()(())\",\n",
    "       \"()()()\"\n",
    "     ]))\n",
    "input.append((0,[\n",
    "       \"\"\n",
    "     ]))\n",
    "solution = Solution()\n",
    "for i in input:\n",
    "    n, result = i\n",
    "    my_result = solution.generateParenthesis(n)\n",
    "    result.sort(); my_result.sort();\n",
    "    if result != my_result:\n",
    "        print(\"!Wrong\", \"Input:{} Result:{} Myresult:{}\".format(n, result, my_result))\n",
    "    else:\n",
    "        print(\"Right\", \"Input:{} Result:{} Myresult:{}\".format(n, result, my_result))"
   ]
  }
 ],
 "metadata": {
  "jupytext": {
   "formats": "ipynb,py"
  },
  "kernelspec": {
   "display_name": "Python 3 (ipykernel)",
   "language": "python",
   "name": "python3"
  }
 },
 "nbformat": 4,
 "nbformat_minor": 5
}
