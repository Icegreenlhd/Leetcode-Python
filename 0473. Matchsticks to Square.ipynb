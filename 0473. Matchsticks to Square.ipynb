{
 "cells": [
  {
   "cell_type": "code",
   "execution_count": null,
   "metadata": {},
   "outputs": [],
   "source": [
    "from collections import Counter\n",
    "class Solution(object):\n",
    "    def makesquare(self, matchsticks):\n",
    "        \"\"\"\n",
    "        :type matchsticks: List[int]\n",
    "        :rtype: bool\n",
    "        \"\"\"\n",
    "        b = sum(matchsticks)\n",
    "        if b % 4 != 0:\n",
    "            return False\n",
    "        b = b // 4\n",
    "        matchsticks.sort(reverse=True)\n",
    "        if matchsticks[-1] > b:\n",
    "            return False\n",
    "        edges = [0] * 4\n",
    "        def dfs(idx):\n",
    "            if idx == len(matchsticks):\n",
    "                return True\n",
    "            for i in range(4):\n",
    "                edges[i] += matchsticks[idx]\n",
    "                if edges[i] <= b and dfs(idx+1):\n",
    "                    return True\n",
    "                edges[i] -= matchsticks[idx]\n",
    "            return False\n",
    "        return dfs(0)\n"
   ]
  },
  {
   "cell_type": "code",
   "execution_count": null,
   "metadata": {},
   "outputs": [],
   "source": [
    "class Solution(object):\n",
    "    def makesquare(self, matchsticks):\n",
    "        \"\"\"\n",
    "        :type matchsticks: List[int]\n",
    "        :rtype: bool\n",
    "        \"\"\"\n",
    "        b = sum(matchsticks)\n",
    "        if b % 4 != 0:\n",
    "            return False\n",
    "        b = b // 4\n",
    "        dp = [-1] * (1 << len(matchsticks))\n",
    "        dp[0] = 0\n",
    "        for s in range(1, len(dp)):\n",
    "            for k, v in enumerate(matchsticks):\n",
    "                if s&(1<<k) == 0:\n",
    "                    continue\n",
    "                s1 = s&~(1<<k)\n",
    "                if dp[s1] >= 0 and dp[s1]+v <= b:\n",
    "                    dp[s] = (dp[s1]+v) % b\n",
    "                    break\n",
    "        return dp[-1] == 0"
   ]
  },
  {
   "cell_type": "code",
   "execution_count": null,
   "metadata": {},
   "outputs": [],
   "source": [
    "import unittest\n",
    "\n",
    "\n",
    "class LeetcodeTest(unittest.TestCase):\n",
    "    solution = getattr(Solution(), dir(Solution)[-1])\n",
    "\n",
    "    def test_case1(self):\n",
    "        test_input = [5,5,5,5,4,4,4,4,3,3,3,3]\n",
    "        test_output = True\n",
    "        self.assertEqual(self.solution(test_input), test_output)\n",
    "\n",
    "unittest.main(argv=['ignored', '-v'], exit=False)"
   ]
  }
 ],
 "metadata": {
  "interpreter": {
   "hash": "8f10c23deeb0cc051b43c04ce2b4596f0d971a59bcf6ff8a8b744177b024b55d"
  },
  "kernelspec": {
   "display_name": "Python 3.7.10 ('osfir')",
   "language": "python",
   "name": "python3"
  },
  "language_info": {
   "codemirror_mode": {
    "name": "ipython",
    "version": 3
   },
   "file_extension": ".py",
   "mimetype": "text/x-python",
   "name": "python",
   "nbconvert_exporter": "python",
   "pygments_lexer": "ipython3",
   "version": "3.7.10"
  },
  "orig_nbformat": 4
 },
 "nbformat": 4,
 "nbformat_minor": 2
}
