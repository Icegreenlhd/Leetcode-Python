{
 "cells": [
  {
   "cell_type": "code",
   "execution_count": null,
   "metadata": {},
   "outputs": [],
   "source": [
    "class Solution(object):\n",
    "    def minFlipsMonoIncr(self, s):\n",
    "        \"\"\"\n",
    "        :type s: str\n",
    "        :rtype: int\n",
    "        \"\"\"\n",
    "        dp = [[0 for _ in s] for _ in range(2)]\n",
    "        \n",
    "        cnt = 0\n",
    "        for i in range(len(s)):\n",
    "            if s[i] == '1':\n",
    "                cnt += 1\n",
    "            dp[0][i] = cnt\n",
    "        cnt = 0\n",
    "        for i in range(len(s)-1, -1, -1):\n",
    "            if s[i] == '0':\n",
    "                cnt += 1\n",
    "            dp[1][i] = cnt\n",
    "        return min(min(dp[0][i-1]+dp[1][i] for i in range(1, len(s))), dp[1][0], dp[0][-1])"
   ]
  },
  {
   "cell_type": "code",
   "execution_count": null,
   "metadata": {},
   "outputs": [],
   "source": [
    "class Solution(object):\n",
    "    def minFlipsMonoIncr(self, s):\n",
    "        \"\"\"\n",
    "        :type s: str\n",
    "        :rtype: int\n",
    "        \"\"\"\n",
    "        dp0 = dp1 = 0\n",
    "        for c in s:\n",
    "            dp0New, dp1New = dp0, min(dp0, dp1)\n",
    "            if c == '1':\n",
    "                dp0New += 1\n",
    "            else:\n",
    "                dp1New += 1\n",
    "            dp0, dp1 = dp0New, dp1New\n",
    "        return min(dp0, dp1)"
   ]
  },
  {
   "cell_type": "code",
   "execution_count": null,
   "metadata": {},
   "outputs": [],
   "source": [
    "class Solution(object):\n",
    "    def minFlipsMonoIncr(self, s):\n",
    "        \"\"\"\n",
    "        :type s: str\n",
    "        :rtype: int\n",
    "        \"\"\"\n",
    "        dp0 = dp1 = 0\n",
    "        for c in s:\n",
    "            dp1 = min(dp0, dp1) + (ord('1') - ord(c))\n",
    "            dp0 += ord(c) - ord('0')\n",
    "        return min(dp0, dp1)"
   ]
  }
 ],
 "metadata": {
  "kernelspec": {
   "display_name": "Python 3.8.10 64-bit",
   "language": "python",
   "name": "python3"
  },
  "language_info": {
   "name": "python",
   "version": "3.8.10"
  },
  "orig_nbformat": 4,
  "vscode": {
   "interpreter": {
    "hash": "31f2aee4e71d21fbe5cf8b01ff0e069b9275f58929596ceb00d14d90e3e16cd6"
   }
  }
 },
 "nbformat": 4,
 "nbformat_minor": 2
}
