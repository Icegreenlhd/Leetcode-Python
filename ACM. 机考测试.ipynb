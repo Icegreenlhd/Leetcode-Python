{
 "cells": [
  {
   "cell_type": "code",
   "execution_count": 1,
   "metadata": {},
   "outputs": [],
   "source": [
    "n = input()"
   ]
  },
  {
   "cell_type": "code",
   "execution_count": 4,
   "metadata": {},
   "outputs": [],
   "source": [
    "sentence = \"who love solo\""
   ]
  },
  {
   "cell_type": "code",
   "execution_count": 8,
   "metadata": {},
   "outputs": [
    {
     "name": "stdout",
     "output_type": "stream",
     "text": [
      "3.67\n"
     ]
    }
   ],
   "source": [
    "words = sentence.split()\n",
    "count = len(words)\n",
    "length = 0\n",
    "for word in words:\n",
    "    length += len(word)\n",
    "print(\"{:.2f}\".format(length/count))"
   ]
  },
  {
   "cell_type": "code",
   "execution_count": 13,
   "metadata": {},
   "outputs": [
    {
     "data": {
      "text/plain": [
       "'whO Is sOlOE'"
      ]
     },
     "execution_count": 13,
     "metadata": {},
     "output_type": "execute_result"
    }
   ],
   "source": [
    "vowel = {\"a\": \"A\", \"e\": \"E\", \"i\": \"I\", \"o\": \"O\", \"u\": \"U\"}\n",
    "# please define the python3 input here. For example: a,b = map(int, input().strip().split())\n",
    "sentence = input()\n",
    "# please finish the function body here.\n",
    "result = [v.upper() if v in vowel else v.lower() for v in sentence]\n",
    "print(\"\".join(result))"
   ]
  },
  {
   "cell_type": "code",
   "execution_count": 12,
   "metadata": {},
   "outputs": [
    {
     "data": {
      "text/plain": [
       "['w', 'h', 'O', ' ', 'I', 's', ' ', 'y', 'O', 'U']"
      ]
     },
     "execution_count": 12,
     "metadata": {},
     "output_type": "execute_result"
    }
   ],
   "source": [
    "result"
   ]
  },
  {
   "cell_type": "code",
   "execution_count": 16,
   "metadata": {},
   "outputs": [],
   "source": [
    "data = \"ABA\"\n",
    "from collections import Counter\n",
    "# data = input()\n",
    "# please finish the function body here.\n",
    "c = Counter(data)\n",
    "def jiecheng(n):\n",
    "    res = 1\n",
    "    for i in range(2, n+1):\n",
    "        res*=i\n",
    "    return res\n"
   ]
  },
  {
   "cell_type": "code",
   "execution_count": 22,
   "metadata": {},
   "outputs": [
    {
     "name": "stdout",
     "output_type": "stream",
     "text": [
      "3\n"
     ]
    }
   ],
   "source": [
    "count_all = 0\n",
    "down_res = 1\n",
    "for i in c.items():\n",
    "    count = i[1]\n",
    "    count_all += count\n",
    "    down_res *= jiecheng(count)\n",
    "print(int(jiecheng(count_all)/down_res))"
   ]
  }
 ],
 "metadata": {
  "interpreter": {
   "hash": "8f10c23deeb0cc051b43c04ce2b4596f0d971a59bcf6ff8a8b744177b024b55d"
  },
  "kernelspec": {
   "display_name": "Python 3.7.10 ('osfir')",
   "language": "python",
   "name": "python3"
  },
  "language_info": {
   "codemirror_mode": {
    "name": "ipython",
    "version": 3
   },
   "file_extension": ".py",
   "mimetype": "text/x-python",
   "name": "python",
   "nbconvert_exporter": "python",
   "pygments_lexer": "ipython3",
   "version": "3.7.10"
  },
  "orig_nbformat": 4
 },
 "nbformat": 4,
 "nbformat_minor": 2
}
