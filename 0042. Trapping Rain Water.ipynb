{
 "cells": [
  {
   "cell_type": "markdown",
   "id": "edc9f05d",
   "metadata": {},
   "source": [
    "Given n non-negative integers representing an elevation map where the width of each bar is 1, compute how much water it is able to trap after raining.\n",
    "\n",
    "![trapping rain water](https://assets.leetcode.com/uploads/2018/10/22/rainwatertrap.png)\n",
    "\n",
    "The above elevation map is represented by array [0,1,0,2,1,0,1,3,2,1,2,1]. In this case, 6 units of rain water (blue section) are being trapped. **Thanks Marcos** for contributing this image!\n",
    "\n",
    "\n",
    "Example:\n",
    "```python\n",
    "Input: [0,1,0,2,1,0,1,3,2,1,2,1]\n",
    "Output: 6\n",
    "```"
   ]
  },
  {
   "cell_type": "markdown",
   "id": "871b0c27",
   "metadata": {},
   "source": [
    "# my solution 1,遍历一遍height\n",
    "下降的index保存。\n",
    "启动项-上升时判断是否存在有下降的index：\n",
    "1. 存在：\n",
    " 1. 比它高（上升空间有余）：保存其高度作为下一次高度差计算\n",
    " 2. 比它低或一样高（上升空间不足）退出循环\n",
    "     - 比它低则保留下降的index\n",
    "2. 不存在跳过\n",
    "\n",
    "**复杂度计算**：\n",
    "\n",
    "- Time-O(n)\n",
    "- Space-O(n)"
   ]
  },
  {
   "cell_type": "code",
   "execution_count": null,
   "id": "34e084f8",
   "metadata": {},
   "outputs": [],
   "source": [
    "class Solution(object):\n",
    "    def trap(self, height):\n",
    "        \"\"\"\n",
    "        :type height: List[int]\n",
    "        :rtype: int\n",
    "        \"\"\"\n",
    "        index = 0\n",
    "        down = []\n",
    "        count = 0\n",
    "        while index < len(height):\n",
    "            if index > 0 and height[index] > height[index-1]: # 上升\n",
    "                available = 0\n",
    "                while down:\n",
    "                    last = down.pop()\n",
    "                    count = count + (min(height[last], height[index])-max(height[index-1], available))*(index-last-1)\n",
    "                    if height[index] > height[last]:# 上升仍有空间\n",
    "                        available = height[last]\n",
    "                    else:  # 上升能力不足\n",
    "                        if height[last] > height[index]:  # 保留多余的下降能力\n",
    "                            down.append(last)\n",
    "                        break\n",
    "                        \n",
    "            if index < len(height)-1 and height[index] > height[index+1]:  # 下降\n",
    "                down.append(index)\n",
    "            index += 1\n",
    "        return count"
   ]
  },
  {
   "cell_type": "code",
   "execution_count": null,
   "id": "3f334366",
   "metadata": {},
   "outputs": [],
   "source": [
    "height = [0,1,0,2,1,0,1,3,2,1,2,1]\n",
    "solution = Solution()\n",
    "solution.trap(height)"
   ]
  },
  {
   "cell_type": "markdown",
   "id": "4d13692c",
   "metadata": {},
   "source": [
    "# Jake's Solution\n",
    "Calculate the highest elevation to the right and to the left of every bar.  Min of these is the max depth of water.\n",
    "Subtract the bar height from the max possible depth and floor at zero.\n",
    "- Time - O(n)\n",
    "- Space - O(n)"
   ]
  },
  {
   "cell_type": "code",
   "execution_count": null,
   "id": "54774aad",
   "metadata": {},
   "outputs": [],
   "source": [
    "class Solution(object):\n",
    "    def trap(self, height):\n",
    "\n",
    "        highest_right = [0] * len(height)\n",
    "        for i in range(len(height)-2, -1, -1):\n",
    "            highest_right[i] = max(highest_right[i+1], height[i+1])\n",
    "\n",
    "        highest_left, depth = [0] * len(height), 0\n",
    "        for i in range(1, len(height)):     # depth[0] will be 0 so ok for range to start at 1\n",
    "            highest_left[i] = max(highest_left[i-1], height[i-1])\n",
    "            depth += max(0, min(highest_left[i], highest_right[i]) - height[i])\n",
    "\n",
    "        return depth"
   ]
  },
  {
   "cell_type": "code",
   "execution_count": null,
   "id": "2f5933d5",
   "metadata": {},
   "outputs": [],
   "source": [
    "[2,1,0,2]\n",
    "[4,2,0,3,2,5]"
   ]
  }
 ],
 "metadata": {
  "jupytext": {
   "formats": "ipynb,py"
  },
  "kernelspec": {
   "display_name": "Python 3",
   "language": "python",
   "name": "python3"
  }
 },
 "nbformat": 4,
 "nbformat_minor": 5
}
