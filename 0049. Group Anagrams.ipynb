{
 "cells": [
  {
   "cell_type": "markdown",
   "id": "ef32ce85",
   "metadata": {},
   "source": [
    "# my solution 1, 以dict解\n",
    "缺陷为结果中字符串中有相同的字符会放在一起，"
   ]
  },
  {
   "cell_type": "code",
   "execution_count": null,
   "id": "101304e6",
   "metadata": {},
   "outputs": [],
   "source": [
    "class Solution(object):\n",
    "    def groupAnagrams(self, strs):\n",
    "        \"\"\"\n",
    "        :type strs: List[str]\n",
    "        :rtype: List[List[str]]\n",
    "        \"\"\"\n",
    "        res = {}\n",
    "        for i in strs:\n",
    "            letter_list = list(i)\n",
    "            letter_list.sort()\n",
    "            sorted_i = \"\".join(letter_list)\n",
    "            if res.get(sorted_i):\n",
    "                res[sorted_i].append(i)\n",
    "            else:\n",
    "                res[sorted_i]= [i]\n",
    "        return list(res.values())"
   ]
  },
  {
   "cell_type": "markdown",
   "id": "40251b19",
   "metadata": {},
   "source": [
    "# Jake's solution\n",
    "Sort the letters in each word.  Use sorted words as dictionary keys, values are unsorted words.\n",
    "Anagrams have equivalent sorted words.\n",
    "- Time - O(k log k * n) for n words of length k\n",
    "- Space - O(k * n)"
   ]
  },
  {
   "cell_type": "code",
   "execution_count": null,
   "id": "1a0fe835",
   "metadata": {},
   "outputs": [],
   "source": [
    "from collections import defaultdict\n",
    "\n",
    "class Solution(object):\n",
    "    def groupAnagrams(self, strs):\n",
    "        \"\"\"\n",
    "        :type strs: List[str]\n",
    "        :rtype: List[List[str]]\n",
    "        \"\"\"\n",
    "        sorted_words = defaultdict(list)\n",
    "\n",
    "        for word in strs:\n",
    "            letter_list = list(word)\n",
    "            letter_list.sort()\n",
    "            sorted_word = \"\".join(letter_list)\n",
    "            sorted_words[sorted_word].append(word)\n",
    "\n",
    "        return list(sorted_words.values())"
   ]
  },
  {
   "cell_type": "code",
   "execution_count": null,
   "id": "43a9a8c9",
   "metadata": {},
   "outputs": [],
   "source": [
    "input = [\"eat\", \"tea\", \"tan\", \"ate\", \"nat\", \"bat\"]\n",
    "solution = Solution()\n",
    "print(solution.groupAnagrams(input))"
   ]
  },
  {
   "cell_type": "code",
   "execution_count": null,
   "id": "6233d8ba",
   "metadata": {},
   "outputs": [],
   "source": [
    "list(\"ead\") == list(\"eda\")"
   ]
  },
  {
   "cell_type": "code",
   "execution_count": null,
   "id": "39b2e8c9",
   "metadata": {},
   "outputs": [],
   "source": [
    "a1 = [2,1]\n",
    "a2 = [2,3]\n",
    "set(a1)^set(a2)"
   ]
  }
 ],
 "metadata": {
  "jupytext": {
   "formats": "ipynb,py"
  },
  "kernelspec": {
   "display_name": "Python 3",
   "language": "python",
   "name": "python3"
  }
 },
 "nbformat": 4,
 "nbformat_minor": 5
}
