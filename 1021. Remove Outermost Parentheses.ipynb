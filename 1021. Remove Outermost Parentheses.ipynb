{
 "cells": [
  {
   "cell_type": "code",
   "execution_count": null,
   "metadata": {},
   "outputs": [],
   "source": [
    "class Solution(object):\n",
    "    def removeOuterParentheses(self, s):\n",
    "        \"\"\"\n",
    "        :type s: str\n",
    "        :rtype: str\n",
    "        \"\"\"\n",
    "        l = 1\n",
    "        li, ri = 0, 1\n",
    "        ans = \"\"\n",
    "        while ri < len(s):\n",
    "            if s[ri] == '(':\n",
    "                l += 1\n",
    "            if s[ri] == ')':\n",
    "                l -= 1\n",
    "            if l == 0:\n",
    "                ans += s[li+1:ri]\n",
    "                if ri == len(s)-1:\n",
    "                    break\n",
    "                ri = ri+1\n",
    "                li = ri\n",
    "                l = 1\n",
    "            ri += 1\n",
    "        return ans"
   ]
  },
  {
   "cell_type": "code",
   "execution_count": null,
   "metadata": {},
   "outputs": [],
   "source": [
    "class Solution(object):\n",
    "    def removeOuterParentheses(self, s):\n",
    "        \"\"\"\n",
    "        :type s: str\n",
    "        :rtype: str\n",
    "        \"\"\"\n",
    "        res, stack = \"\", []\n",
    "        for c in s:\n",
    "            if c == ')':\n",
    "                stack.pop()\n",
    "            if stack:\n",
    "                res += c\n",
    "            if c == \"(\":\n",
    "                stack.append(c)\n",
    "        return res"
   ]
  },
  {
   "cell_type": "code",
   "execution_count": null,
   "metadata": {},
   "outputs": [],
   "source": [
    "class Solution(object):\n",
    "    def removeOuterParentheses(self, s):\n",
    "        \"\"\"\n",
    "        :type s: str\n",
    "        :rtype: str\n",
    "        \"\"\"\n",
    "        ans, level = \"\", 0\n",
    "        for c in s:\n",
    "            if c == \")\":\n",
    "                level -= 1\n",
    "            if level:\n",
    "                ans += c\n",
    "            if c == \"(\":\n",
    "                level += 1\n",
    "        return ans"
   ]
  }
 ],
 "metadata": {
  "language_info": {
   "name": "python"
  },
  "orig_nbformat": 4
 },
 "nbformat": 4,
 "nbformat_minor": 2
}
