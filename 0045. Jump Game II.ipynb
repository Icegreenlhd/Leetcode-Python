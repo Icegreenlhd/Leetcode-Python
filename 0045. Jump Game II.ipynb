{
 "cells": [
  {
   "cell_type": "markdown",
   "id": "6e91f23f",
   "metadata": {},
   "source": [
    "Given an array of non-negative integers, you are initially positioned at the first index of the array.\n",
    "\n",
    "Each element in the array represents your maximum jump length at that position.\n",
    "\n",
    "Your goal is to reach the last index in the minimum number of jumps.\n",
    "\n",
    "Example:\n",
    "```\n",
    "Input: [2,3,1,1,4]\n",
    "Output: 2\n",
    "Explanation: The minimum number of jumps to reach the last index is 2.\n",
    "    Jump 1 step from index 0 to 1, then 3 steps to the last index.\n",
    "```\n",
    "Note:\n",
    "\n",
    "You can assume that you can always reach the last index."
   ]
  },
  {
   "cell_type": "markdown",
   "id": "06db4835",
   "metadata": {},
   "source": [
    "# my solution 1, dynamic algorithm\n",
    "\n",
    "- Time:O(n!)\n",
    "  - Time out\n",
    "- Space:O(n)"
   ]
  },
  {
   "cell_type": "code",
   "execution_count": null,
   "id": "2db3c1fc",
   "metadata": {},
   "outputs": [],
   "source": [
    "class Solution(object):\n",
    "    def jump(self, nums):\n",
    "        \"\"\"\n",
    "        :type nums: List[int]\n",
    "        :rtype: int\n",
    "        \"\"\"\n",
    "        dynamic = [float(\"inf\") for _ in range(len(nums))]\n",
    "        dynamic[0] = 0\n",
    "        \n",
    "        for i, n in enumerate(nums):\n",
    "            for j in range(i+1, min(len(nums), n+i+1)):\n",
    "                dynamic[j] = min(dynamic[j], dynamic[i]+1)\n",
    "                if j == len(nums)-1:\n",
    "                    return dynamic[j]\n",
    "        return dynamic.pop()"
   ]
  },
  {
   "cell_type": "markdown",
   "id": "39956c17",
   "metadata": {},
   "source": [
    "# my solution 2,  greedy algorithm\n",
    "- Time: O(n)\n",
    "- Space: O(n)"
   ]
  },
  {
   "cell_type": "code",
   "execution_count": null,
   "id": "895aa099",
   "metadata": {},
   "outputs": [],
   "source": [
    "class Solution(object):\n",
    "    def jump(self, nums):\n",
    "        \"\"\"\n",
    "        :type nums: List[int]\n",
    "        :rtype: int\n",
    "        \"\"\"\n",
    "        last_jump = 0\n",
    "        candidates = [0]\n",
    "        jump_times = 0\n",
    "        \n",
    "        while candidates:\n",
    "            if max_jump >= len(nums)-1:\n",
    "                return jump_times\n",
    "            max_jump = last_jump\n",
    "            for c in candidates:\n",
    "                max_jump = max(nums[c]+c, max_jump)\n",
    "            candidates = list(range(last_jump+1, max_jump+1))\n",
    "            last_jump = max_jump\n",
    "            jump_times += 1\n",
    "            \n",
    "        assert False, \"can not jump to the result\"\n",
    "        return jump_times"
   ]
  },
  {
   "cell_type": "code",
   "execution_count": null,
   "id": "a6705761",
   "metadata": {},
   "outputs": [],
   "source": [
    "# modify\n",
    "class Solution(object):\n",
    "    def jump(self, nums):\n",
    "        \"\"\"\n",
    "        :type nums: List[int]\n",
    "        :rtype: int\n",
    "        \"\"\"\n",
    "        last_jump = 0\n",
    "        candidates = [0]\n",
    "        jump_times = 0\n",
    "        max_jump = last_jump\n",
    "        \n",
    "        while candidates:\n",
    "            if last_jump >= len(nums)-1:\n",
    "                return jump_times\n",
    "            for c in candidates:\n",
    "                max_jump = max(nums[c]+c, max_jump)\n",
    "            candidates = list(range(last_jump+1, max_jump+1))\n",
    "            last_jump = max_jump\n",
    "            jump_times += 1\n",
    "            \n",
    "        assert False, \"can not jump to the result\""
   ]
  },
  {
   "cell_type": "markdown",
   "id": "fe964b2d",
   "metadata": {},
   "source": [
    "# Jake's Solution\n",
    "For each index in currently accessible range, update the max_index that can be reached in one more step.\n",
    "Iterate to next range, from end of previous range to max_index.\n",
    "- Time - O(n)\n",
    "- Space - O(1)"
   ]
  },
  {
   "cell_type": "code",
   "execution_count": null,
   "id": "117617bd",
   "metadata": {},
   "outputs": [],
   "source": [
    "class Solution(object):\n",
    "    def jump(self, nums):\n",
    "        \"\"\"\n",
    "        :type nums: List[int]\n",
    "        :rtype: int\n",
    "        \"\"\"\n",
    "        if len(nums) == 1:\n",
    "            return 0\n",
    "\n",
    "        start, end = 0, 0   # indices in nums of current range\n",
    "        max_index = 0\n",
    "        steps = 1\n",
    "\n",
    "        while True:         # will always terminate since last index is accessible\n",
    "            for i in range(start, end+1):\n",
    "                max_index = max(max_index, i + nums[i])\n",
    "            if max_index >= len(nums)-1:\n",
    "                return steps\n",
    "            steps += 1\n",
    "            start, end = end + 1, max_index"
   ]
  },
  {
   "cell_type": "code",
   "execution_count": null,
   "id": "813060df",
   "metadata": {},
   "outputs": [],
   "source": [
    "1 < float(\"inf\")"
   ]
  }
 ],
 "metadata": {
  "jupytext": {
   "formats": "ipynb,py"
  },
  "kernelspec": {
   "display_name": "Python 3",
   "language": "python",
   "name": "python3"
  }
 },
 "nbformat": 4,
 "nbformat_minor": 5
}
