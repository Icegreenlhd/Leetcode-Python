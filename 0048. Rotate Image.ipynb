{
 "cells": [
  {
   "cell_type": "markdown",
   "id": "d05b6fdf",
   "metadata": {},
   "source": [
    "# my solution 1, zip\n",
    "- Time:$O(n^2)$\n",
    "- Space:$O(n)$"
   ]
  },
  {
   "cell_type": "code",
   "execution_count": null,
   "id": "4b6db017",
   "metadata": {},
   "outputs": [],
   "source": [
    "class Solution(object):\n",
    "    def rotate(self, matrix):\n",
    "        \"\"\"\n",
    "        :type matrix: List[List[int]]\n",
    "        :rtype: None Do not return anything, modify matrix in-place instead.\n",
    "        \"\"\"\n",
    "        matrix[:] = [list(i)[::-1] for i in zip(*matrix)]\n",
    "#         matrix[:] = list(map(list, zip(*matrix[::-1])))\n",
    "        return"
   ]
  },
  {
   "cell_type": "markdown",
   "id": "dfbf98fe",
   "metadata": {},
   "source": [
    "# my solution2, by index\n",
    "- Time: $O(n^2)$\n",
    "- Space: $O(1)$"
   ]
  },
  {
   "cell_type": "code",
   "execution_count": null,
   "id": "bbf9e3ca",
   "metadata": {},
   "outputs": [],
   "source": [
    "class Solution(object):\n",
    "    def rotate(self, matrix):\n",
    "        \"\"\"\n",
    "        :type matrix: List[List[int]]\n",
    "        :rtype: None Do not return anything, modify matrix in-place instead.\n",
    "        \"\"\"\n",
    "        for i in range(len(matrix)):\n",
    "            for j in range(i+1, len(matrix[0])):\n",
    "                matrix[i][j], matrix[j][i] = matrix[j][i],matrix[i][j]\n",
    "                \n",
    "        for i in range(len(matrix)):\n",
    "            for j in range(len(matrix[0])//2):\n",
    "                matrix[i][j], matrix[i][len(matrix[0])-1-j] = matrix[i][len(matrix[0])-1-j],matrix[i][j]\n",
    "        return"
   ]
  },
  {
   "cell_type": "code",
   "execution_count": null,
   "id": "70158459",
   "metadata": {},
   "outputs": [],
   "source": [
    "# 优化\n",
    "class Solution(object):\n",
    "    def rotate(self, matrix):\n",
    "        \"\"\"\n",
    "        :type matrix: List[List[int]]\n",
    "        :rtype: None Do not return anything, modify matrix in-place instead.\n",
    "        \"\"\"\n",
    "        n = len(matrix)\n",
    "        for i in range(n):\n",
    "            for j in range(i+1, n):\n",
    "                matrix[i][j], matrix[j][i] = matrix[j][i],matrix[i][j]\n",
    "                \n",
    "        for i in range(n):\n",
    "            matrix[i].reverse()\n",
    "        return"
   ]
  },
  {
   "cell_type": "markdown",
   "id": "8cb81f63",
   "metadata": {},
   "source": [
    "# Jake's solution\n",
    "Number of layer to rotate is n//2.  For each item along the top side of each layer, save as temp and\n",
    "move in the item from the next side, repeating until temp is put into the last side.\n",
    "Alternatively - matrix[:] = list(map(list, zip(*matrix[::-1]))).  Reverse the order of row, unpack,\n",
    "zip and convert back to lists.\n",
    "- Time - O(n^2)\n",
    "- Space - O(1)"
   ]
  },
  {
   "cell_type": "code",
   "execution_count": null,
   "id": "4fec72e0",
   "metadata": {},
   "outputs": [],
   "source": [
    "class Solution(object):\n",
    "    def rotate(self, matrix):\n",
    "        \"\"\"\n",
    "        :type matrix: List[List[int]]\n",
    "        :rtype: void Do not return anything, modify matrix in-place instead.\n",
    "        \"\"\"\n",
    "        n = len(matrix)\n",
    "        layers = n//2\n",
    "\n",
    "        for layer in range(layers):\n",
    "            for i in range(layer, n - layer - 1):\n",
    "                temp = matrix[layer][i]\n",
    "                matrix[layer][i] = matrix[n - 1 - i][layer]\n",
    "                matrix[n - 1 - i][layer] = matrix[n - 1 - layer][n - 1- i]\n",
    "                matrix[n - 1 - layer][n - 1 - i] = matrix[i][n - 1 - layer]\n",
    "                matrix[i][n - 1 - layer] = temp"
   ]
  },
  {
   "cell_type": "code",
   "execution_count": null,
   "id": "9c42f94c",
   "metadata": {},
   "outputs": [],
   "source": [
    "matrix = [\n",
    "  [1,2,3],\n",
    "  [4,5,6],\n",
    "  [7,8,9]\n",
    "]\n",
    "\n",
    "matrix[::-1]"
   ]
  }
 ],
 "metadata": {
  "jupytext": {
   "formats": "ipynb,py"
  },
  "kernelspec": {
   "display_name": "Python 3",
   "language": "python",
   "name": "python3"
  }
 },
 "nbformat": 4,
 "nbformat_minor": 5
}
