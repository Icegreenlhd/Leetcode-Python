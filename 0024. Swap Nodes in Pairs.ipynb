{
 "cells": [
  {
   "cell_type": "markdown",
   "id": "e7dfa331",
   "metadata": {},
   "source": [
    "Given a linked list, swap every two adjacent nodes and return its head.\n",
    "\n",
    "You may not modify the values in the list's nodes, only nodes itself may be changed.\n",
    "\n",
    " \n",
    "\n",
    "Example:\n",
    "```\n",
    "Given 1->2->3->4, you should return the list as 2->1->4->3.\n",
    "```"
   ]
  },
  {
   "cell_type": "code",
   "execution_count": null,
   "id": "ae60fbb4",
   "metadata": {},
   "outputs": [],
   "source": [
    "# my solution 1\n",
    "# Definition for singly-linked list.\n",
    "\n",
    "\n",
    "class ListNode(object):\n",
    "    def __init__(self, x):\n",
    "        self.val = x\n",
    "        self.next = None\n",
    "\n",
    "\n",
    "class Solution(object):\n",
    "    def swapPairs(self, head):\n",
    "        \"\"\"\n",
    "        :type head: ListNode\n",
    "        :rtype: ListNode\n",
    "        \"\"\"\n",
    "\n",
    "        result = dummy = ListNode(None)\n",
    "        result.next = head\n",
    "        \n",
    "        while result.next and result.next.next:\n",
    "            p = result.next\n",
    "            q = result.next.next\n",
    "            \n",
    "            p.next = q.next\n",
    "            q.next = p\n",
    "            result.next = q\n",
    "            \n",
    "            result = result.next.next\n",
    "        \n",
    "        return dummy.next\n",
    "        "
   ]
  },
  {
   "cell_type": "code",
   "execution_count": null,
   "id": "feae450c",
   "metadata": {},
   "outputs": [],
   "source": [
    "_author_ = 'jake'\n",
    "_project_ = 'leetcode'\n",
    "\n",
    "# https://leetcode.com/problems/swap-nodes-in-pairs/\n",
    "# Given a linked list, swap every two adjacent nodes and return its head.\n",
    "# E.g. given 1->2->3->4, you should return the list as 2->1->4->3.\n",
    "# Your algorithm should use only constant space. You may not modify the values in the list, only nodes itself can be changed.\n",
    "\n",
    "# Store the previous node, swap and append in pairs.\n",
    "# Time - O(n)\n",
    "# Space - O(1)\n",
    "\n",
    "# Definition for singly-linked list.\n",
    "class ListNode(object):\n",
    "    def __init__(self, x):\n",
    "        self.val = x\n",
    "        self.next = None\n",
    "\n",
    "class Solution(object):\n",
    "    def swapPairs(self, head):\n",
    "        \"\"\"\n",
    "        :type head: ListNode\n",
    "        :rtype: ListNode\n",
    "        \"\"\"\n",
    "        prev = dummy = ListNode(None)\n",
    "\n",
    "        while head and head.next:\n",
    "            next_head = head.next.next\n",
    "            prev.next = head.next\n",
    "            head.next.next = head\n",
    "            prev = head\n",
    "            head = next_head\n",
    "\n",
    "        prev.next = head\n",
    "        return dummy.next"
   ]
  }
 ],
 "metadata": {
  "jupytext": {
   "formats": "ipynb,py"
  },
  "kernelspec": {
   "display_name": "Python 3",
   "language": "python",
   "name": "python3"
  }
 },
 "nbformat": 4,
 "nbformat_minor": 5
}
