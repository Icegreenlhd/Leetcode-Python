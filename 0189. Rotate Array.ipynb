{
 "cells": [
  {
   "cell_type": "code",
   "execution_count": null,
   "id": "3147c24c",
   "metadata": {},
   "outputs": [],
   "source": [
    "class Solution(object):  # time out\n",
    "    def rotate(self, nums, k):\n",
    "        \"\"\"\n",
    "        :type nums: List[int]\n",
    "        :type k: int\n",
    "        :rtype: None Do not return anything, modify nums in-place instead.\n",
    "        \"\"\"\n",
    "        for _ in range(k%len(nums)):\n",
    "            num = nums.pop()\n",
    "            nums.insert(0, num)\n",
    "        return nums\n",
    "        "
   ]
  },
  {
   "cell_type": "code",
   "execution_count": null,
   "id": "f0b86409",
   "metadata": {},
   "outputs": [],
   "source": [
    "class Solution(object):  # 思路是翻转数组\n",
    "    def rotate(self, nums, k):\n",
    "        \"\"\"\n",
    "        :type nums: List[int]\n",
    "        :type k: int\n",
    "        :rtype: None Do not return anything, modify nums in-place instead.\n",
    "        \"\"\"\n",
    "        def reverse(nums, i, j):\n",
    "            while i < j:\n",
    "                nums[i], nums[j] = nums[j], nums[i]\n",
    "                i += 1\n",
    "                j -= 1\n",
    "        k = k % len(nums)\n",
    "        reverse(nums, 0, len(nums)-1)\n",
    "        reverse(nums, 0, k-1)\n",
    "        reverse(nums, k, len(nums)-1)\n",
    "        return\n",
    "        "
   ]
  },
  {
   "cell_type": "code",
   "execution_count": null,
   "id": "3e92c541",
   "metadata": {},
   "outputs": [],
   "source": [
    "class Solution(object):  # 思路是替换内置\n",
    "    def rotate(self, nums, k):\n",
    "        \"\"\"\n",
    "        :type nums: List[int]\n",
    "        :type k: int\n",
    "        :rtype: None Do not return anything, modify nums in-place instead.\n",
    "        \"\"\"\n",
    "        k %= len(nums)\n",
    "        nums[:] = nums[-k:] + nums[:-k]\n",
    "        return\n",
    "        "
   ]
  },
  {
   "cell_type": "code",
   "execution_count": null,
   "id": "fdf1b9e5",
   "metadata": {},
   "outputs": [],
   "source": [
    "import unittest\n",
    "\n",
    "\n",
    "class LeetcodeTest(unittest.TestCase):\n",
    "    solution = getattr(Solution(), dir(Solution)[-1])\n",
    "\n",
    "    def test_case1(self):\n",
    "        test_input = ([1,2,3,4,5,6,7], 10)\n",
    "        test_output = [5,6,7,1,2,3,4]\n",
    "        self.solution(*test_input)\n",
    "        self.assertEqual(test_input[0], test_output)\n",
    "        \n",
    "    def test_case2(self):\n",
    "        test_input = ([-1,-100,3,99], 2)\n",
    "        test_output = [3,99,-1,-100]\n",
    "        self.solution(*test_input)\n",
    "        self.assertEqual(test_input[0], test_output)\n",
    "\n",
    "unittest.main(argv=['ignored', '-v'], exit=False)"
   ]
  }
 ],
 "metadata": {
  "kernelspec": {
   "display_name": "Python 3 (ipykernel)",
   "language": "python",
   "name": "python3"
  },
  "language_info": {
   "codemirror_mode": {
    "name": "ipython",
    "version": 3
   },
   "file_extension": ".py",
   "mimetype": "text/x-python",
   "name": "python",
   "nbconvert_exporter": "python",
   "pygments_lexer": "ipython3",
   "version": "3.9.7"
  }
 },
 "nbformat": 4,
 "nbformat_minor": 5
}
