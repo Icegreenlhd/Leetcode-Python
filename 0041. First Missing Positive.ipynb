{
 "cells": [
  {
   "cell_type": "markdown",
   "id": "31a84248",
   "metadata": {},
   "source": [
    "Given an unsorted integer array, find the smallest missing positive integer.\n",
    "\n",
    "Example 1:\n",
    "```\n",
    "Input: [1,2,0]\n",
    "Output: 3\n",
    "```\n",
    "Example 2:\n",
    "```\n",
    "Input: [3,4,-1,1]\n",
    "Output: 2\n",
    "```\n",
    "Example 3:\n",
    "```\n",
    "Input: [7,8,9,11,12]\n",
    "Output: 1\n",
    "```\n",
    "Note:\n",
    "\n",
    "Your algorithm should run in O(n) time and uses constant extra space."
   ]
  },
  {
   "cell_type": "markdown",
   "id": "2430087a",
   "metadata": {},
   "source": [
    "# my solution 1, 排序"
   ]
  },
  {
   "cell_type": "code",
   "execution_count": null,
   "id": "8ea84b2d",
   "metadata": {},
   "outputs": [],
   "source": [
    "class Solution(object):\n",
    "    def firstMissingPositive(self, nums):\n",
    "        \"\"\"\n",
    "        :type nums: List[int]\n",
    "        :rtype: int\n",
    "        \"\"\"\n",
    "        nums.sort()\n",
    "        m = 1\n",
    "        for i in nums:\n",
    "            if i == m:\n",
    "                m += 1\n",
    "        return m"
   ]
  },
  {
   "cell_type": "markdown",
   "id": "99cc58b7",
   "metadata": {},
   "source": [
    "# Jake's solution\n",
    "If an element of nums is a positive integer that could appear in nums (1 to len(nums) inclusive) and is not in\n",
    "correct place (nums[i] = i+1) then swap.\n",
    "- Time - O(n)\n",
    "- Space - O(1)"
   ]
  },
  {
   "cell_type": "code",
   "execution_count": null,
   "id": "4e856411",
   "metadata": {},
   "outputs": [],
   "source": [
    "class Solution(object):\n",
    "    def firstMissingPositive(self, nums):\n",
    "        \"\"\"\n",
    "        :type nums: List[int]\n",
    "        :rtype: int\n",
    "        \"\"\"\n",
    "        i = 0\n",
    "        while i < len(nums):\n",
    "\n",
    "            while nums[i] > 0 and nums[i] <= len(nums) and nums[nums[i]-1] != nums[i]:\n",
    "                temp = nums[nums[i]-1]\n",
    "                nums[nums[i]-1] = nums[i]\n",
    "                nums[i] = temp\n",
    "\n",
    "            i += 1\n",
    "\n",
    "        for i, num in enumerate(nums):\n",
    "            if nums[i] != i+1:\n",
    "                return i+1\n",
    "        return len(nums)+1"
   ]
  }
 ],
 "metadata": {
  "jupytext": {
   "formats": "ipynb,py"
  },
  "kernelspec": {
   "display_name": "Python 3",
   "language": "python",
   "name": "python3"
  }
 },
 "nbformat": 4,
 "nbformat_minor": 5
}
