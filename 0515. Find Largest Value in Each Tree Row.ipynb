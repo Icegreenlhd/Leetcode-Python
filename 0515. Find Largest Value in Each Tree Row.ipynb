{
 "cells": [
  {
   "cell_type": "code",
   "execution_count": null,
   "metadata": {},
   "outputs": [],
   "source": [
    "# BFS\n",
    "# Definition for a binary tree node.\n",
    "class TreeNode(object):\n",
    "    def __init__(self, val=0, left=None, right=None):\n",
    "        self.val = val\n",
    "        self.left = left\n",
    "        self.right = right\n",
    "class Solution(object):\n",
    "    def largestValues(self, root):\n",
    "        \"\"\"\n",
    "        :type root: TreeNode\n",
    "        :rtype: List[int]\n",
    "        \"\"\"\n",
    "        if root is None: return []\n",
    "        queue = [root]\n",
    "        ans = []\n",
    "        while len(queue) > 0:\n",
    "            st_tmp = []\n",
    "            m = queue[0].val\n",
    "            while len(queue) > 0:\n",
    "                r = queue.pop()\n",
    "                m = max(m, r.val)\n",
    "                if r.left is not None: st_tmp.append(r.left)\n",
    "                if r.right is not None: st_tmp.append(r.right)\n",
    "            ans.append(m)\n",
    "            queue = st_tmp\n",
    "        return ans\n",
    "\n"
   ]
  }
 ],
 "metadata": {
  "language_info": {
   "name": "python"
  },
  "orig_nbformat": 4
 },
 "nbformat": 4,
 "nbformat_minor": 2
}
