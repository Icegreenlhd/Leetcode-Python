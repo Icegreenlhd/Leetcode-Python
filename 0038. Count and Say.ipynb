{
 "cells": [
  {
   "cell_type": "markdown",
   "id": "fc70f408",
   "metadata": {},
   "source": [
    "The count-and-say sequence is the sequence of integers with the first five terms as following:\n",
    "```\n",
    "1.     1\n",
    "2.     11\n",
    "3.     21\n",
    "4.     1211\n",
    "5.     111221\n",
    "```\n",
    "`1 `is read off as `\"one 1\"` or `11`.\n",
    "\n",
    "`11` is read off as `\"two 1s\"` or `21`.\n",
    "\n",
    "`21` is read off as `\"one 2`, then `one 1\"` or `1211`.\n",
    "\n",
    "Given an integer n where 1 ≤ n ≤ 30, generate the $n^{th}$ term of the count-and-say sequence. You can do so recursively, in other words from the previous member read off the digits, counting the number of digits in groups of the same digit.\n",
    "\n",
    "Note: Each term of the sequence of integers will be represented as a string.\n",
    "\n",
    " \n",
    "\n",
    "Example 1:\n",
    "\n",
    "Input: 1\n",
    "Output: \"1\"\n",
    "Explanation: This is the base case.\n",
    "Example 2:\n",
    "\n",
    "Input: 4\n",
    "Output: \"1211\"\n",
    "Explanation: For n = 3 the term was \"21\" in which we have two groups \"2\" and \"1\", \"2\" can be read as \"12\" which means frequency = 1 and value = 2, the same way \"1\" is read as \"11\", so the answer is the concatenation of \"12\" and \"11\" which is \"1211\"."
   ]
  },
  {
   "cell_type": "markdown",
   "id": "745315e2",
   "metadata": {},
   "source": [
    "# my solution1 , recursively solved the problem"
   ]
  },
  {
   "cell_type": "code",
   "execution_count": null,
   "id": "e368debf",
   "metadata": {},
   "outputs": [],
   "source": [
    "class Solution(object):\n",
    "    def countAndSay(self, n):\n",
    "        \"\"\"\n",
    "        :type n: int\n",
    "        :rtype: str\n",
    "        \"\"\"\n",
    "        def say(i, s):\n",
    "            if i == n:\n",
    "                return s\n",
    "            count = 0\n",
    "            new_s = \"\"\n",
    "            num = s[0]\n",
    "            for number in s:\n",
    "                if number != num:\n",
    "                    new_s = new_s + str(count) + num\n",
    "                    num = number\n",
    "                    count = 0\n",
    "                count += 1\n",
    "            new_s = new_s + str(count) + num\n",
    "            return say(i+1, new_s)\n",
    "\n",
    "        return say(1, \"1\")"
   ]
  },
  {
   "cell_type": "code",
   "execution_count": null,
   "id": "697ca7a7",
   "metadata": {},
   "outputs": [],
   "source": [
    "n = 30\n",
    "solution = Solution()\n",
    "print(solution.countAndSay(n))"
   ]
  },
  {
   "cell_type": "markdown",
   "id": "386b91f1",
   "metadata": {},
   "source": [
    "# Jake's solution\n",
    "Iterate through the previous sequence.  When we see a different number, append [1, num] to the new sequence.\n",
    "When we see the same number increment its count.\n",
    "- Time - O(2^n), the sequence at worst doubles each step\n",
    "- Space - O(2^n)"
   ]
  },
  {
   "cell_type": "code",
   "execution_count": null,
   "id": "22a07886",
   "metadata": {},
   "outputs": [],
   "source": [
    "class Solution(object):\n",
    "    def countAndSay(self, n):\n",
    "        \"\"\"\n",
    "        :type n: int\n",
    "        :rtype: str\n",
    "        \"\"\"\n",
    "        sequence = [1]\n",
    "        for _ in range(n-1):\n",
    "            next = []\n",
    "            for num in sequence:\n",
    "                if not next or next[-1] != num:\n",
    "                    next += [1, num]\n",
    "                else:\n",
    "                    next[-2] += 1\n",
    "            sequence = next\n",
    "\n",
    "        return \"\".join(map(str, sequence))"
   ]
  },
  {
   "cell_type": "code",
   "execution_count": null,
   "id": "21be2a16",
   "metadata": {},
   "outputs": [],
   "source": [
    "import itertools\n",
    "list(itertools.starmap(pow,[(3,2),(111,1)]))"
   ]
  }
 ],
 "metadata": {
  "jupytext": {
   "formats": "ipynb,py"
  },
  "kernelspec": {
   "display_name": "Python 3",
   "language": "python",
   "name": "python3"
  }
 },
 "nbformat": 4,
 "nbformat_minor": 5
}
