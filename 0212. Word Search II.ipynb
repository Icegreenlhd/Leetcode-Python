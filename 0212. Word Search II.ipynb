{
 "cells": [
  {
   "cell_type": "code",
   "execution_count": null,
   "metadata": {},
   "outputs": [],
   "source": [
    "from collections import defaultdict\n",
    "dx = [-1, 1, 0, 0]\n",
    "dy = [0, 0, -1, 1]\n",
    "END_OF_WORD = \"#\"\n",
    "class Solution(object):\n",
    "    def findWords(self, board, words):\n",
    "        \"\"\"\n",
    "        :type board: List[List[str]]\n",
    "        :type words: List[str]\n",
    "        :rtype: List[str]\n",
    "        \"\"\"\n",
    "        if not board or not board[0]: return []\n",
    "        if not words: return []\n",
    "\n",
    "        self.result = set()\n",
    "        self.board = board\n",
    "        self.root = defaultdict()\n",
    "        for word in words:\n",
    "            node = self.root\n",
    "            for char in word:\n",
    "                node = node.setdefault(char, defaultdict())\n",
    "            node[END_OF_WORD] = END_OF_WORD\n",
    "\n",
    "        self.m, self.n = len(self.board), len(self.board[0])\n",
    "\n",
    "        for i in range(self.m):\n",
    "            for j in range(self.n):\n",
    "                if self.board[i][j] in self.root:\n",
    "                    self.dfs(i, j, \"\", self.root)\n",
    "        return self.result\n",
    "\n",
    "    def dfs(self, i, j, cur_word, cur_node):\n",
    "        cur_node = cur_node[self.board[i][j]]\n",
    "        cur_word += self.board[i][j]\n",
    "\n",
    "        if END_OF_WORD in cur_node:\n",
    "            self.result.add(cur_word)\n",
    "        \n",
    "        tmp, self.board[i][j] = self.board[i][j], \"@\"\n",
    "        for k in range(4):\n",
    "            ix, jy = i+dx[k], j+dy[k]\n",
    "            if (ix>=0 and ix<self.m) and (jy>=0 and jy<self.n) and self.board[ix][jy] != \"@\" and self.board[ix][jy] in cur_node:\n",
    "                    self.dfs(ix, jy, cur_word, cur_node)\n",
    "        self.board[i][j] = tmp\n"
   ]
  },
  {
   "cell_type": "code",
   "execution_count": null,
   "metadata": {},
   "outputs": [],
   "source": []
  }
 ],
 "metadata": {
  "language_info": {
   "name": "python"
  },
  "orig_nbformat": 4
 },
 "nbformat": 4,
 "nbformat_minor": 2
}
