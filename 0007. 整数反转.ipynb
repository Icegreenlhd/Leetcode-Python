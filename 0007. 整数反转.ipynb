{
 "cells": [
  {
   "cell_type": "markdown",
   "id": "e817e31e",
   "metadata": {},
   "source": [
    "给出一个 32 位的有符号整数，你需要将这个整数中每位上的数字进行反转。\n",
    "\n",
    "示例 1:\n",
    "\n",
    "输入: 123\n",
    "输出: 321\n",
    " 示例 2:\n",
    "\n",
    "输入: -123\n",
    "输出: -321\n",
    "示例 3:\n",
    "\n",
    "输入: 120\n",
    "输出: 21\n",
    "注意:\n",
    "\n",
    "假设我们的环境只能存储得下 32 位的有符号整数，则其数值范围为$[−2^{31},  2^{31} − 1]$。请根据这个假设，如果反转后整数溢出那么就返回 0。\n",
    "\n",
    "来源：力扣（LeetCode）\n",
    "链接：https://leetcode-cn.com/problems/reverse-integer\n",
    "著作权归领扣网络所有。商业转载请联系官方授权，非商业转载请注明出处。"
   ]
  },
  {
   "cell_type": "code",
   "execution_count": null,
   "id": "0ddb37fa",
   "metadata": {},
   "outputs": [],
   "source": [
    "# my solution 1\n",
    "class Solution(object):\n",
    "    def reverse(self, x):\n",
    "        \"\"\"\n",
    "        :type x: int\n",
    "        :rtype: int\n",
    "        \"\"\"\n",
    "        negative = -1 if x < 0 else 1\n",
    "        x = abs(x)\n",
    "        s = str(x)\n",
    "        s = s[::-1]\n",
    "        return int(s)*negative if abs(int(s)) <= 2**31 else 0"
   ]
  },
  {
   "cell_type": "code",
   "execution_count": null,
   "id": "63fc5ec0",
   "metadata": {},
   "outputs": [],
   "source": [
    "# Jake's solution\n",
    "class Solution(object):\n",
    "    def reverse(self, x):\n",
    "        \"\"\"\n",
    "        :type x: int\n",
    "        :rtype: int\n",
    "        \"\"\"\n",
    "        negative = x < 0    # record if negative and change to positive\n",
    "        x = abs(x)\n",
    "        reversed = 0\n",
    "\n",
    "        while x != 0:\n",
    "            reversed = reversed * 10 + x % 10\n",
    "            x //= 10\n",
    "\n",
    "        if reversed > 2**31 - 1:    # required to pass leetcode test cases, not applicable for python\n",
    "            return 0\n",
    "        return reversed if not negative else -reversed"
   ]
  },
  {
   "cell_type": "code",
   "execution_count": null,
   "id": "b6150b22",
   "metadata": {},
   "outputs": [],
   "source": [
    "# test\n",
    "x = -123\n",
    "solution = Solution()\n",
    "solution.reverse(x)"
   ]
  },
  {
   "cell_type": "code",
   "execution_count": null,
   "id": "680cd018",
   "metadata": {},
   "outputs": [],
   "source": [
    "# test\n",
    "x = 120\n",
    "solution = Solution()\n",
    "solution.reverse(x)"
   ]
  },
  {
   "cell_type": "code",
   "execution_count": null,
   "id": "a2f442fc",
   "metadata": {},
   "outputs": [],
   "source": [
    "# test\n",
    "x = 2**31 \n",
    "solution = Solution()\n",
    "solution.reverse(x)"
   ]
  },
  {
   "cell_type": "code",
   "execution_count": null,
   "id": "dd0fc38d",
   "metadata": {},
   "outputs": [],
   "source": [
    "2^30 -1"
   ]
  }
 ],
 "metadata": {
  "jupytext": {
   "formats": "ipynb,py"
  },
  "kernelspec": {
   "display_name": "Python 3",
   "language": "python",
   "name": "python3"
  }
 },
 "nbformat": 4,
 "nbformat_minor": 5
}
