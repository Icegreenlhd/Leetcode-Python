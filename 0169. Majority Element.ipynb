{
 "cells": [
  {
   "cell_type": "code",
   "execution_count": 7,
   "metadata": {},
   "outputs": [],
   "source": [
    "class Solution(object):\n",
    "    def majorityElement(self, nums):\n",
    "        \"\"\"\n",
    "        :type nums: List[int]\n",
    "        :rtype: int\n",
    "        \"\"\"\n",
    "        major = self.major(nums)\n",
    "        return major\n",
    "    \n",
    "    def major(self, nums):\n",
    "        size = len(nums)\n",
    "        if size == 1:\n",
    "            return nums[0]\n",
    "        left  = self.major(nums[:size//2])\n",
    "        right = self.major(nums[size//2:])\n",
    "        if left == right:\n",
    "            return left\n",
    "        else:\n",
    "            left_count = 0\n",
    "            right_count = 0\n",
    "            for n in nums:\n",
    "                if n == left:\n",
    "                    left_count += 1\n",
    "                elif n == right:\n",
    "                    right_count += 1\n",
    "            return left if left_count > right_count else right"
   ]
  },
  {
   "cell_type": "code",
   "execution_count": null,
   "metadata": {},
   "outputs": [],
   "source": [
    "class Solution:\n",
    "    def getMajority(self,nums,left,right):\n",
    "        if left == right:\n",
    "            return nums[left]\n",
    "\n",
    "        mid = (left + right) // 2\n",
    "        leftMajority = self.getMajority(nums,left,mid)\n",
    "        rightMajority = self.getMajority(nums,mid+1,right)\n",
    "\n",
    "        if leftMajority == rightMajority:\n",
    "            return leftMajority\n",
    "        else:\n",
    "            left_count = 0\n",
    "            right_count = 0\n",
    "            for i in nums[left:right+1]:\n",
    "                if i == leftMajority:\n",
    "                    left_count += 1\n",
    "                elif i == rightMajority:\n",
    "                    right_count += 1\n",
    "\n",
    "            return leftMajority if left_count > right_count else rightMajority\n",
    "\n",
    "    def majorityElement(self, nums):\n",
    "        return self.getMajority(nums,0,len(nums) - 1)"
   ]
  },
  {
   "cell_type": "code",
   "execution_count": 8,
   "metadata": {},
   "outputs": [
    {
     "name": "stderr",
     "output_type": "stream",
     "text": [
      "test_case1 (__main__.LeetcodeTest) ... ok\n",
      "\n",
      "----------------------------------------------------------------------\n",
      "Ran 1 test in 0.001s\n",
      "\n",
      "OK\n"
     ]
    },
    {
     "data": {
      "text/plain": [
       "<unittest.main.TestProgram at 0x7f04a6ada550>"
      ]
     },
     "execution_count": 8,
     "metadata": {},
     "output_type": "execute_result"
    }
   ],
   "source": [
    "import unittest\n",
    "\n",
    "\n",
    "class LeetcodeTest(unittest.TestCase):\n",
    "    solution = getattr(Solution(), dir(Solution)[-1])\n",
    "\n",
    "    def test_case1(self):\n",
    "        test_input = [3, 3, 4]\n",
    "        test_output = 3\n",
    "        self.assertEqual(self.solution(test_input), test_output)\n",
    "\n",
    "unittest.main(argv=['ignored', '-v'], exit=False)"
   ]
  }
 ],
 "metadata": {
  "interpreter": {
   "hash": "8f10c23deeb0cc051b43c04ce2b4596f0d971a59bcf6ff8a8b744177b024b55d"
  },
  "kernelspec": {
   "display_name": "Python 3.7.10 ('osfir')",
   "language": "python",
   "name": "python3"
  },
  "language_info": {
   "codemirror_mode": {
    "name": "ipython",
    "version": 3
   },
   "file_extension": ".py",
   "mimetype": "text/x-python",
   "name": "python",
   "nbconvert_exporter": "python",
   "pygments_lexer": "ipython3",
   "version": "3.7.10"
  },
  "orig_nbformat": 4
 },
 "nbformat": 4,
 "nbformat_minor": 2
}
