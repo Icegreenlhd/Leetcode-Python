{
 "cells": [
  {
   "cell_type": "code",
   "execution_count": null,
   "metadata": {},
   "outputs": [],
   "source": [
    "# 41 / 51, 超过时间限制, o(n^2)\n",
    "class Solution(object):\n",
    "    def countVowels(self, word):\n",
    "        \"\"\"\n",
    "        :type word: str\n",
    "        :rtype: int\n",
    "        \"\"\"\n",
    "        vowel = {'a', 'e', 'i', 'o', 'u'}\n",
    "        vc = [1 if ch in vowel else 0 for ch in word]\n",
    "        count = sum(vc)\n",
    "        rec = vc[:-1]\n",
    "        for i in range(1, len(word)):\n",
    "            tmp = []\n",
    "            for j in range(len(word)-i):\n",
    "                count += rec[j]+vc[j+i]\n",
    "                tmp.append(rec[j]+vc[j+i])\n",
    "            rec = tmp\n",
    "        return count"
   ]
  },
  {
   "cell_type": "code",
   "execution_count": null,
   "metadata": {},
   "outputs": [],
   "source": [
    "# 动态规划, 36 / 51, 超时, o(n^2)\n",
    "class Solution(object):\n",
    "    def countVowels(self, word):\n",
    "        \"\"\"\n",
    "        :type word: str\n",
    "        :rtype: int\n",
    "        \"\"\"\n",
    "        vowel = {'a', 'e', 'i', 'o', 'u'}\n",
    "        dp = [[0 for _ in word] for _ in word]\n",
    "        count = 0\n",
    "        for i, ch in enumerate(word):\n",
    "            if ch in vowel:\n",
    "                dp[i][i] = 1\n",
    "                count += 1\n",
    "        for i in range(1, len(word)):\n",
    "            for j in range(i-1, -1, -1):\n",
    "                dp[i][j] = dp[i-1][j]+dp[i][i]\n",
    "                count += dp[i][j]\n",
    "        return count\n",
    "            "
   ]
  },
  {
   "cell_type": "code",
   "execution_count": null,
   "metadata": {},
   "outputs": [],
   "source": [
    "# 动态规划, 以i结尾的元音数量, o(n)\n",
    "class Solution(object):\n",
    "    def countVowels(self, word):\n",
    "        \"\"\"\n",
    "        :type word: str\n",
    "        :rtype: int\n",
    "        \"\"\"\n",
    "        res = a = 0\n",
    "        for i in range(len(word)):\n",
    "            a += (i+1 if word[i] in 'aeiou' else 0)\n",
    "            res += a\n",
    "        return res"
   ]
  },
  {
   "cell_type": "code",
   "execution_count": null,
   "metadata": {},
   "outputs": [],
   "source": [
    "# 对偶性质, 等价于包含第i个元音字符的字串个数, o(n)\n",
    "class Solution(object):\n",
    "    def countVowels(self, word):\n",
    "        \"\"\"\n",
    "        :type word: str\n",
    "        :rtype: int\n",
    "        \"\"\"\n",
    "        vowel = {'a', 'e', 'i', 'o', 'u'}\n",
    "        count = 0\n",
    "        for i, ch in enumerate(word):\n",
    "            if ch in vowel:\n",
    "                count += (i+1) * (len(word)-i) \n",
    "        return count\n"
   ]
  },
  {
   "cell_type": "code",
   "execution_count": null,
   "metadata": {},
   "outputs": [],
   "source": [
    "import unittest\n",
    "\n",
    "\n",
    "class LeetcodeTest(unittest.TestCase):\n",
    "    solution = getattr(Solution(), dir(Solution)[-1])\n",
    "\n",
    "    def test_case1(self):\n",
    "        test_input = \"aba\"\n",
    "        test_output = 6\n",
    "        self.assertEqual(self.solution(test_input), test_output)\n",
    "\n",
    "unittest.main(argv=['ignored', '-v'], exit=False)"
   ]
  }
 ],
 "metadata": {
  "interpreter": {
   "hash": "8f10c23deeb0cc051b43c04ce2b4596f0d971a59bcf6ff8a8b744177b024b55d"
  },
  "kernelspec": {
   "display_name": "Python 3.7.10 ('osfir')",
   "language": "python",
   "name": "python3"
  },
  "language_info": {
   "codemirror_mode": {
    "name": "ipython",
    "version": 3
   },
   "file_extension": ".py",
   "mimetype": "text/x-python",
   "name": "python",
   "nbconvert_exporter": "python",
   "pygments_lexer": "ipython3",
   "version": "3.7.10"
  },
  "orig_nbformat": 4
 },
 "nbformat": 4,
 "nbformat_minor": 2
}
