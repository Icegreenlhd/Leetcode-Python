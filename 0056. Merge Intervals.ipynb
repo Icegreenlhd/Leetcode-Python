{
 "cells": [
  {
   "cell_type": "markdown",
   "id": "580d7ed9",
   "metadata": {
    "lines_to_next_cell": 2
   },
   "source": [
    "### Medium  \n",
    "Given a collection of intervals, merge all overlapping intervals.\n",
    "\n",
    "Example 1:\n",
    "\n",
    "Input: intervals = [[1,3],[2,6],[8,10],[15,18]]  \n",
    "Output: [[1,6],[8,10],[15,18]]  \n",
    "Explanation: Since intervals [1,3] and [2,6] overlaps, merge them into [1,6].  \n",
    "Example 2:  \n",
    "\n",
    "Input: intervals = [[1,4],[4,5]]  \n",
    "Output: [[1,5]]  \n",
    "Explanation: Intervals [1,4] and [4,5] are considered overlapping.  \n",
    "NOTE: input types have been changed on April 15, 2019. Please reset to default code definition to get new method signature.  \n",
    "\n",
    "Constraints:  \n",
    "\n",
    "intervals[i][0] <= intervals[i][1]\n"
   ]
  },
  {
   "cell_type": "code",
   "execution_count": null,
   "id": "5f930298",
   "metadata": {
    "lines_to_next_cell": 2
   },
   "outputs": [],
   "source": [
    "# my solution\n",
    "class Solution(object):\n",
    "    def merge(self, intervals):\n",
    "        \"\"\"\n",
    "        :type intervals: List[List[int]]\n",
    "        :rtype: List[List[int]]\n",
    "        \"\"\""
   ]
  }
 ],
 "metadata": {
  "jupytext": {
   "formats": "ipynb,py"
  },
  "kernelspec": {
   "display_name": "Python 3",
   "language": "python",
   "name": "python3"
  }
 },
 "nbformat": 4,
 "nbformat_minor": 5
}
