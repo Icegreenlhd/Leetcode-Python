{
 "cells": [
  {
   "cell_type": "markdown",
   "id": "5d193649",
   "metadata": {},
   "source": [
    "Implement next permutation, which rearranges numbers into the lexicographically next greater permutation of numbers.\n",
    "\n",
    "If such arrangement is not possible, it must rearrange it as the lowest possible order (ie, sorted in ascending order).\n",
    "\n",
    "The replacement must be in-place and use only constant extra memory.\n",
    "\n",
    "Here are some examples. Inputs are in the left-hand column and its corresponding outputs are in the right-hand column.\n",
    "```\n",
    "1,2,3 → 1,3,2\n",
    "3,2,1 → 1,2,3\n",
    "1,1,5 → 1,5,1\n",
    "```"
   ]
  },
  {
   "cell_type": "code",
   "execution_count": null,
   "id": "fcf5ad6a",
   "metadata": {},
   "outputs": [],
   "source": [
    "# my solution 1, \n",
    "class Solution(object):\n",
    "    def nextPermutation(self, nums):\n",
    "        \"\"\"\n",
    "        :type nums: List[int]\n",
    "        :rtype: None Do not return anything, modify nums in-place instead.\n",
    "        \"\"\"\n",
    "\n",
    "        if not nums:\n",
    "            return\n",
    "\n",
    "        margin = len(nums) - 1  # 找到临界数，margin-1\n",
    "        while margin > 0 and nums[margin] <= nums[margin - 1]:\n",
    "            margin -= 1\n",
    "\n",
    "        if margin == 0:\n",
    "            nums.sort()\n",
    "            return\n",
    "\n",
    "        right = len(nums) - 1  # 找到临界右侧最小的大于临界数\n",
    "        while right > margin and nums[right] <= nums[margin - 1]:\n",
    "            right -= 1\n",
    "\n",
    "        nums[margin-1], nums[right] = nums[right], nums[margin-1]\n",
    "        nums[margin:] = sorted(nums[margin:])\n",
    "        return"
   ]
  },
  {
   "cell_type": "code",
   "execution_count": null,
   "id": "f9637a94",
   "metadata": {},
   "outputs": [],
   "source": [
    "# my solution 2,simple modify\n",
    "class Solution(object):\n",
    "    def nextPermutation(self, nums):\n",
    "        \"\"\"\n",
    "        :type nums: List[int]\n",
    "        :rtype: None Do not return anything, modify nums in-place instead.\n",
    "        \"\"\"\n",
    "\n",
    "        if not nums:\n",
    "            return\n",
    "\n",
    "        margin = len(nums) - 1  # 找到临界数，margin-1\n",
    "        while margin > 0 and nums[margin] <= nums[margin - 1]:\n",
    "            margin -= 1\n",
    "\n",
    "        if margin > 0:\n",
    "            right = len(nums) - 1  # 找到临界右侧最小的大于临界数\n",
    "            while right > margin and nums[right] <= nums[margin - 1]:\n",
    "                right -= 1\n",
    "            nums[margin-1], nums[right] = nums[right], nums[margin-1]\n",
    "        nums[margin:] = reversed(nums[margin:])\n",
    "        return"
   ]
  },
  {
   "cell_type": "code",
   "execution_count": null,
   "id": "fc00f50d",
   "metadata": {},
   "outputs": [],
   "source": [
    "_author_ = 'jake'\n",
    "_project_ = 'leetcode'\n",
    "\n",
    "# https://leetcode.com/problems/next-permutation/\n",
    "# Implement next permutation, which rearranges numbers into the lexicographically next greater permutation of numbers.\n",
    "# If such arrangement is not possible, it must rearrange it as the lowest possible order (ie, sorted in ascending order).\n",
    "# The replacement must be in-place, do not allocate extra memory.\n",
    "\n",
    "# Starting from the last number, move forward to find the first decrease nums[i].\n",
    "# Find the smallest number bigger than nums[i], nums[j]. Swap nums[i] and nums[j].\n",
    "# Reverse all from i+1 onwards, or whole array if no decrease found in first step.\n",
    "# Time - O(n)\n",
    "# Space - O(1)\n",
    "\n",
    "class Solution(object):\n",
    "    def nextPermutation(self, nums):\n",
    "        \"\"\"\n",
    "        :type nums: List[int]\n",
    "        :rtype: void Do not return anything, modify nums in-place instead.\n",
    "        \"\"\"\n",
    "        if not nums or len(nums) == 1:\n",
    "            return\n",
    "\n",
    "        i = len(nums)-2     # starting at back, find the first decrease - increasing it will increment the permutation\n",
    "        while i >= 0 and nums[i] >= nums[i+1]:\n",
    "            i -= 1\n",
    "\n",
    "        if i != -1:         # if any decrease then find the smallest larger number to swap with\n",
    "            j = i+1\n",
    "            while j < len(nums) and nums[j] > nums[i]:\n",
    "                j += 1\n",
    "            j -= 1\n",
    "            nums[i], nums[j] = nums[j], nums[i]\n",
    "\n",
    "        # reverse all from i+1 onwards since they were decreasing and increasing minimises permutation\n",
    "        left = i+1\n",
    "        right = len(nums)-1\n",
    "        while left < right:\n",
    "            nums[left], nums[right] = nums[right], nums[left]\n",
    "            left += 1\n",
    "            right -= 1"
   ]
  },
  {
   "cell_type": "code",
   "execution_count": null,
   "id": "c44270d5",
   "metadata": {},
   "outputs": [],
   "source": [
    "nums = [1,5,1]\n",
    "solution = Solution()\n",
    "solution.nextPermutation(nums)\n",
    "nums"
   ]
  },
  {
   "cell_type": "code",
   "execution_count": null,
   "id": "54fd9731",
   "metadata": {},
   "outputs": [],
   "source": [
    "array = [2,3,2,1]\n",
    "array\n",
    "a = array[1:]\n",
    "a.reverse()\n",
    "array[1:] = a\n",
    "array"
   ]
  }
 ],
 "metadata": {
  "jupytext": {
   "formats": "ipynb,py"
  },
  "kernelspec": {
   "display_name": "Python 3",
   "language": "python",
   "name": "python3"
  }
 },
 "nbformat": 4,
 "nbformat_minor": 5
}
