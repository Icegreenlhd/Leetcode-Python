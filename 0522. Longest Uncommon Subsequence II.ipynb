{
 "cells": [
  {
   "cell_type": "code",
   "execution_count": null,
   "metadata": {},
   "outputs": [],
   "source": [
    "class Solution(object):\n",
    "    def findLUSlength(self, strs):\n",
    "        \"\"\"\n",
    "        :type strs: List[str]\n",
    "        :rtype: int\n",
    "        \"\"\"\n",
    "        self.strs = strs\n",
    "        ans = -1\n",
    "        for i, str1 in enumerate(strs):\n",
    "            check = True\n",
    "            for j, str2 in enumerate(strs):\n",
    "                if i != j:\n",
    "                    if self._findSpStr(str1, str2):\n",
    "                        check = False\n",
    "                        break\n",
    "            if check:\n",
    "                ans = max(ans, len(str1))\n",
    "        return ans\n",
    "\n",
    "\n",
    "    def _findSpStr(self, str1, str2):\n",
    "        ind1, ind2 = 0, 0\n",
    "        while ind1 < len(str1) and ind2 < len(str2):\n",
    "            if str1[ind1] == str2[ind2]:\n",
    "                ind1+=1\n",
    "            ind2 += 1\n",
    "        return ind1 == len(str1)\n"
   ]
  }
 ],
 "metadata": {
  "language_info": {
   "name": "python"
  },
  "orig_nbformat": 4
 },
 "nbformat": 4,
 "nbformat_minor": 2
}
