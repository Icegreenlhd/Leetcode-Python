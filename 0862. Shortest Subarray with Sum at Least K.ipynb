{
 "cells": [
  {
   "cell_type": "code",
   "execution_count": null,
   "metadata": {},
   "outputs": [],
   "source": [
    "# dp 找最大值, 进而找大于k值, 82/97\n",
    "class Solution(object):\n",
    "    def shortestSubarray(self, nums, k):\n",
    "        \"\"\"\n",
    "        :type nums: List[int]\n",
    "        :type k: int\n",
    "        :rtype: int\n",
    "        \"\"\"\n",
    "        dp = [-float(\"inf\") for _ in nums]\n",
    "        m = float('inf')\n",
    "        for i in range(len(nums)):\n",
    "            dp[i] = max(dp[i-1], 0) + nums[i] if i > 0 else nums[0]\n",
    "            if dp[i] >= k:\n",
    "                count = 0\n",
    "                s = 0\n",
    "                while count < m and s < k:\n",
    "                    s += nums[i-count]\n",
    "                    count += 1\n",
    "                m = count\n",
    "        return m if m != float('inf') else -1"
   ]
  },
  {
   "cell_type": "code",
   "execution_count": null,
   "metadata": {},
   "outputs": [],
   "source": [
    "import collections\n",
    "# 滑动窗口\n",
    "class Solution(object):\n",
    "    def shortestSubarray(self, nums, k):\n",
    "        \"\"\"\n",
    "        :type nums: List[int]\n",
    "        :type k: int\n",
    "        :rtype: int\n",
    "        \"\"\"\n",
    "        n = len(nums)\n",
    "        p = [0]\n",
    "        for x in nums:\n",
    "            p.append(x+p[-1])\n",
    "\n",
    "        ans = n+1\n",
    "        deque = collections.deque()\n",
    "        for y, py in enumerate(p):\n",
    "            while deque and py <= p[deque[-1]]:\n",
    "                deque.pop()\n",
    "\n",
    "            while deque and py - p[deque[0]] >= k:\n",
    "                ans = min(ans, y-deque.popleft())\n",
    "            \n",
    "            deque.append(y)\n",
    "        return ans if ans < n+1 else -1\n"
   ]
  }
 ],
 "metadata": {
  "language_info": {
   "name": "python"
  },
  "orig_nbformat": 4
 },
 "nbformat": 4,
 "nbformat_minor": 2
}
