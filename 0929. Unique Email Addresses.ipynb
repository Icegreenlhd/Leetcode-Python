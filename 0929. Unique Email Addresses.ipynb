{
 "cells": [
  {
   "cell_type": "code",
   "execution_count": null,
   "metadata": {},
   "outputs": [],
   "source": [
    "class Solution(object):\n",
    "    def numUniqueEmails(self, emails):\n",
    "        \"\"\"\n",
    "        :type emails: List[str]\n",
    "        :rtype: int\n",
    "        \"\"\"\n",
    "        self.e = set()\n",
    "        for email in emails:\n",
    "            self.dealEmail(email)\n",
    "        return len(self.e)\n",
    "\n",
    "    def dealEmail(self, email):\n",
    "        parts = email.split(\"@\")\n",
    "        # p1 = parts[0]\n",
    "        p1 = \"\"\n",
    "        for ch in parts[0]:\n",
    "            if ch == \"+\":\n",
    "                break\n",
    "            if ch == \".\":\n",
    "                continue\n",
    "            p1 += ch\n",
    "        self.e.add(p1+\"@\"+parts[1])\n"
   ]
  }
 ],
 "metadata": {
  "interpreter": {
   "hash": "8f10c23deeb0cc051b43c04ce2b4596f0d971a59bcf6ff8a8b744177b024b55d"
  },
  "kernelspec": {
   "display_name": "Python 3.7.10 ('osfir')",
   "language": "python",
   "name": "python3"
  },
  "language_info": {
   "codemirror_mode": {
    "name": "ipython",
    "version": 3
   },
   "file_extension": ".py",
   "mimetype": "text/x-python",
   "name": "python",
   "nbconvert_exporter": "python",
   "pygments_lexer": "ipython3",
   "version": "3.7.10"
  },
  "orig_nbformat": 4
 },
 "nbformat": 4,
 "nbformat_minor": 2
}
