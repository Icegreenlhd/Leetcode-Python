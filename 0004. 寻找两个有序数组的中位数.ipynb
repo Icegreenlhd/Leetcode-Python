{
 "cells": [
  {
   "cell_type": "markdown",
   "id": "a41b5bfd",
   "metadata": {},
   "source": [
    "给定两个大小为 m 和 n 的有序数组 nums1 和 nums2。\n",
    "\n",
    "请你找出这两个有序数组的中位数，并且要求算法的时间复杂度为 O(log(m + n))。\n",
    "\n",
    "你可以假设 nums1 和 nums2 不会同时为空。\n",
    "\n",
    "示例 1:\n",
    "\n",
    "nums1 = [1, 3]\n",
    "nums2 = [2]\n",
    "\n",
    "则中位数是 2.0\n",
    "示例 2:\n",
    "\n",
    "nums1 = [1, 2]\n",
    "nums2 = [3, 4]\n",
    "\n",
    "则中位数是 (2 + 3)/2 = 2.5\n",
    "\n",
    "来源：力扣（LeetCode）\n",
    "链接：https://leetcode-cn.com/problems/median-of-two-sorted-arrays\n",
    "著作权归领扣网络所有。商业转载请联系官方授权，非商业转载请注明出处。"
   ]
  },
  {
   "cell_type": "code",
   "execution_count": null,
   "id": "6582d010",
   "metadata": {},
   "outputs": [],
   "source": [
    "# my result, not complete by myself, copy the idea and the implement code of Jack\n",
    "class Solution(object):\n",
    "    def findMedianSortedArrays(self, nums1, nums2):\n",
    "        \"\"\"\n",
    "        :type nums1: List[int]\n",
    "        :type nums2: List[int]\n",
    "        :rtype: float\n",
    "        \"\"\"\n",
    "        def get_median(start1, start2, k):\n",
    "            assert k > 0, \"k smaller than zero\"\n",
    "            assert k <= len(nums1) - start1 + len(nums2) - \\\n",
    "                start2, \"k too large\"\n",
    "            if start1 >= len(nums1):\n",
    "                return nums2[start2 + k - 1]\n",
    "            if start2 >= len(nums2):\n",
    "                return nums1[start1 + k - 1]\n",
    "            if k == 1:\n",
    "                return min(nums1[start1], nums2[start2])\n",
    "\n",
    "            mid1, mid2 = float('inf'), float('inf')\n",
    "            if k // 2 + start1 - 1 < len(nums1):\n",
    "                mid1 = nums1[k // 2 + start1 - 1]\n",
    "            if k // 2 + start2 - 1 < len(nums2):\n",
    "                mid2 = nums2[k // 2 + start2 - 1]\n",
    "\n",
    "            if mid1 < mid2:\n",
    "                return get_median(start1 + k//2, start2, k - k//2)\n",
    "            return get_median(start1, start2 + k//2, k - k//2)\n",
    "        len1 = len(nums1)\n",
    "        len2 = len(nums2)\n",
    "        length = len1+len2\n",
    "        right = get_median(0, 0, length//2+1)\n",
    "        if length % 2:\n",
    "            return right\n",
    "        left = get_median(0, 0, length // 2)\n",
    "        return (right + left) / 2.0"
   ]
  },
  {
   "cell_type": "code",
   "execution_count": null,
   "id": "51902955",
   "metadata": {},
   "outputs": [],
   "source": [
    "nums1 = [1,2,5]\n",
    "nums2 = [3]\n",
    "solution = Solution()\n",
    "solution.findMedianSortedArrays(nums1, nums2)"
   ]
  },
  {
   "cell_type": "code",
   "execution_count": null,
   "id": "f52b6cef",
   "metadata": {},
   "outputs": [],
   "source": [
    "nums1 = []\n",
    "nums2 = []\n",
    "solution = Solution()\n",
    "solution.findMedianSortedArrays(nums1, nums2)"
   ]
  }
 ],
 "metadata": {
  "jupytext": {
   "formats": "ipynb,py"
  },
  "kernelspec": {
   "display_name": "Python 3",
   "language": "python",
   "name": "python3"
  }
 },
 "nbformat": 4,
 "nbformat_minor": 5
}
