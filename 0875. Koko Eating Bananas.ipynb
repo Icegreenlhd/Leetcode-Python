{
 "cells": [
  {
   "cell_type": "code",
   "execution_count": null,
   "metadata": {},
   "outputs": [],
   "source": [
    "# 穷举时间法, X\n",
    "class Solution(object):\n",
    "    def minEatingSpeed(self, piles, h):\n",
    "        \"\"\"\n",
    "        :type piles: List[int]\n",
    "        :type h: int\n",
    "        :rtype: int\n",
    "        \"\"\"\n",
    "        if len(piles) == h:\n",
    "            return max(piles)\n",
    "        self.piles = piles\n",
    "        self.piles.sort()\n",
    "        im = 1\n",
    "        for n, p in enumerate(self.piles):\n",
    "            cnt = self.count_hour(p)\n",
    "            if cnt == h:\n",
    "                return p\n",
    "            if cnt < h:\n",
    "                break\n",
    "            im = p\n",
    "        # print(im, cnt)\n",
    "        for p in range(im, self.piles[n]):\n",
    "            res = self.count_hour(p)\n",
    "            if res <= h:\n",
    "                return p\n",
    "\n",
    "    def count_hour(self, p):\n",
    "        cnt = 0\n",
    "        for i in self.piles:\n",
    "            cnt += i//p+1 if i%p else i//p\n",
    "        return cnt            "
   ]
  },
  {
   "cell_type": "code",
   "execution_count": null,
   "metadata": {},
   "outputs": [],
   "source": [
    "# 二分查找法\n",
    "class Solution(object):\n",
    "    def minEatingSpeed(self, piles, h):\n",
    "        \"\"\"\n",
    "        :type piles: List[int]\n",
    "        :type h: int\n",
    "        :rtype: int\n",
    "        \"\"\"\n",
    "        piles.sort()\n",
    "        self.piles = piles\n",
    "        self.h = h\n",
    "        return self.bisearch(0, max(piles))\n",
    "        \n",
    "    def bisearch(self, l, r):\n",
    "        if l >= r:\n",
    "            return r\n",
    "        speed = (l+r)>>1\n",
    "        if speed == 0 or self.count_hour(speed) > self.h:\n",
    "            return self.bisearch(speed+1, r)\n",
    "        else:\n",
    "            return self.bisearch(l, speed)\n",
    "        \n",
    "    def count_hour(self, p):\n",
    "        cnt = 0\n",
    "        for i in self.piles:\n",
    "            cnt += i//p+1 if i%p else i//p\n",
    "        return cnt\n"
   ]
  },
  {
   "cell_type": "code",
   "execution_count": null,
   "metadata": {},
   "outputs": [],
   "source": [
    "# 二分查找法\n",
    "class Solution(object):\n",
    "    def minEatingSpeed(self, piles, h):\n",
    "        \"\"\"\n",
    "        :type piles: List[int]\n",
    "        :type h: int\n",
    "        :rtype: int\n",
    "        \"\"\"\n",
    "        l, r = 1, max(piles)\n",
    "        while l < r:\n",
    "            mid = (l + r) // 2\n",
    "            cnt = sum([(x+mid-1)//mid for x in piles])\n",
    "            if cnt <= h:\n",
    "                r = mid\n",
    "            else:\n",
    "                l = mid+1\n",
    "        return r"
   ]
  },
  {
   "cell_type": "code",
   "execution_count": null,
   "metadata": {},
   "outputs": [],
   "source": [
    "import unittest\n",
    "\n",
    "\n",
    "class LeetcodeTest(unittest.TestCase):\n",
    "    solution = getattr(Solution(), dir(Solution)[-1])\n",
    "\n",
    "    def test_case1(self):\n",
    "        test_input = ([3,6,7,11], 8)\n",
    "        test_output = 4\n",
    "        self.assertEqual(self.solution(*test_input), test_output)\n",
    "\n",
    "    def test_case2(self):\n",
    "        test_input = ([312884470], 312884469)\n",
    "        test_output = 2\n",
    "        self.assertEqual(self.solution(*test_input), test_output)\n",
    "    \n",
    "\n",
    "\n",
    "unittest.main(argv=['ignored', '-v'], exit=False)"
   ]
  }
 ],
 "metadata": {
  "interpreter": {
   "hash": "8f10c23deeb0cc051b43c04ce2b4596f0d971a59bcf6ff8a8b744177b024b55d"
  },
  "kernelspec": {
   "display_name": "Python 3.7.10 ('osfir')",
   "language": "python",
   "name": "python3"
  },
  "language_info": {
   "codemirror_mode": {
    "name": "ipython",
    "version": 3
   },
   "file_extension": ".py",
   "mimetype": "text/x-python",
   "name": "python",
   "nbconvert_exporter": "python",
   "pygments_lexer": "ipython3",
   "version": "3.7.10"
  },
  "orig_nbformat": 4
 },
 "nbformat": 4,
 "nbformat_minor": 2
}
