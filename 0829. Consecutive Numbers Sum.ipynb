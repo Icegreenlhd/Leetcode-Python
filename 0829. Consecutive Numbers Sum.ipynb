{
 "cells": [
  {
   "cell_type": "code",
   "execution_count": null,
   "metadata": {},
   "outputs": [],
   "source": [
    "# 数学方法，分奇偶情况 \n",
    "class Solution(object):\n",
    "    def consecutiveNumbersSum(self, n):\n",
    "        \"\"\"\n",
    "        :type n: int\n",
    "        :rtype: int\n",
    "        \"\"\"\n",
    "        ans = 0\n",
    "        k = 1\n",
    "        while k*(k+1) <= n*2:\n",
    "            if self.isKconsecutive(n, k):\n",
    "                ans += 1\n",
    "            k += 1\n",
    "        return ans\n",
    "\n",
    "    def isKconsecutive(self, n, k):\n",
    "        if k % 2:\n",
    "            return n%k == 0\n",
    "        return n%k and 2*n%k==0"
   ]
  }
 ],
 "metadata": {
  "language_info": {
   "name": "python"
  },
  "orig_nbformat": 4
 },
 "nbformat": 4,
 "nbformat_minor": 2
}
