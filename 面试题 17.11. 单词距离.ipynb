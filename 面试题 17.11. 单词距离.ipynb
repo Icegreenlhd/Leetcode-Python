{
 "cells": [
  {
   "cell_type": "code",
   "execution_count": null,
   "metadata": {},
   "outputs": [],
   "source": [
    "# 双指针\n",
    "class Solution(object):\n",
    "    def findClosest(self, words, word1, word2):\n",
    "        \"\"\"\n",
    "        :type words: List[str]\n",
    "        :type word1: str\n",
    "        :type word2: str\n",
    "        :rtype: int\n",
    "        \"\"\"\n",
    "        if word1 == word2: return 0\n",
    "        w1, w2 = [], []\n",
    "        for i, w in enumerate(words):\n",
    "            if w == word1:\n",
    "                w1.append(i)\n",
    "            if w == word2:\n",
    "                w2.append(i)\n",
    "        if len(w1) <= 0 or len(w2) <= 0:\n",
    "            return -1\n",
    "        p1, p2 = 0, 0\n",
    "        m = float('inf')\n",
    "        while p1 < len(w1) and p2 < len(w2):\n",
    "            m = min(abs(w1[p1]-w2[p2]), m)\n",
    "            if w1[p1] < w2[p2]:\n",
    "                p1 += 1\n",
    "            elif w1[p1] >= w2[p2]:\n",
    "                p2 += 1\n",
    "        return m\n"
   ]
  },
  {
   "cell_type": "code",
   "execution_count": null,
   "metadata": {},
   "outputs": [],
   "source": [
    "# 双指针\n",
    "class Solution(object):\n",
    "    def findClosest(self, words, word1, word2):\n",
    "        \"\"\"\n",
    "        :type words: List[str]\n",
    "        :type word1: str\n",
    "        :type word2: str\n",
    "        :rtype: int\n",
    "        \"\"\"\n",
    "        if word1 == word2: return 0\n",
    "        p1, p2 = -1, -1\n",
    "        m = float('inf')\n",
    "        for i, w in enumerate(words):\n",
    "            if w == word1:\n",
    "                p1 = i\n",
    "            if w == word2:\n",
    "                p2 = i\n",
    "            if p1 > 0 and p2 > 0:\n",
    "                m = min(m, abs(p1-p2))\n",
    "        return m\n"
   ]
  }
 ],
 "metadata": {
  "language_info": {
   "name": "python"
  },
  "orig_nbformat": 4
 },
 "nbformat": 4,
 "nbformat_minor": 2
}
